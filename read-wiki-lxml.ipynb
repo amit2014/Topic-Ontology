{
 "cells": [
  {
   "cell_type": "markdown",
   "metadata": {},
   "source": [
    "## Preparing Wiki Data \n",
    "- Reading the wiki dump (from simple English Wiki, found at: [Simple English, 1/7/16](https://dumps.wikimedia.org/simplewiki/20160701/simplewiki-20160701-pages-articles-multistream.xml.bz2)\n",
    "- Parses the xml tree, picking actual articles.\n",
    "- From the total articles, we select 10K.\n",
    "- Makes a Pandas data frame with the text of these articles.\n"
   ]
  },
  {
   "cell_type": "code",
   "execution_count": 2,
   "metadata": {
    "collapsed": true
   },
   "outputs": [],
   "source": [
    "NumberOfArticles = 10000\n",
    "import pandas as pd\n",
    "import numpy as np\n",
    "import xml.etree.ElementTree as ET\n",
    "#from lxml import objectify"
   ]
  },
  {
   "cell_type": "code",
   "execution_count": 3,
   "metadata": {
    "collapsed": false
   },
   "outputs": [],
   "source": [
    "# takes a while\n",
    "tree = ET.parse('simplewiki-20160701-pages-articles-multistream.xml') "
   ]
  },
  {
   "cell_type": "code",
   "execution_count": 4,
   "metadata": {
    "collapsed": false
   },
   "outputs": [
    {
     "name": "stdout",
     "output_type": "stream",
     "text": [
      "{http://www.w3.org/2001/XMLSchema-instance}schemaLocation = 'http://www.mediawiki.org/xml/export-0.10/ http://www.mediawiki.org/xml/export-0.10.xsd'\n",
      "version = '0.10'\n",
      "{http://www.w3.org/XML/1998/namespace}lang = 'en'\n"
     ]
    }
   ],
   "source": [
    "root = tree.getroot()\n",
    "#print(root)\n",
    "#print(root.attrib)\n",
    "#print(root.tag)\n",
    "for name, value in root.items():\n",
    "    print('%s = %r' % (name, value))"
   ]
  },
  {
   "cell_type": "code",
   "execution_count": 5,
   "metadata": {
    "collapsed": false
   },
   "outputs": [
    {
     "name": "stdout",
     "output_type": "stream",
     "text": [
      "total number of articles, uncleaned: 220584.\n"
     ]
    }
   ],
   "source": [
    "children = root.getchildren()\n",
    "print ('total number of articles, uncleaned: %i.' % (len(children)) )"
   ]
  },
  {
   "cell_type": "code",
   "execution_count": 6,
   "metadata": {
    "collapsed": false,
    "scrolled": true
   },
   "outputs": [
    {
     "name": "stdout",
     "output_type": "stream",
     "text": [
      "100958 titles dropped \n",
      "119625 remaining titles\n"
     ]
    }
   ],
   "source": [
    "# all the titles with their locations\n",
    "# alltitles = [(i,root[i][0].text) for i in range(1,len(root)) if \":\" not in root[i][0].text ]\n",
    "alltitles = [(i,root[i][0].text) for i in range(1,len(root))]\n",
    "titles = pd.DataFrame(data = alltitles,columns = ['ind','title' ])\n",
    "\n",
    "remove = []\n",
    "for i in range(len(titles)):\n",
    "# check the NS tag\n",
    "    if root[titles.ind[i]][1].text != '0': \n",
    "        # Remove redirect articles\n",
    "        remove.append(i)\n",
    "    else:\n",
    "        if root[titles.ind[i]].find('{http://www.mediawiki.org/xml/export-0.10/}redirect') is not None:\n",
    "            remove.append(i)\n",
    "titles = titles.drop(remove)\n",
    "# redundant, because loc and iloc differentiate between actual and numerical indices\n",
    "titles.index = range(len(titles))\n",
    "print(\"%d titles dropped \\n%d remaining titles\" % (len(remove), len(titles) ) )\n",
    "\n",
    "#column_names = []\n",
    "#for i in range(0,len(root.getchildren()[1000].getchildren())):\n",
    "#    column_names.append(root.getchildren()[1000].getchildren()[i].tag)\n",
    "#colnames = [x[43:] for x in column_names]\n",
    "#print('colnames ', colnames)\n",
    "#frame = pd.DataFrame(columns=colnames)"
   ]
  },
  {
   "cell_type": "code",
   "execution_count": 46,
   "metadata": {
    "collapsed": false
   },
   "outputs": [
    {
     "data": {
      "text/html": [
       "<div>\n",
       "<table border=\"1\" class=\"dataframe\">\n",
       "  <thead>\n",
       "    <tr style=\"text-align: right;\">\n",
       "      <th></th>\n",
       "      <th>ind</th>\n",
       "      <th>title</th>\n",
       "    </tr>\n",
       "  </thead>\n",
       "  <tbody>\n",
       "    <tr>\n",
       "      <th>0</th>\n",
       "      <td>218066</td>\n",
       "      <td>Aérocentre</td>\n",
       "    </tr>\n",
       "    <tr>\n",
       "      <th>1</th>\n",
       "      <td>28184</td>\n",
       "      <td>Hexagon</td>\n",
       "    </tr>\n",
       "    <tr>\n",
       "      <th>2</th>\n",
       "      <td>51641</td>\n",
       "      <td>Khowar language</td>\n",
       "    </tr>\n",
       "  </tbody>\n",
       "</table>\n",
       "</div>"
      ],
      "text/plain": [
       "      ind            title\n",
       "0  218066       Aérocentre\n",
       "1   28184          Hexagon\n",
       "2   51641  Khowar language"
      ]
     },
     "execution_count": 46,
     "metadata": {},
     "output_type": "execute_result"
    }
   ],
   "source": [
    "# selecting NumberOfArticles articles randomly\n",
    "np.random.seed(123)\n",
    "randomindices = np.random.randint(low=0,high=len(titles),size = NumberOfArticles)\n",
    "data = titles.iloc[randomindices]\n",
    "data.index=range(NumberOfArticles)\n",
    "data.head(3)"
   ]
  },
  {
   "cell_type": "code",
   "execution_count": 47,
   "metadata": {
    "collapsed": false
   },
   "outputs": [
    {
     "name": "stderr",
     "output_type": "stream",
     "text": [
      "/Users/a/anaconda2/envs/py35/lib/python3.5/site-packages/pandas/core/indexing.py:288: SettingWithCopyWarning: \n",
      "A value is trying to be set on a copy of a slice from a DataFrame.\n",
      "Try using .loc[row_indexer,col_indexer] = value instead\n",
      "\n",
      "See the caveats in the documentation: http://pandas.pydata.org/pandas-docs/stable/indexing.html#indexing-view-versus-copy\n",
      "  self.obj[key] = _infer_fill_value(value)\n",
      "/Users/a/anaconda2/envs/py35/lib/python3.5/site-packages/pandas/core/indexing.py:465: SettingWithCopyWarning: \n",
      "A value is trying to be set on a copy of a slice from a DataFrame.\n",
      "Try using .loc[row_indexer,col_indexer] = value instead\n",
      "\n",
      "See the caveats in the documentation: http://pandas.pydata.org/pandas-docs/stable/indexing.html#indexing-view-versus-copy\n",
      "  self.obj[item] = s\n"
     ]
    },
    {
     "data": {
      "text/html": [
       "<div>\n",
       "<table border=\"1\" class=\"dataframe\">\n",
       "  <thead>\n",
       "    <tr style=\"text-align: right;\">\n",
       "      <th></th>\n",
       "      <th>ind</th>\n",
       "      <th>title</th>\n",
       "      <th>text</th>\n",
       "    </tr>\n",
       "  </thead>\n",
       "  <tbody>\n",
       "    <tr>\n",
       "      <th>0</th>\n",
       "      <td>218066</td>\n",
       "      <td>Aérocentre</td>\n",
       "      <td>'''Aérocentre''' is a [[France|French]] group ...</td>\n",
       "    </tr>\n",
       "    <tr>\n",
       "      <th>1</th>\n",
       "      <td>28184</td>\n",
       "      <td>Hexagon</td>\n",
       "      <td>A '''hexagon''' is a [[polygon]] with 6 sides ...</td>\n",
       "    </tr>\n",
       "    <tr>\n",
       "      <th>2</th>\n",
       "      <td>51641</td>\n",
       "      <td>Khowar language</td>\n",
       "      <td>{{Infobox Language\\n|name=Khowar, Arniya\\n|fam...</td>\n",
       "    </tr>\n",
       "  </tbody>\n",
       "</table>\n",
       "</div>"
      ],
      "text/plain": [
       "      ind            title                                               text\n",
       "0  218066       Aérocentre  '''Aérocentre''' is a [[France|French]] group ...\n",
       "1   28184          Hexagon  A '''hexagon''' is a [[polygon]] with 6 sides ...\n",
       "2   51641  Khowar language  {{Infobox Language\\n|name=Khowar, Arniya\\n|fam..."
      ]
     },
     "execution_count": 47,
     "metadata": {},
     "output_type": "execute_result"
    }
   ],
   "source": [
    "# adding text to the data frame\n",
    "text = []\n",
    "for i in data.index:\n",
    "    for child in root[data.ind[i]]:\n",
    "        for textnode in child.iter(tag ='{http://www.mediawiki.org/xml/export-0.10/}text'):\n",
    "            text.append(textnode.text)\n",
    "            \n",
    "data.loc[:,'text'] = text\n",
    "data.head(3) # how does it look?"
   ]
  },
  {
   "cell_type": "code",
   "execution_count": 49,
   "metadata": {
    "collapsed": false,
    "scrolled": true
   },
   "outputs": [],
   "source": [
    "data.to_pickle('uncleaned-10k-articles.pkl') # for pickle\n",
    "# data.to_csv('uncleaned-10k-articles.csv') # for csv"
   ]
  },
  {
   "cell_type": "code",
   "execution_count": null,
   "metadata": {
    "collapsed": true
   },
   "outputs": [],
   "source": []
  }
 ],
 "metadata": {
  "kernelspec": {
   "display_name": "Python 3",
   "language": "python",
   "name": "python3"
  },
  "language_info": {
   "codemirror_mode": {
    "name": "ipython",
    "version": 3
   },
   "file_extension": ".py",
   "mimetype": "text/x-python",
   "name": "python",
   "nbconvert_exporter": "python",
   "pygments_lexer": "ipython3",
   "version": "3.5.2"
  }
 },
 "nbformat": 4,
 "nbformat_minor": 0
}
