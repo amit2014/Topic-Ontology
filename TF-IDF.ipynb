{
 "cells": [
  {
   "cell_type": "markdown",
   "metadata": {},
   "source": [
    "<h1>TF-IDF</h1>\n",
    "Author: Tristan\n",
    "\n",
    "You can learn about TF-IDF here:\n",
    "https://en.wikipedia.org/wiki/Tf–idf\n",
    "In brief, it is a way to choose the weight of different terms in a corpus.\n",
    "\n",
    "It is *not* a way to reduce the number of terms.\n",
    "Terms can be reduced afterwards using Semantic Analysis (for which there are multiple methods)\n",
    "https://en.wikipedia.org/wiki/Semantic_analysis_(machine_learning)"
   ]
  },
  {
   "cell_type": "code",
   "execution_count": 5,
   "metadata": {
    "collapsed": true
   },
   "outputs": [],
   "source": [
    "import pandas as pd\n",
    "import numpy\n",
    "import matplotlib.pyplot as plt\n",
    "from sklearn.feature_extraction.text import *\n",
    "import scipy"
   ]
  },
  {
   "cell_type": "code",
   "execution_count": 6,
   "metadata": {
    "collapsed": true
   },
   "outputs": [],
   "source": [
    "import nlp"
   ]
  },
  {
   "cell_type": "code",
   "execution_count": 3,
   "metadata": {
    "collapsed": false
   },
   "outputs": [
    {
     "data": {
      "text/html": [
       "<div>\n",
       "<table border=\"1\" class=\"dataframe\">\n",
       "  <thead>\n",
       "    <tr style=\"text-align: right;\">\n",
       "      <th></th>\n",
       "      <th>index</th>\n",
       "      <th>title</th>\n",
       "      <th>text</th>\n",
       "      <th>links</th>\n",
       "      <th>categories</th>\n",
       "      <th>process</th>\n",
       "    </tr>\n",
       "  </thead>\n",
       "  <tbody>\n",
       "    <tr>\n",
       "      <th>0</th>\n",
       "      <td>3</td>\n",
       "      <td>Art</td>\n",
       "      <td>[[File:Chemin montant dans les hautes herbes -...</td>\n",
       "      <td>[renoir, senses, bowl, creativity, drawing, pa...</td>\n",
       "      <td>[Art, Non-verbal communication, Basic English ...</td>\n",
       "      <td>art activ creation peopl import attract human ...</td>\n",
       "    </tr>\n",
       "    <tr>\n",
       "      <th>1</th>\n",
       "      <td>19</td>\n",
       "      <td>Abbreviation</td>\n",
       "      <td>An '''abbreviation''' is a shorter way to writ...</td>\n",
       "      <td>[english language, apostrophe, period (punctua...</td>\n",
       "      <td>[Linguistics]</td>\n",
       "      <td>abbrevi shorter way write word phrase peopl us...</td>\n",
       "    </tr>\n",
       "    <tr>\n",
       "      <th>2</th>\n",
       "      <td>29</td>\n",
       "      <td>Astronomy</td>\n",
       "      <td>[[File:Atlas Coelestis-1.jpg|thumb|280px|18th ...</td>\n",
       "      <td>[natural science, atmosphere of earth, astrono...</td>\n",
       "      <td>[Astronomy]</td>\n",
       "      <td>astronomi natur scienc studi everyth outsid at...</td>\n",
       "    </tr>\n",
       "    <tr>\n",
       "      <th>3</th>\n",
       "      <td>50</td>\n",
       "      <td>Browser</td>\n",
       "      <td>{{Distinguish|Web browser}}\\n[[Image:Giraffe f...</td>\n",
       "      <td>[herbivorous, mammal, leaves, shrub, grass, gr...</td>\n",
       "      <td>[Ecology, Zoology]</td>\n",
       "      <td>browser anim usual herbivor mammal eat leav sh...</td>\n",
       "    </tr>\n",
       "    <tr>\n",
       "      <th>4</th>\n",
       "      <td>63</td>\n",
       "      <td>Bubonic plague</td>\n",
       "      <td>{{Infobox disease\\n| Name            = Bubonic...</td>\n",
       "      <td>[lymphatic system, plague, bacterium, yersinia...</td>\n",
       "      <td>[Plague, Pulmonology]</td>\n",
       "      <td>bubon plagu best known form diseas plagu caus ...</td>\n",
       "    </tr>\n",
       "  </tbody>\n",
       "</table>\n",
       "</div>"
      ],
      "text/plain": [
       "   index           title                                               text  \\\n",
       "0      3             Art  [[File:Chemin montant dans les hautes herbes -...   \n",
       "1     19    Abbreviation  An '''abbreviation''' is a shorter way to writ...   \n",
       "2     29       Astronomy  [[File:Atlas Coelestis-1.jpg|thumb|280px|18th ...   \n",
       "3     50         Browser  {{Distinguish|Web browser}}\\n[[Image:Giraffe f...   \n",
       "4     63  Bubonic plague  {{Infobox disease\\n| Name            = Bubonic...   \n",
       "\n",
       "                                               links  \\\n",
       "0  [renoir, senses, bowl, creativity, drawing, pa...   \n",
       "1  [english language, apostrophe, period (punctua...   \n",
       "2  [natural science, atmosphere of earth, astrono...   \n",
       "3  [herbivorous, mammal, leaves, shrub, grass, gr...   \n",
       "4  [lymphatic system, plague, bacterium, yersinia...   \n",
       "\n",
       "                                          categories  \\\n",
       "0  [Art, Non-verbal communication, Basic English ...   \n",
       "1                                      [Linguistics]   \n",
       "2                                        [Astronomy]   \n",
       "3                                 [Ecology, Zoology]   \n",
       "4                              [Plague, Pulmonology]   \n",
       "\n",
       "                                             process  \n",
       "0  art activ creation peopl import attract human ...  \n",
       "1  abbrevi shorter way write word phrase peopl us...  \n",
       "2  astronomi natur scienc studi everyth outsid at...  \n",
       "3  browser anim usual herbivor mammal eat leav sh...  \n",
       "4  bubon plagu best known form diseas plagu caus ...  "
      ]
     },
     "execution_count": 3,
     "metadata": {},
     "output_type": "execute_result"
    }
   ],
   "source": [
    "data = nlp.proc_text()\n",
    "data.head()"
   ]
  },
  {
   "cell_type": "code",
   "execution_count": 7,
   "metadata": {
    "collapsed": false
   },
   "outputs": [],
   "source": [
    "vectorizer = TfidfVectorizer(analyzer = \"word\", max_df=1.0, min_df=1)\n",
    "#max_df is the fraction of documents that must have a word before it is ignored.\n",
    "#min_df is the number of documents that must have a word for it to be considered.\n",
    "#norm=\"l2\" normalizes each document vector to a (pythagorean) length of 1.\n",
    "clean_text = data[\"process\"]\n",
    "weighted_words = vectorizer.fit_transform(clean_text)"
   ]
  },
  {
   "cell_type": "code",
   "execution_count": 8,
   "metadata": {
    "collapsed": true
   },
   "outputs": [],
   "source": [
    "#also get the bag of words without weighting for comparison\n",
    "vectorizer2 = CountVectorizer(analyzer = \"word\")\n",
    "unweighted_words = vectorizer2.fit_transform(clean_text)"
   ]
  },
  {
   "cell_type": "code",
   "execution_count": 9,
   "metadata": {
    "collapsed": true
   },
   "outputs": [],
   "source": [
    "#Want a function to list words alongside their frequency\n",
    "def get_word_frequency(sparse_matrix,doc,word_list):\n",
    "    #find number of distinct words in given document\n",
    "    num_words = sparse_matrix[doc,:].getnnz()\n",
    "    #initialize DataFrame\n",
    "    word_frequency = pd.DataFrame(index=range(num_words), columns=['word','frequency'])\n",
    "    #convert to another kind of sparse matrix\n",
    "    cx = scipy.sparse.coo_matrix(sparse_matrix[doc,:])\n",
    "    #Loop over nonzero elements in the sparse matrix\n",
    "    #with i = column number, j = weight, and k being the appropriate row of the DataFrame\n",
    "    for i,j,k in zip(cx.col,cx.data,range(num_words)):\n",
    "        word_frequency['word'][k] = word_list[i]\n",
    "        word_frequency['frequency'][k] = j\n",
    "        \n",
    "    #Finally, sort the DataFrame\n",
    "    word_frequency.sort_values('frequency',inplace=True,ascending=False)\n",
    "    return word_frequency"
   ]
  },
  {
   "cell_type": "code",
   "execution_count": 10,
   "metadata": {
    "collapsed": false
   },
   "outputs": [
    {
     "name": "stdout",
     "output_type": "stream",
     "text": [
      "2th document, before TF-IDF:\n",
      "           word frequency\n",
      "99   astronomi        34\n",
      "108       star        32\n",
      "153   telescop        27\n",
      "4          use        18\n",
      "105      earth        18\n",
      "110     planet        16\n",
      "109     galaxi        13\n",
      "151     observ        13\n",
      "271       wave        12\n",
      "101      studi        12\n",
      "After TF-IDF:\n",
      "           word frequency\n",
      "400  astronomi  0.456096\n",
      "346   telescop    0.3636\n",
      "391       star  0.257103\n",
      "389     planet   0.18225\n",
      "390     galaxi   0.17796\n",
      "394      earth  0.172158\n",
      "238   spectrum  0.141482\n",
      "362   astronom  0.140686\n",
      "228       wave  0.140149\n",
      "348     observ  0.136335\n"
     ]
    }
   ],
   "source": [
    "doc_number = 2\n",
    "test_freq = get_word_frequency(unweighted_words,doc_number,vectorizer2.get_feature_names())\n",
    "test_weight = get_word_frequency(weighted_words,doc_number,vectorizer.get_feature_names())\n",
    "print(str(doc_number) + \"th document, before TF-IDF:\\n\",test_freq[0:10])\n",
    "print(\"After TF-IDF:\\n\",test_weight[0:10])"
   ]
  },
  {
   "cell_type": "code",
   "execution_count": 11,
   "metadata": {
    "collapsed": true
   },
   "outputs": [],
   "source": [
    "data.to_pickle(\"processed_10k_articles.pkl\")"
   ]
  },
  {
   "cell_type": "code",
   "execution_count": 14,
   "metadata": {
    "collapsed": false
   },
   "outputs": [],
   "source": [
    "numpy.save(\"document_term_matrix\",weighted_words,allo)"
   ]
  },
  {
   "cell_type": "code",
   "execution_count": 17,
   "metadata": {
    "collapsed": false
   },
   "outputs": [],
   "source": [
    "pd.DataFrame(vectorizer.get_feature_names()).to_pickle(\"term_list.pkl\")"
   ]
  }
 ],
 "metadata": {
  "anaconda-cloud": {},
  "kernelspec": {
   "display_name": "Python [Root]",
   "language": "python",
   "name": "Python [Root]"
  },
  "language_info": {
   "codemirror_mode": {
    "name": "ipython",
    "version": 3
   },
   "file_extension": ".py",
   "mimetype": "text/x-python",
   "name": "python",
   "nbconvert_exporter": "python",
   "pygments_lexer": "ipython3",
   "version": "3.5.1"
  }
 },
 "nbformat": 4,
 "nbformat_minor": 0
}
