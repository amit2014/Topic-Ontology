{
 "cells": [
  {
   "cell_type": "markdown",
   "metadata": {},
   "source": [
    "<h1>TF-IDF</h1>\n",
    "Author: Tristan\n",
    "\n",
    "You can learn about TF-IDF here:\n",
    "https://en.wikipedia.org/wiki/Tf–idf\n",
    "In brief, it is a way to choose the weight of different terms in a corpus.\n",
    "\n",
    "It is *not* a way to reduce the number of terms.\n",
    "Terms can be reduced afterwards using Semantic Analysis (for which there are multiple methods)\n",
    "https://en.wikipedia.org/wiki/Semantic_analysis_(machine_learning)"
   ]
  },
  {
   "cell_type": "code",
   "execution_count": 52,
   "metadata": {
    "collapsed": true
   },
   "outputs": [],
   "source": [
    "import pandas as pd\n",
    "import numpy\n",
    "import matplotlib.pyplot as plt\n",
    "from sklearn.feature_extraction.text import *\n",
    "import scipy"
   ]
  },
  {
   "cell_type": "code",
   "execution_count": 7,
   "metadata": {
    "collapsed": false
   },
   "outputs": [
    {
     "data": {
      "text/html": [
       "<div>\n",
       "<table border=\"1\" class=\"dataframe\">\n",
       "  <thead>\n",
       "    <tr style=\"text-align: right;\">\n",
       "      <th></th>\n",
       "      <th>index</th>\n",
       "      <th>title</th>\n",
       "      <th>text</th>\n",
       "      <th>text_noim</th>\n",
       "      <th>links</th>\n",
       "      <th>process</th>\n",
       "    </tr>\n",
       "  </thead>\n",
       "  <tbody>\n",
       "    <tr>\n",
       "      <th>0</th>\n",
       "      <td>3</td>\n",
       "      <td>Art</td>\n",
       "      <td>[[File:Chemin montant dans les hautes herbes -...</td>\n",
       "      <td>]]\\n[[Non-verbal communication]]\\n[[Basic Eng...</td>\n",
       "      <td>[Non-verbal communication, Basic English 850 w...</td>\n",
       "      <td>non verbal commun basic english word</td>\n",
       "    </tr>\n",
       "    <tr>\n",
       "      <th>1</th>\n",
       "      <td>19</td>\n",
       "      <td>Abbreviation</td>\n",
       "      <td>An '''abbreviation''' is a shorter way to writ...</td>\n",
       "      <td>An '''abbreviation''' is a shorter way to writ...</td>\n",
       "      <td>[English language, apostrophe, Period (punctua...</td>\n",
       "      <td>abbrevi shorter way write word phrase peopl us...</td>\n",
       "    </tr>\n",
       "    <tr>\n",
       "      <th>2</th>\n",
       "      <td>29</td>\n",
       "      <td>Astronomy</td>\n",
       "      <td>[[File:Atlas Coelestis-1.jpg|thumb|280px|18th ...</td>\n",
       "      <td>]]</td>\n",
       "      <td>[]</td>\n",
       "      <td></td>\n",
       "    </tr>\n",
       "    <tr>\n",
       "      <th>3</th>\n",
       "      <td>50</td>\n",
       "      <td>Browser</td>\n",
       "      <td>{{Distinguish|Web browser}}\\n[[Image:Giraffe f...</td>\n",
       "      <td>{{Distinguish|Web browser}}\\n[[Image:Giraffe f...</td>\n",
       "      <td>[Image:Giraffe feeding, Tanzania crop.jpg|thum...</td>\n",
       "      <td>distinguish web browser imag giraff feed tanza...</td>\n",
       "    </tr>\n",
       "    <tr>\n",
       "      <th>4</th>\n",
       "      <td>63</td>\n",
       "      <td>Bubonic plague</td>\n",
       "      <td>{{Infobox disease\\n| Name            = Bubonic...</td>\n",
       "      <td>{{Infobox disease\\n| Name            = Bubonic...</td>\n",
       "      <td>[Lymphatic system|lymph, plague, bacterium, Ye...</td>\n",
       "      <td>infobox diseas name bubon plagu imag plagu bub...</td>\n",
       "    </tr>\n",
       "  </tbody>\n",
       "</table>\n",
       "</div>"
      ],
      "text/plain": [
       "   index           title                                               text  \\\n",
       "0      3             Art  [[File:Chemin montant dans les hautes herbes -...   \n",
       "1     19    Abbreviation  An '''abbreviation''' is a shorter way to writ...   \n",
       "2     29       Astronomy  [[File:Atlas Coelestis-1.jpg|thumb|280px|18th ...   \n",
       "3     50         Browser  {{Distinguish|Web browser}}\\n[[Image:Giraffe f...   \n",
       "4     63  Bubonic plague  {{Infobox disease\\n| Name            = Bubonic...   \n",
       "\n",
       "                                           text_noim  \\\n",
       "0   ]]\\n[[Non-verbal communication]]\\n[[Basic Eng...   \n",
       "1  An '''abbreviation''' is a shorter way to writ...   \n",
       "2                                                 ]]   \n",
       "3  {{Distinguish|Web browser}}\\n[[Image:Giraffe f...   \n",
       "4  {{Infobox disease\\n| Name            = Bubonic...   \n",
       "\n",
       "                                               links  \\\n",
       "0  [Non-verbal communication, Basic English 850 w...   \n",
       "1  [English language, apostrophe, Period (punctua...   \n",
       "2                                                 []   \n",
       "3  [Image:Giraffe feeding, Tanzania crop.jpg|thum...   \n",
       "4  [Lymphatic system|lymph, plague, bacterium, Ye...   \n",
       "\n",
       "                                             process  \n",
       "0               non verbal commun basic english word  \n",
       "1  abbrevi shorter way write word phrase peopl us...  \n",
       "2                                                     \n",
       "3  distinguish web browser imag giraff feed tanza...  \n",
       "4  infobox diseas name bubon plagu imag plagu bub...  "
      ]
     },
     "execution_count": 7,
     "metadata": {},
     "output_type": "execute_result"
    }
   ],
   "source": [
    "import nlp \n",
    "data = nlp.proc_text()\n",
    "data.head()"
   ]
  },
  {
   "cell_type": "markdown",
   "metadata": {},
   "source": [
    "Looks like the cleaning isn't yet right"
   ]
  },
  {
   "cell_type": "code",
   "execution_count": 31,
   "metadata": {
    "collapsed": false
   },
   "outputs": [],
   "source": [
    "vectorizer = TfidfVectorizer(analyzer = \"word\", max_df=1.0, min_df=1)\n",
    "#max_df is the fraction of documents that must have a word before it is ignored.\n",
    "#min_df is the number of documents that must have a word for it to be considered.\n",
    "#norm=\"l2\" normalizes each document vector to a (pythagorean) length of 1.\n",
    "clean_text = data[\"process\"]\n",
    "weighted_words = vectorizer.fit_transform(clean_text)"
   ]
  },
  {
   "cell_type": "code",
   "execution_count": 32,
   "metadata": {
    "collapsed": true
   },
   "outputs": [],
   "source": [
    "#also get the bag of words without weighting for comparison\n",
    "vectorizer2 = CountVectorizer(analyzer = \"word\")\n",
    "unweighted_words = vectorizer2.fit_transform(clean_text)"
   ]
  },
  {
   "cell_type": "code",
   "execution_count": 91,
   "metadata": {
    "collapsed": true
   },
   "outputs": [],
   "source": [
    "#Want a function to list words alongside their frequency\n",
    "def get_word_frequency(sparse_matrix,doc,word_list):\n",
    "    #find number of distinct words in given document\n",
    "    num_words = sparse_matrix[doc,:].getnnz()\n",
    "    #initialize DataFrame\n",
    "    word_frequency = pd.DataFrame(index=range(num_words), columns=['word','frequency'])\n",
    "    #convert to another kind of sparse matrix\n",
    "    cx = scipy.sparse.coo_matrix(sparse_matrix[doc,:])\n",
    "    #Loop over nonzero elements in the sparse matrix\n",
    "    #with i = column number, j = weight, and k being the appropriate row of the DataFrame\n",
    "    for i,j,k in zip(cx.col,cx.data,range(num_words)):\n",
    "        word_frequency['word'][k] = word_list[i]\n",
    "        word_frequency['frequency'][k] = j\n",
    "        \n",
    "    #Finally, sort the DataFrame\n",
    "    word_frequency.sort_values('frequency',inplace=True,ascending=False)\n",
    "    return word_frequency"
   ]
  },
  {
   "cell_type": "code",
   "execution_count": 97,
   "metadata": {
    "collapsed": false
   },
   "outputs": [
    {
     "name": "stdout",
     "output_type": "stream",
     "text": [
      "10th document, before TF-IDF:\n",
      "         word frequency\n",
      "22  februari        14\n",
      "24     month         9\n",
      "4        day         8\n",
      "3       year         7\n",
      "48      week         3\n",
      "63    presid         3\n",
      "64      born         3\n",
      "26      leap         3\n",
      "43    zodiac         2\n",
      "54  shortest         2\n",
      "After TF-IDF:\n",
      "         word frequency\n",
      "54  februari  0.498278\n",
      "52     month  0.439532\n",
      "72       day  0.300026\n",
      "50      leap  0.217643\n",
      "30   aquariu  0.182064\n",
      "33    zodiac  0.167763\n",
      "73      year  0.161364\n",
      "36    violet  0.159397\n",
      "28      week  0.154104\n",
      "22  shortest  0.147851\n"
     ]
    }
   ],
   "source": [
    "doc_number = 10\n",
    "test_freq = get_word_frequency(unweighted_words,doc_number,vectorizer2.get_feature_names())\n",
    "test_weight = get_word_frequency(weighted_words,doc_number,vectorizer.get_feature_names())\n",
    "print(str(doc_number) + \"th document, before TF-IDF:\\n\",test_freq[0:10])\n",
    "print(\"After TF-IDF:\\n\",test_weight[0:10])"
   ]
  }
 ],
 "metadata": {
  "anaconda-cloud": {},
  "kernelspec": {
   "display_name": "Python [Root]",
   "language": "python",
   "name": "Python [Root]"
  },
  "language_info": {
   "codemirror_mode": {
    "name": "ipython",
    "version": 3
   },
   "file_extension": ".py",
   "mimetype": "text/x-python",
   "name": "python",
   "nbconvert_exporter": "python",
   "pygments_lexer": "ipython3",
   "version": "3.5.1"
  }
 },
 "nbformat": 4,
 "nbformat_minor": 0
}
