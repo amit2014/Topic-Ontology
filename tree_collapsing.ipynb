{
 "cells": [
  {
   "cell_type": "markdown",
   "metadata": {},
   "source": [
    "### Tree collapsing\n",
    "Tristan Miller\n",
    "\n",
    "Just a short demo to show how we can adjust the tolerance for tree collapsing"
   ]
  },
  {
   "cell_type": "code",
   "execution_count": 1,
   "metadata": {
    "collapsed": true
   },
   "outputs": [],
   "source": [
    "import pandas as pd\n",
    "import numpy as np\n",
    "from cluster_tree import *"
   ]
  },
  {
   "cell_type": "code",
   "execution_count": 2,
   "metadata": {
    "collapsed": false
   },
   "outputs": [],
   "source": [
    "from ete3 import Tree, TreeStyle\n",
    "ts = TreeStyle()\n",
    "ts.show_leaf_name = True\n",
    "ts.scale =  12"
   ]
  },
  {
   "cell_type": "code",
   "execution_count": 3,
   "metadata": {
    "collapsed": false
   },
   "outputs": [],
   "source": [
    "ward_tree = pd.read_pickle(\"uncollapsed_tree.pkl\")\n",
    "c_labels = pd.read_pickle(\"c_labels.pkl\")\n",
    "doc_term = pd.read_pickle(\"Tfidf_Matrix.pkl\")\n",
    "term_list = pd.read_pickle(\"Feature_List.pkl\")"
   ]
  },
  {
   "cell_type": "code",
   "execution_count": 7,
   "metadata": {
    "collapsed": false
   },
   "outputs": [],
   "source": [
    "tolerance=-0.3\n",
    "cmeans_terms,ndocs = get_means(c_labels,doc_term[:25000,:])\n",
    "collapsed_tree = collapse_label_tree(ward_tree,cmeans_terms,ndocs,tolerance)\n",
    "name_tree = get_name_tree(collapsed_tree,cmeans_terms,ndocs,term_list)"
   ]
  },
  {
   "cell_type": "code",
   "execution_count": 15,
   "metadata": {
    "collapsed": false
   },
   "outputs": [
    {
     "ename": "NewickError",
     "evalue": "Unexpected newick format '2_arthropod/insect/moth' ",
     "output_type": "error",
     "traceback": [
      "\u001b[0;31m---------------------------------------------------------------------------\u001b[0m",
      "\u001b[0;31mNewickError\u001b[0m                               Traceback (most recent call last)",
      "\u001b[0;32m<ipython-input-15-b90ceaf304df>\u001b[0m in \u001b[0;36m<module>\u001b[0;34m()\u001b[0m\n\u001b[0;32m----> 1\u001b[0;31m \u001b[0mt\u001b[0m\u001b[0;34m=\u001b[0m\u001b[0mTree\u001b[0m\u001b[0;34m(\u001b[0m\u001b[0mstr\u001b[0m\u001b[0;34m(\u001b[0m\u001b[0mname_tree\u001b[0m\u001b[0;34m)\u001b[0m\u001b[0;34m)\u001b[0m\u001b[0;34m\u001b[0m\u001b[0m\n\u001b[0m\u001b[1;32m      2\u001b[0m \u001b[0mt\u001b[0m\u001b[0;34m.\u001b[0m\u001b[0mshow\u001b[0m\u001b[0;34m(\u001b[0m\u001b[0mtree_style\u001b[0m\u001b[0;34m=\u001b[0m\u001b[0mts\u001b[0m\u001b[0;34m)\u001b[0m\u001b[0;34m\u001b[0m\u001b[0m\n",
      "\u001b[0;32m/Users/Tristan/anaconda/lib/python3.5/site-packages/ete3/coretype/tree.py\u001b[0m in \u001b[0;36m__init__\u001b[0;34m(self, newick, format, dist, support, name)\u001b[0m\n\u001b[1;32m    208\u001b[0m         \u001b[0;32mif\u001b[0m \u001b[0mnewick\u001b[0m \u001b[0;32mis\u001b[0m \u001b[0;32mnot\u001b[0m \u001b[0;32mNone\u001b[0m\u001b[0;34m:\u001b[0m\u001b[0;34m\u001b[0m\u001b[0m\n\u001b[1;32m    209\u001b[0m             \u001b[0mself\u001b[0m\u001b[0;34m.\u001b[0m\u001b[0m_dist\u001b[0m \u001b[0;34m=\u001b[0m \u001b[0;36m0.0\u001b[0m\u001b[0;34m\u001b[0m\u001b[0m\n\u001b[0;32m--> 210\u001b[0;31m             \u001b[0mread_newick\u001b[0m\u001b[0;34m(\u001b[0m\u001b[0mnewick\u001b[0m\u001b[0;34m,\u001b[0m \u001b[0mroot_node\u001b[0m \u001b[0;34m=\u001b[0m \u001b[0mself\u001b[0m\u001b[0;34m,\u001b[0m \u001b[0mformat\u001b[0m\u001b[0;34m=\u001b[0m\u001b[0mformat\u001b[0m\u001b[0;34m)\u001b[0m\u001b[0;34m\u001b[0m\u001b[0m\n\u001b[0m\u001b[1;32m    211\u001b[0m \u001b[0;34m\u001b[0m\u001b[0m\n\u001b[1;32m    212\u001b[0m \u001b[0;34m\u001b[0m\u001b[0m\n",
      "\u001b[0;32m/Users/Tristan/anaconda/lib/python3.5/site-packages/ete3/parser/newick.py\u001b[0m in \u001b[0;36mread_newick\u001b[0;34m(newick, root_node, format)\u001b[0m\n\u001b[1;32m    235\u001b[0m             \u001b[0;32mraise\u001b[0m \u001b[0mNewickError\u001b[0m\u001b[0;34m(\u001b[0m\u001b[0;34m'Unexisting tree file or Malformed newick tree structure.'\u001b[0m\u001b[0;34m)\u001b[0m\u001b[0;34m\u001b[0m\u001b[0m\n\u001b[1;32m    236\u001b[0m         \u001b[0;32melse\u001b[0m\u001b[0;34m:\u001b[0m\u001b[0;34m\u001b[0m\u001b[0m\n\u001b[0;32m--> 237\u001b[0;31m             \u001b[0;32mreturn\u001b[0m \u001b[0m_read_newick_from_string\u001b[0m\u001b[0;34m(\u001b[0m\u001b[0mnw\u001b[0m\u001b[0;34m,\u001b[0m \u001b[0mroot_node\u001b[0m\u001b[0;34m,\u001b[0m \u001b[0mmatcher\u001b[0m\u001b[0;34m,\u001b[0m \u001b[0mformat\u001b[0m\u001b[0;34m)\u001b[0m\u001b[0;34m\u001b[0m\u001b[0m\n\u001b[0m\u001b[1;32m    238\u001b[0m \u001b[0;34m\u001b[0m\u001b[0m\n\u001b[1;32m    239\u001b[0m     \u001b[0;32melse\u001b[0m\u001b[0;34m:\u001b[0m\u001b[0;34m\u001b[0m\u001b[0m\n",
      "\u001b[0;32m/Users/Tristan/anaconda/lib/python3.5/site-packages/ete3/parser/newick.py\u001b[0m in \u001b[0;36m_read_newick_from_string\u001b[0;34m(nw, root_node, matcher, formatcode)\u001b[0m\n\u001b[1;32m    287\u001b[0m                     \u001b[0mclosing_internal\u001b[0m \u001b[0;34m=\u001b[0m  \u001b[0mclosing_internal\u001b[0m\u001b[0;34m.\u001b[0m\u001b[0mrstrip\u001b[0m\u001b[0;34m(\u001b[0m\u001b[0;34m\";\"\u001b[0m\u001b[0;34m)\u001b[0m\u001b[0;34m\u001b[0m\u001b[0m\n\u001b[1;32m    288\u001b[0m                     \u001b[0;31m# read internal node data and go up one level\u001b[0m\u001b[0;34m\u001b[0m\u001b[0;34m\u001b[0m\u001b[0m\n\u001b[0;32m--> 289\u001b[0;31m                     \u001b[0m_read_node_data\u001b[0m\u001b[0;34m(\u001b[0m\u001b[0mclosing_internal\u001b[0m\u001b[0;34m,\u001b[0m \u001b[0mcurrent_parent\u001b[0m\u001b[0;34m,\u001b[0m \u001b[0;34m\"internal\"\u001b[0m\u001b[0;34m,\u001b[0m \u001b[0mmatcher\u001b[0m\u001b[0;34m,\u001b[0m \u001b[0mformatcode\u001b[0m\u001b[0;34m)\u001b[0m\u001b[0;34m\u001b[0m\u001b[0m\n\u001b[0m\u001b[1;32m    290\u001b[0m                     \u001b[0mcurrent_parent\u001b[0m \u001b[0;34m=\u001b[0m \u001b[0mcurrent_parent\u001b[0m\u001b[0;34m.\u001b[0m\u001b[0mup\u001b[0m\u001b[0;34m\u001b[0m\u001b[0m\n\u001b[1;32m    291\u001b[0m     \u001b[0;32mreturn\u001b[0m \u001b[0mroot_node\u001b[0m\u001b[0;34m\u001b[0m\u001b[0m\n",
      "\u001b[0;32m/Users/Tristan/anaconda/lib/python3.5/site-packages/ete3/parser/newick.py\u001b[0m in \u001b[0;36m_read_node_data\u001b[0;34m(subnw, current_node, node_type, matcher, formatcode)\u001b[0m\n\u001b[1;32m    384\u001b[0m             \u001b[0m_parse_extra_features\u001b[0m\u001b[0;34m(\u001b[0m\u001b[0mnode\u001b[0m\u001b[0;34m,\u001b[0m \u001b[0mdata\u001b[0m\u001b[0;34m[\u001b[0m\u001b[0;36m2\u001b[0m\u001b[0;34m]\u001b[0m\u001b[0;34m)\u001b[0m\u001b[0;34m\u001b[0m\u001b[0m\n\u001b[1;32m    385\u001b[0m     \u001b[0;32melse\u001b[0m\u001b[0;34m:\u001b[0m\u001b[0;34m\u001b[0m\u001b[0m\n\u001b[0;32m--> 386\u001b[0;31m         \u001b[0;32mraise\u001b[0m \u001b[0mNewickError\u001b[0m\u001b[0;34m(\u001b[0m\u001b[0;34m\"Unexpected newick format '%s' \"\u001b[0m \u001b[0;34m%\u001b[0m\u001b[0msubnw\u001b[0m\u001b[0;34m[\u001b[0m\u001b[0;36m0\u001b[0m\u001b[0;34m:\u001b[0m\u001b[0;36m50\u001b[0m\u001b[0;34m]\u001b[0m\u001b[0;34m)\u001b[0m\u001b[0;34m\u001b[0m\u001b[0m\n\u001b[0m\u001b[1;32m    387\u001b[0m     \u001b[0;32mreturn\u001b[0m\u001b[0;34m\u001b[0m\u001b[0m\n\u001b[1;32m    388\u001b[0m \u001b[0;34m\u001b[0m\u001b[0m\n",
      "\u001b[0;31mNewickError\u001b[0m: Unexpected newick format '2_arthropod/insect/moth' "
     ]
    }
   ],
   "source": [
    "t=Tree(str(name_tree))\n",
    "t.show(tree_style=ts)"
   ]
  },
  {
   "cell_type": "code",
   "execution_count": 5,
   "metadata": {
    "collapsed": false
   },
   "outputs": [
    {
     "name": "stdout",
     "output_type": "stream",
     "text": [
      "[  580.   458.   274.   271.   180.   251.  6318.   893.   917.   159.\n",
      "   297.   250.   170.   182.   163.   497.   368.   543.   239.   459.\n",
      "   201.    79.   144.    77.   155.   122.   297.    75.   360.    74.\n",
      "   240.    94.   149.   447.   114.   328.   244.   165.   178.   284.\n",
      "   110.   161.   142.    72.   132.    73.   115.   122.   148.    76.\n",
      "    48.   210.   140.   113.   183.   254.   169.    68.   104.   163.\n",
      "    71.   190.   164.   306.    56.    55.    83.   189.   173.    74.\n",
      "   273.   161.    80.    65.    89.    53.   103.   132.   252.   296.\n",
      "    69.   309.    58.   113.    79.   120.    51.   418.   102.    54.\n",
      "    74.   145.   100.   104.    81.    45.    99.    72.    84.    59.]\n"
     ]
    }
   ],
   "source": [
    "print(ndocs)"
   ]
  },
  {
   "cell_type": "markdown",
   "metadata": {},
   "source": [
    "By far the largest cluster is the one that links to ISBN.  LOL"
   ]
  }
 ],
 "metadata": {
  "anaconda-cloud": {},
  "kernelspec": {
   "display_name": "Python [Root]",
   "language": "python",
   "name": "Python [Root]"
  },
  "language_info": {
   "codemirror_mode": {
    "name": "ipython",
    "version": 3
   },
   "file_extension": ".py",
   "mimetype": "text/x-python",
   "name": "python",
   "nbconvert_exporter": "python",
   "pygments_lexer": "ipython3",
   "version": "3.5.1"
  }
 },
 "nbformat": 4,
 "nbformat_minor": 0
}
