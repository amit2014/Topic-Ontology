{
 "cells": [
  {
   "cell_type": "markdown",
   "metadata": {},
   "source": [
    "### Tree collapsing\n",
    "Tristan Miller\n",
    "\n",
    "Just a short demo to show how we can adjust the tolerance for tree collapsing"
   ]
  },
  {
   "cell_type": "code",
   "execution_count": 18,
   "metadata": {
    "collapsed": true
   },
   "outputs": [],
   "source": [
    "import pandas as pd\n",
    "import numpy as np\n",
    "from cluster_tree import *"
   ]
  },
  {
   "cell_type": "code",
   "execution_count": 19,
   "metadata": {
    "collapsed": false
   },
   "outputs": [],
   "source": [
    "from ete3 import Tree, TreeStyle\n",
    "ts = TreeStyle()\n",
    "ts.show_leaf_name = True\n",
    "ts.scale =  12"
   ]
  },
  {
   "cell_type": "code",
   "execution_count": 9,
   "metadata": {
    "collapsed": false
   },
   "outputs": [],
   "source": [
    "cluster_means = pd.read_pickle(\"cluster_means.pkl\")\n",
    "ward_tree = pd.read_pickle(\"uncollapsed_tree.pkl\")\n",
    "link_means = pd.read_pickle(\"link_means.pkl\")\n",
    "ndocs = pd.read_pickle(\"docs_in_cluster.pkl\")\n",
    "link_names = pd.read_pickle(\"Corrected_Link_Feature_List.pkl\")"
   ]
  },
  {
   "cell_type": "code",
   "execution_count": 17,
   "metadata": {
    "collapsed": true
   },
   "outputs": [],
   "source": [
    "tolerance=-0.2\n",
    "collapsed_tree = collapse_label_tree(ward_tree,cluster_means,ndocs,tolerance)\n",
    "name_tree = get_name_tree(collapsed_tree,link_means,ndocs,link_names)\n",
    "t = Tree(str(name_tree))\n",
    "t.show(tree_style=ts)"
   ]
  },
  {
   "cell_type": "code",
   "execution_count": 14,
   "metadata": {
    "collapsed": false
   },
   "outputs": [
    {
     "name": "stdout",
     "output_type": "stream",
     "text": [
      "[  580.   458.   274.   271.   180.   251.  6318.   893.   917.   159.\n",
      "   297.   250.   170.   182.   163.   497.   368.   543.   239.   459.\n",
      "   201.    79.   144.    77.   155.   122.   297.    75.   360.    74.\n",
      "   240.    94.   149.   447.   114.   328.   244.   165.   178.   284.\n",
      "   110.   161.   142.    72.   132.    73.   115.   122.   148.    76.\n",
      "    48.   210.   140.   113.   183.   254.   169.    68.   104.   163.\n",
      "    71.   190.   164.   306.    56.    55.    83.   189.   173.    74.\n",
      "   273.   161.    80.    65.    89.    53.   103.   132.   252.   296.\n",
      "    69.   309.    58.   113.    79.   120.    51.   418.   102.    54.\n",
      "    74.   145.   100.   104.    81.    45.    99.    72.    84.    59.]\n"
     ]
    }
   ],
   "source": [
    "print(ndocs)"
   ]
  },
  {
   "cell_type": "markdown",
   "metadata": {},
   "source": [
    "By far the largest cluster is the one that links to ISBN.  LOL"
   ]
  },
  {
   "cell_type": "code",
   "execution_count": 54,
   "metadata": {
    "collapsed": true
   },
   "outputs": [],
   "source": [
    "#Try an alternate way of labeling nodes\n",
    "def get_name_tree_mod(label_tree,cm,docs_in_cluster,term_list):\n",
    "    name_tree = label_tree.copy()\n",
    "    #Iterate through each non-leaf, going from the top of the tree to the bottom.\n",
    "    for parent in name_tree.iter_nodes():\n",
    "        if(len(parent) > 0):\n",
    "            #Now I want to go through each child and figure out what distinguishes that child from the others\n",
    "            parent_mean,docs = get_branch_mean(parent,cm,docs_in_cluster)\n",
    "            for child in parent.children:\n",
    "                child_mean,docs = get_branch_mean(child,cm,docs_in_cluster)\n",
    "                #Just subtract the parent mean from the child mean\n",
    "                child_mean -= parent_mean\n",
    "                \n",
    "                df = pd.DataFrame(index=range(len(child_mean)),columns=['term','frequency'])\n",
    "                df['term'] = term_list\n",
    "                df['frequency'] = child_mean\n",
    "                df.sort_values('frequency',inplace=True,ascending=False)\n",
    "                child.data = df['term'].tolist()[0] + '/' + df['term'].tolist()[1] + '/' + df['term'].tolist()[2]\n",
    "    \n",
    "    return name_tree"
   ]
  },
  {
   "cell_type": "code",
   "execution_count": 55,
   "metadata": {
    "collapsed": true
   },
   "outputs": [],
   "source": [
    "c_labels = pd.read_pickle(\"c_labels.pkl\")\n",
    "doc_term = pd.read_pickle(\"Tfidf_Matrix.pkl\")\n",
    "term_list = pd.read_pickle(\"Feature_List.pkl\")"
   ]
  },
  {
   "cell_type": "code",
   "execution_count": null,
   "metadata": {
    "collapsed": false
   },
   "outputs": [],
   "source": [
    "tolerance=-0.2\n",
    "cmeans_terms,ndocs = get_means(c_labels,doc_term[:25000,:])\n",
    "collapsed_tree = collapse_label_tree(ward_tree,cmeans_terms,ndocs,tolerance)\n",
    "name_tree = get_name_tree_mod(collapsed_tree,cmeans_terms,ndocs,term_list)"
   ]
  },
  {
   "cell_type": "code",
   "execution_count": null,
   "metadata": {
    "collapsed": false
   },
   "outputs": [],
   "source": [
    "t = Tree(str(name_tree))\n",
    "t.show(tree_style=ts)"
   ]
  },
  {
   "cell_type": "code",
   "execution_count": null,
   "metadata": {
    "collapsed": true
   },
   "outputs": [],
   "source": []
  }
 ],
 "metadata": {
  "anaconda-cloud": {},
  "kernelspec": {
   "display_name": "Python [Root]",
   "language": "python",
   "name": "Python [Root]"
  },
  "language_info": {
   "codemirror_mode": {
    "name": "ipython",
    "version": 3
   },
   "file_extension": ".py",
   "mimetype": "text/x-python",
   "name": "python",
   "nbconvert_exporter": "python",
   "pygments_lexer": "ipython3",
   "version": "3.5.1"
  }
 },
 "nbformat": 4,
 "nbformat_minor": 0
}
