{
 "cells": [
  {
   "cell_type": "markdown",
   "metadata": {},
   "source": [
    "### Tree collapsing\n",
    "Tristan Miller\n",
    "\n",
    "Just a short demo to show how we can adjust the tolerance for tree collapsing"
   ]
  },
  {
   "cell_type": "code",
   "execution_count": 7,
   "metadata": {
    "collapsed": true
   },
   "outputs": [],
   "source": [
    "import pandas as pd\n",
    "import numpy as np\n",
    "from cluster_tree import *"
   ]
  },
  {
   "cell_type": "code",
   "execution_count": 8,
   "metadata": {
    "collapsed": false
   },
   "outputs": [],
   "source": [
    "from ete3 import Tree, TreeStyle\n",
    "ts = TreeStyle()\n",
    "ts.show_leaf_name = True\n",
    "ts.scale =  12"
   ]
  },
  {
   "cell_type": "code",
   "execution_count": 9,
   "metadata": {
    "collapsed": false
   },
   "outputs": [],
   "source": [
    "cluster_means = pd.read_pickle(\"cluster_means.pkl\")\n",
    "ward_tree = pd.read_pickle(\"uncollapsed_tree.pkl\")\n",
    "link_means = pd.read_pickle(\"link_means.pkl\")\n",
    "ndocs = pd.read_pickle(\"docs_in_cluster.pkl\")\n",
    "link_names = pd.read_pickle(\"Corrected_Link_Feature_List.pkl\")"
   ]
  },
  {
   "cell_type": "code",
   "execution_count": null,
   "metadata": {
    "collapsed": true
   },
   "outputs": [],
   "source": [
    "tolerance=-1\n",
    "collapsed_tree = collapse_label_tree(ward_tree,cluster_means,ndocs,tolerance)\n",
    "name_tree = get_name_tree(collapsed_tree,link_means,ndocs,link_names)\n",
    "t = Tree(str(name_tree))\n",
    "t.show(tree_style=ts)"
   ]
  },
  {
   "cell_type": "code",
   "execution_count": null,
   "metadata": {
    "collapsed": true
   },
   "outputs": [],
   "source": []
  }
 ],
 "metadata": {
  "anaconda-cloud": {},
  "kernelspec": {
   "display_name": "Python [Root]",
   "language": "python",
   "name": "Python [Root]"
  },
  "language_info": {
   "codemirror_mode": {
    "name": "ipython",
    "version": 3
   },
   "file_extension": ".py",
   "mimetype": "text/x-python",
   "name": "python",
   "nbconvert_exporter": "python",
   "pygments_lexer": "ipython3",
   "version": "3.5.1"
  }
 },
 "nbformat": 4,
 "nbformat_minor": 0
}
