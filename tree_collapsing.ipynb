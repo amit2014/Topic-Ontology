{
 "cells": [
  {
   "cell_type": "markdown",
   "metadata": {},
   "source": [
    "### Tree collapsing\n",
    "Tristan Miller\n",
    "\n",
    "Just a short demo to show how we can adjust the tolerance for tree collapsing"
   ]
  },
  {
   "cell_type": "code",
   "execution_count": 7,
   "metadata": {
    "collapsed": true
   },
   "outputs": [],
   "source": [
    "import pandas as pd\n",
    "import numpy as np\n",
    "from cluster_tree import *"
   ]
  },
  {
   "cell_type": "code",
   "execution_count": 8,
   "metadata": {
    "collapsed": false
   },
   "outputs": [],
   "source": [
    "from ete3 import Tree, TreeStyle,TextFace, add_face_to_node\n",
    "ts = TreeStyle()\n",
    "ts.show_leaf_name = False\n",
    "ts.scale =  12"
   ]
  },
  {
   "cell_type": "code",
   "execution_count": 3,
   "metadata": {
    "collapsed": false
   },
   "outputs": [],
   "source": [
    "ward_tree = pd.read_pickle(\"uncollapsed_tree.pkl\")\n",
    "c_labels = pd.read_pickle(\"c_labels.pkl\")\n",
    "doc_term = pd.read_pickle(\"Tfidf_Matrix.pkl\")\n",
    "term_list = pd.read_pickle(\"Feature_List.pkl\")"
   ]
  },
  {
   "cell_type": "code",
   "execution_count": 4,
   "metadata": {
    "collapsed": false
   },
   "outputs": [],
   "source": [
    "tolerance=-0.3\n",
    "cmeans_terms,ndocs = get_means(c_labels,doc_term[:25000,:])\n",
    "collapsed_tree = collapse_label_tree(ward_tree,cmeans_terms,ndocs,tolerance)\n",
    "name_tree = get_name_tree(collapsed_tree,cmeans_terms,ndocs,term_list)"
   ]
  },
  {
   "cell_type": "code",
   "execution_count": 5,
   "metadata": {
    "collapsed": false
   },
   "outputs": [
    {
     "name": "stdout",
     "output_type": "stream",
     "text": [
      "0_;\n"
     ]
    }
   ],
   "source": [
    "print(str(name_tree)[-3:])"
   ]
  },
  {
   "cell_type": "code",
   "execution_count": 6,
   "metadata": {
    "collapsed": false
   },
   "outputs": [],
   "source": [
    "t=Tree(str(name_tree),format=1)\n",
    "def my_layout(node):\n",
    "    F = TextFace(node.name, tight_text=True)\n",
    "    add_face_to_node(F, node, column=0, position=\"branch-right\")\n",
    "ts.layout_fn = my_layout\n",
    "\n",
    "t.show(tree_style=ts)"
   ]
  },
  {
   "cell_type": "code",
   "execution_count": null,
   "metadata": {
    "collapsed": true
   },
   "outputs": [],
   "source": []
  },
  {
   "cell_type": "code",
   "execution_count": 8,
   "metadata": {
    "collapsed": false
   },
   "outputs": [],
   "source": [
    "Tree(\"(A:1,(B:1,(E:1,D:1)Internal_1:0.5)Internal_2:0.5)Root;\", format=1).show()"
   ]
  },
  {
   "cell_type": "code",
   "execution_count": 9,
   "metadata": {
    "collapsed": false
   },
   "outputs": [
    {
     "name": "stdout",
     "output_type": "stream",
     "text": [
      "[ 198.   22.   43.   60.  151.   99.   49.  306.   57.  145.  100.   97.\n",
      "   75.   41.  120.   42.  113.   44.  103.   52.  164.  204.   87.   23.\n",
      "  586.   73.   54.   41.   40.  122.   32.   53.   56.   93.   35.   20.\n",
      "   47.   69.   74.  142.   36.  117.   48.  109.  124.  100.  125.   45.\n",
      "   60.   76.   28.   69.   54.   37.  148.   41.   36.   47.   51.   55.\n",
      "  152.  374.   47.   90.   70.   43.   83.   49.   60.   38.  145.   32.\n",
      "   42.   64.   86.   45.   65.   63.   64.   97.  125.  101.   94.   61.\n",
      "   33.   45.   20.   78.   61.   86.   51.  140.  107.   38.   55.   34.\n",
      "   37.   72.   65.   57.   94.   68.   96.   76.   59.   36.  131.  113.\n",
      "   37.   59.   56.   39.   65.   46.   49.   75.   52.   28.   88.   49.\n",
      "   42.   51.   71.   54.   92.   80.   59.   48.  134.   56.   37.   29.\n",
      "   66.   44.   66.   53.   28.   44.   43.   45.   39.   46.   34.   87.\n",
      "   25.   45.   81.   33.   35.   81.   41.   55.   50.   47.   44.   93.\n",
      "   84.   49.   39.   35.   48.   51.   57.   63.   24.   54.   47.  113.\n",
      "   20.   35.   29.   26.   34.   27.   56.   80.   47.   47.   40.   37.\n",
      "   24.   56.   96.   55.  145.  138.   31.   30.   35.   33.   61.   29.\n",
      "   24.   53.   97.   56.   36.   22.  129.   59.   68.   37.   18.   72.\n",
      "   45.   50.   42.   57.   52.   31.   33.   60.   70.   38.   26.   44.\n",
      "  140.   33.   25.   32.   38.   49.   49.   40.   49.   14.   36.   85.\n",
      "   23.   66.   99.   51.   42.   30.   49.   28.   32.   48.   90.   67.\n",
      "  139.   38.   99.   57.   23.   17.   53.   46.   48.  102.   37.   47.\n",
      "   22.   44.   33.   26.   22.   42.   13.   42.   28.   46.   19.   55.\n",
      "   67.   36.   56.   19.   45.   30.   20.   30.   16.   33.  116.   33.\n",
      "   30.   35.   42.   34.   22.   54.   22.   21.   48.   20.   16.   27.\n",
      "   23.   50.   42.   55.   37.   42.   18.   31.   33.   48.   43.   53.\n",
      "   17.   21.   48.   23.   15.   32.   27.   58.   52.   24.   43.   18.\n",
      "   28.   67.   58.   37.   36.   25.   19.   26.   50.   25.   65.   28.\n",
      "   49.   25.   56.   30.   87.   67.   73.   32.   52.   58.   41.   31.\n",
      "   53.   32.   13.   26.   34.   15.   35.   16.   36.   19.   24.   28.\n",
      "   35.   74.   31.   26.   21.   31.   18.   43.   19.   88.   70.   34.\n",
      "   45.   40.   28.   21.   28.   25.   39.   27.   31.   70.   30.   17.\n",
      "   41.   11.   53.   37.   43.   45.   53.   30.   17.    9.   13.   26.\n",
      "   12.   23.   15.   34.   31.   18.   21.   33.   37.   13.   10.   28.\n",
      "   49.   34.   31.   23.   38.   36.   30.   30.   18.   70.   46.   39.\n",
      "   44.   38.   39.   11.   29.   14.   31.   32.   30.   29.   40.   18.\n",
      "   18.   30.   46.   29.   14.   45.   19.   59.   36.   17.   29.   32.\n",
      "   11.   20.   18.   13.   40.   20.   29.   23.   22.   33.   20.   76.\n",
      "   26.   12.   43.   20.   22.   15.  102.   14.   22.   26.   29.   50.\n",
      "   20.   30.   18.   25.   44.   25.   39.   68.   13.   34.   15.   28.\n",
      "   24.   27.   16.   60.   24.   54.   14.   22.   33.   26.   47.   62.\n",
      "   43.   16.   88.   10.   26.   24.   13.   18.   59.   43.   17.   23.\n",
      "   24.   10.   46.   27.   54.   12.   10.   17.]\n"
     ]
    }
   ],
   "source": [
    "print(ndocs)"
   ]
  },
  {
   "cell_type": "markdown",
   "metadata": {},
   "source": [
    "By far the largest cluster is the one that links to ISBN.  LOL"
   ]
  }
 ],
 "metadata": {
  "anaconda-cloud": {},
  "kernelspec": {
   "display_name": "Python [Root]",
   "language": "python",
   "name": "Python [Root]"
  },
  "language_info": {
   "codemirror_mode": {
    "name": "ipython",
    "version": 3
   },
   "file_extension": ".py",
   "mimetype": "text/x-python",
   "name": "python",
   "nbconvert_exporter": "python",
   "pygments_lexer": "ipython3",
   "version": "3.5.1"
  }
 },
 "nbformat": 4,
 "nbformat_minor": 0
}
