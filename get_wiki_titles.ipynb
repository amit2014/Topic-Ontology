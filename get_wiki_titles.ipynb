{
 "cells": [
  {
   "cell_type": "code",
   "execution_count": 100,
   "metadata": {
    "collapsed": false
   },
   "outputs": [],
   "source": [
    "import pandas as pd\n",
    "import requests\n",
    "import json\n",
    "from io import StringIO\n",
    "from unidecode import unidecode \n",
    "import pickle"
   ]
  },
  {
   "cell_type": "code",
   "execution_count": 2,
   "metadata": {
    "collapsed": true
   },
   "outputs": [],
   "source": [
    "wapi = \"https://en.wikipedia.org/w/api.php?action=query&list=allpages&aplimit=500&apnamespace=0&format=json&apfilterredir=nonredirects&apfrom=\""
   ]
  },
  {
   "cell_type": "code",
   "execution_count": 4,
   "metadata": {
    "collapsed": false
   },
   "outputs": [
    {
     "name": "stdout",
     "output_type": "stream",
     "text": [
      "iter:500 , titles so far:249500\n",
      "iter:1000 , titles so far:499000\n",
      "iter:1500 , titles so far:748500\n",
      "iter:2000 , titles so far:998000\n",
      "iter:2500 , titles so far:1247500\n",
      "iter:3000 , titles so far:1497000\n",
      "iter:3500 , titles so far:1746500\n",
      "iter:4000 , titles so far:1996000\n",
      "iter:4500 , titles so far:2245500\n",
      "iter:5000 , titles so far:2495000\n",
      "iter:5500 , titles so far:2744500\n",
      "iter:6000 , titles so far:2994000\n",
      "iter:6500 , titles so far:3243500\n",
      "iter:7000 , titles so far:3493000\n",
      "iter:7500 , titles so far:3742500\n",
      "iter:8000 , titles so far:3992000\n",
      "iter:8500 , titles so far:4241500\n",
      "iter:9000 , titles so far:4491000\n",
      "iter:9500 , titles so far:4740500\n",
      "iter:10000 , titles so far:4990000\n"
     ]
    }
   ],
   "source": [
    "titles =[]\n",
    "start = ''\n",
    "z = 0\n",
    "while True:\n",
    "    url = wapi + start\n",
    "    #print(url)\n",
    "    r = requests.get(url)\n",
    "    d = json.load(StringIO(r.text))\n",
    "    ttl = [d['query']['allpages'][i]['title'] for i in range(len(d['query']['allpages']) )]\n",
    "    titles.extend(ttl[:-1])\n",
    "    start=ttl[-1]\n",
    "    if (len(ttl)<500):\n",
    "        break\n",
    "    z = z + 1\n",
    "    if (z % 500 == 0):\n",
    "        print('iter:%d , titles so far:%d'%(z,len(titles)) )\n",
    "    "
   ]
  },
  {
   "cell_type": "code",
   "execution_count": 5,
   "metadata": {
    "collapsed": false
   },
   "outputs": [
    {
     "data": {
      "text/plain": [
       "5201186"
      ]
     },
     "execution_count": 5,
     "metadata": {},
     "output_type": "execute_result"
    }
   ],
   "source": [
    "len(titles)"
   ]
  },
  {
   "cell_type": "code",
   "execution_count": 18,
   "metadata": {
    "collapsed": false
   },
   "outputs": [],
   "source": [
    "clean_titles = [unidecode(ttl) for ttl in titles] "
   ]
  },
  {
   "cell_type": "code",
   "execution_count": 73,
   "metadata": {
    "collapsed": false
   },
   "outputs": [],
   "source": [
    "disambig = ['(disambiguation)' in t  for t in titles]"
   ]
  },
  {
   "cell_type": "code",
   "execution_count": 74,
   "metadata": {
    "collapsed": false
   },
   "outputs": [
    {
     "data": {
      "text/html": [
       "<div>\n",
       "<table border=\"1\" class=\"dataframe\">\n",
       "  <thead>\n",
       "    <tr style=\"text-align: right;\">\n",
       "      <th></th>\n",
       "      <th>title</th>\n",
       "      <th>clean_title</th>\n",
       "      <th>disambig</th>\n",
       "    </tr>\n",
       "  </thead>\n",
       "  <tbody>\n",
       "    <tr>\n",
       "      <th>5201176</th>\n",
       "      <td>高雄</td>\n",
       "      <td>Gao Xiong</td>\n",
       "      <td>False</td>\n",
       "    </tr>\n",
       "    <tr>\n",
       "      <th>5201177</th>\n",
       "      <td>鬼 (disambiguation)</td>\n",
       "      <td>Gui  (disambiguation)</td>\n",
       "      <td>True</td>\n",
       "    </tr>\n",
       "    <tr>\n",
       "      <th>5201178</th>\n",
       "      <td>魁</td>\n",
       "      <td>Kui</td>\n",
       "      <td>False</td>\n",
       "    </tr>\n",
       "    <tr>\n",
       "      <th>5201179</th>\n",
       "      <td>鲁</td>\n",
       "      <td>Lu</td>\n",
       "      <td>False</td>\n",
       "    </tr>\n",
       "    <tr>\n",
       "      <th>5201180</th>\n",
       "      <td>黑山</td>\n",
       "      <td>Hei Shan</td>\n",
       "      <td>False</td>\n",
       "    </tr>\n",
       "    <tr>\n",
       "      <th>5201181</th>\n",
       "      <td>Ꞷ</td>\n",
       "      <td></td>\n",
       "      <td>False</td>\n",
       "    </tr>\n",
       "    <tr>\n",
       "      <th>5201182</th>\n",
       "      <td>김</td>\n",
       "      <td>gim</td>\n",
       "      <td>False</td>\n",
       "    </tr>\n",
       "    <tr>\n",
       "      <th>5201183</th>\n",
       "      <td>김세영 (disambiguation)</td>\n",
       "      <td>gimseyeong (disambiguation)</td>\n",
       "      <td>True</td>\n",
       "    </tr>\n",
       "    <tr>\n",
       "      <th>5201184</th>\n",
       "      <td>박정훈</td>\n",
       "      <td>bagjeonghun</td>\n",
       "      <td>False</td>\n",
       "    </tr>\n",
       "    <tr>\n",
       "      <th>5201185</th>\n",
       "      <td>약</td>\n",
       "      <td>yag</td>\n",
       "      <td>False</td>\n",
       "    </tr>\n",
       "  </tbody>\n",
       "</table>\n",
       "</div>"
      ],
      "text/plain": [
       "                        title                  clean_title disambig\n",
       "5201176                    高雄                   Gao Xiong     False\n",
       "5201177    鬼 (disambiguation)        Gui  (disambiguation)     True\n",
       "5201178                     魁                         Kui     False\n",
       "5201179                     鲁                          Lu     False\n",
       "5201180                    黑山                    Hei Shan     False\n",
       "5201181                     Ꞷ                                 False\n",
       "5201182                     김                          gim    False\n",
       "5201183  김세영 (disambiguation)  gimseyeong (disambiguation)     True\n",
       "5201184                   박정훈                  bagjeonghun    False\n",
       "5201185                     약                          yag    False"
      ]
     },
     "execution_count": 74,
     "metadata": {},
     "output_type": "execute_result"
    }
   ],
   "source": [
    "Data = pd.DataFrame(list(zip(titles, clean_titles,disambig)),\\\n",
    "                    columns = ['title', 'clean_title','disambig'])\n",
    "\n",
    "Data.tail(10)"
   ]
  },
  {
   "cell_type": "code",
   "execution_count": 95,
   "metadata": {
    "collapsed": false
   },
   "outputs": [
    {
     "name": "stdout",
     "output_type": "stream",
     "text": [
      "number of disambiguation titles: 45582 (0.876% of all)\n"
     ]
    }
   ],
   "source": [
    "print('number of disambiguation titles: %d (%3.3f%% of all)'% (Data.disambig.sum(), 100*Data.disambig.sum()/len(Data)))"
   ]
  },
  {
   "cell_type": "code",
   "execution_count": 103,
   "metadata": {
    "collapsed": false
   },
   "outputs": [],
   "source": [
    "# for size reasons, I am only saving the titles\n",
    "f = open('en_wikipedia_titles.pkl','wb')\n",
    "pickle.dump(titles, f)\n",
    "f.close()"
   ]
  },
  {
   "cell_type": "code",
   "execution_count": null,
   "metadata": {
    "collapsed": true
   },
   "outputs": [],
   "source": []
  }
 ],
 "metadata": {
  "kernelspec": {
   "display_name": "Python 3",
   "language": "python",
   "name": "python3"
  },
  "language_info": {
   "codemirror_mode": {
    "name": "ipython",
    "version": 3
   },
   "file_extension": ".py",
   "mimetype": "text/x-python",
   "name": "python",
   "nbconvert_exporter": "python",
   "pygments_lexer": "ipython3",
   "version": "3.5.2"
  }
 },
 "nbformat": 4,
 "nbformat_minor": 0
}
