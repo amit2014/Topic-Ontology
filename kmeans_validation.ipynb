{
 "cells": [
  {
   "cell_type": "markdown",
   "metadata": {},
   "source": [
    "# Validation of kmeans clustering\n",
    "Author: Tristan Miller\n",
    "\n",
    "I'm loosely following the validation method from Ryan P Adams' lecture notes, provided by Max.  The idea is to create test data with similar statistics to the real data, but with none of the clustering behavior.  Then kmeans is performed on the test data, and a clustering statistic is computed for both the test data and real data.  The best choice of k is that which maximizes the difference in the clustering statistic.\n",
    "\n",
    "From previous discussion, I thought the best way to generate test data would be to take real data, and shuffle the dimensions of each term vector."
   ]
  },
  {
   "cell_type": "markdown",
   "metadata": {},
   "source": [
    "### Initializing"
   ]
  },
  {
   "cell_type": "code",
   "execution_count": 1,
   "metadata": {
    "collapsed": true
   },
   "outputs": [],
   "source": [
    "import pandas as pd\n",
    "import numpy\n",
    "import matplotlib.pyplot as plt\n",
    "from sklearn.feature_extraction.text import *\n",
    "import scipy"
   ]
  },
  {
   "cell_type": "code",
   "execution_count": 34,
   "metadata": {
    "collapsed": false
   },
   "outputs": [],
   "source": [
    "data = pd.read_pickle(\"processed_10k_articles.pkl\")\n",
    "unweighted_words = numpy.reshape(numpy.load(\"document_term_matrix.npy\"),(1))[0]\n",
    "term_list = pd.read_pickle(\"term_list.pkl\")[0].tolist()"
   ]
  },
  {
   "cell_type": "code",
   "execution_count": 3,
   "metadata": {
    "collapsed": true
   },
   "outputs": [],
   "source": [
    "#TF-IDF weighting can be applied after the fact with TfidfTransformer\n",
    "Tfidf = TfidfTransformer()\n",
    "#IDF weights only need to be calculated once, and can be reused for test data.\n",
    "Tfidf.fit(unweighted_words)\n",
    "#Now we apply the weights\n",
    "real_data = Tfidf.transform(unweighted_words)"
   ]
  },
  {
   "cell_type": "markdown",
   "metadata": {},
   "source": [
    "### Running kmeans"
   ]
  },
  {
   "cell_type": "code",
   "execution_count": 4,
   "metadata": {
    "collapsed": true
   },
   "outputs": [],
   "source": [
    "from sklearn.cluster import KMeans"
   ]
  },
  {
   "cell_type": "code",
   "execution_count": 217,
   "metadata": {
    "collapsed": false
   },
   "outputs": [],
   "source": [
    "#run kmeans on real data\n",
    "kmeans=KMeans(n_clusters=12)\n",
    "kmeans_pred=kmeans.fit_predict(real_data)\n",
    "cluster_means = kmeans.cluster_centers_"
   ]
  },
  {
   "cell_type": "code",
   "execution_count": 218,
   "metadata": {
    "collapsed": false
   },
   "outputs": [
    {
     "name": "stdout",
     "output_type": "stream",
     "text": [
      "         term  frequency\n",
      "222   municip   0.607114\n",
      "95   district   0.220994\n",
      "271   provinc   0.148308\n",
      "97       east   0.119807\n",
      "193      live   0.096183\n",
      "373    websit   0.095420\n",
      "231     north   0.093500\n",
      "251     peopl   0.090607\n",
      "279     refer   0.065433\n",
      "238    offici   0.043709\n",
      "['Heilongjiang', 'Utrecht (province)', 'Las Terrenas, Samaná', 'Obwalden', 'Leuk (district)', 'Visp (district)', 'Diessenhofen', 'Amlikon-Bissegg', 'Mendrisio (district)', 'Morbio Inferiore', 'Vacallo', 'Homburg, Switzerland', 'Salenstein', 'Baden, Switzerland', 'Benzenschwil', 'Adelboden', 'Zeiningen', 'Buchs, Aargau', 'Sabaneta, Santiago Rodríguez', 'Kerns', 'Wiliberg']\n"
     ]
    }
   ],
   "source": [
    "#print out some information about a cluster\n",
    "def cluster_info(cluster_index,cluster_means,kmeans_pred):\n",
    "    #print out the top terms at the cluster center\n",
    "    cluster_mean = pd.DataFrame(index=range(real_data.shape[1]),columns=['term','frequency'])\n",
    "    cluster_mean['term']=term_list\n",
    "    cluster_mean['frequency']=cluster_means[cluster_index]\n",
    "    cluster_mean.sort_values('frequency',ascending=False,inplace=True)\n",
    "    print(cluster_mean[0:10])\n",
    "\n",
    "    #print out some titles\n",
    "    print([data['title'][i] for i in range(len(data)) if kmeans_pred[i] == cluster_index][0:21])\n",
    "\n",
    "cluster_info(0,cluster_means,kmeans_pred)"
   ]
  },
  {
   "cell_type": "code",
   "execution_count": 219,
   "metadata": {
    "collapsed": true
   },
   "outputs": [],
   "source": [
    "from scipy.spatial.distance import sqeuclidean\n",
    "\n",
    "#Now let's get the clustering statistic\n",
    "def cluster_statistic(bag_of_words,cluster_means,kmeans_pred):\n",
    "    running_sum = [0]*len(cluster_means)\n",
    "    \n",
    "    for i in range(len(kmeans_pred)):\n",
    "        #for each data point, add the square distance to the cluster center to the running sum\n",
    "        running_sum[kmeans_pred[i]] += sqeuclidean(cluster_means[kmeans_pred[i]],bag_of_words[i,:].toarray())\n",
    "    #normalize each cluster to the size of the cluster\n",
    "    for k in range(len(running_sum)):\n",
    "        cluster_size = len([i for i in range(len(kmeans_pred)) if kmeans_pred[i] == k])\n",
    "        running_sum[k] /= cluster_size\n",
    "    return sum(running_sum)"
   ]
  },
  {
   "cell_type": "code",
   "execution_count": 220,
   "metadata": {
    "collapsed": false
   },
   "outputs": [
    {
     "name": "stdout",
     "output_type": "stream",
     "text": [
      "8.46563716262\n"
     ]
    }
   ],
   "source": [
    "stat = cluster_statistic(real_data,cluster_means,kmeans_pred)\n",
    "print(stat)"
   ]
  },
  {
   "cell_type": "markdown",
   "metadata": {},
   "source": [
    "### Generate test data"
   ]
  },
  {
   "cell_type": "code",
   "execution_count": 114,
   "metadata": {
    "collapsed": false
   },
   "outputs": [
    {
     "data": {
      "text/plain": [
       "scipy.sparse.csr.csr_matrix"
      ]
     },
     "execution_count": 114,
     "metadata": {},
     "output_type": "execute_result"
    }
   ],
   "source": [
    "type(unweighted_words)"
   ]
  },
  {
   "cell_type": "code",
   "execution_count": 208,
   "metadata": {
    "collapsed": true
   },
   "outputs": [],
   "source": [
    "import random\n",
    "def generate_test_data(unweighted_words):\n",
    "    #Shuffles each column in a document-term matrix\n",
    "    num_rows = unweighted_words.shape[0]\n",
    "    num_cols = unweighted_words.shape[1]\n",
    "    test_data = scipy.sparse.csc_matrix(unweighted_words)\n",
    "    #in the csc_matrix format, \"indices\" is a complete list of rows for each nonzero element\n",
    "    #and \"indptr\" tells you where in \"indices\" each new column starts\n",
    "    \n",
    "    #loop through each column\n",
    "    for i in range(num_cols):\n",
    "        #find the first and last indices of the data corresponding to the given column\n",
    "        column_first = test_data.indptr[i] \n",
    "        column_last = test_data.indptr[i+1]\n",
    "        #for each nonzero element in the column, assign it a new row at random.\n",
    "        test_data.indices[column_first:column_last] = random.sample(range(num_rows),column_last-column_first)\n",
    "    \n",
    "    #convert back to csr\n",
    "    test_data = scipy.sparse.csr_matrix(test_data)\n",
    "    return test_data"
   ]
  },
  {
   "cell_type": "code",
   "execution_count": 202,
   "metadata": {
    "collapsed": false
   },
   "outputs": [
    {
     "name": "stdout",
     "output_type": "stream",
     "text": [
      "[[0 1 2]\n",
      " [0 0 3]\n",
      " [0 0 0]]\n",
      "[[0 0 3]\n",
      " [0 0 0]\n",
      " [0 1 2]]\n"
     ]
    }
   ],
   "source": [
    "#testing\n",
    "arr = scipy.sparse.csr_matrix([[0,1,2],[0,0,3],[0,0,0]])\n",
    "arr2 = generate_test_data(arr)\n",
    "print(arr.toarray())\n",
    "print(arr2.toarray())"
   ]
  },
  {
   "cell_type": "code",
   "execution_count": 205,
   "metadata": {
    "collapsed": false
   },
   "outputs": [
    {
     "data": {
      "text/plain": [
       "3372"
      ]
     },
     "execution_count": 205,
     "metadata": {},
     "output_type": "execute_result"
    }
   ],
   "source": [
    "random.randint(0,10000)"
   ]
  },
  {
   "cell_type": "code",
   "execution_count": 207,
   "metadata": {
    "collapsed": false
   },
   "outputs": [],
   "source": [
    "#Finally, generate the test data\n",
    "random.seed(3372)\n",
    "test_matrix1 = generate_test_data(unweighted_words)\n",
    "test_matrix2 = generate_test_data(test_matrix1)\n",
    "#apply TF-IDF weighting to test data\n",
    "test_data1 = Tfidf.transform(test_matrix1)\n",
    "test_data2 = Tfidf.transform(test_matrix2)"
   ]
  },
  {
   "cell_type": "code",
   "execution_count": 221,
   "metadata": {
    "collapsed": false
   },
   "outputs": [
    {
     "name": "stdout",
     "output_type": "stream",
     "text": [
      "9.18655121185\n"
     ]
    }
   ],
   "source": [
    "kmeans_test1=kmeans.fit_predict(test_data1)\n",
    "cm_test1 = kmeans.cluster_centers_\n",
    "stat = cluster_statistic(test_data1,cm_test1,kmeans_test1)\n",
    "print(stat)\n",
    "#I expect this to be higher than it was for real data"
   ]
  },
  {
   "cell_type": "markdown",
   "metadata": {},
   "source": [
    "### Find optimal number of clusters"
   ]
  },
  {
   "cell_type": "code",
   "execution_count": 223,
   "metadata": {
    "collapsed": true
   },
   "outputs": [],
   "source": [
    "import time"
   ]
  },
  {
   "cell_type": "code",
   "execution_count": 250,
   "metadata": {
    "collapsed": false
   },
   "outputs": [
    {
     "name": "stdout",
     "output_type": "stream",
     "text": [
      "Applying kmeans clustering for k up to 20...\n",
      "Time: 0.08 minutes. Progress: k = 1\n",
      "Time: 0.47 minutes. Progress: k = 2\n",
      "Time: 0.82 minutes. Progress: k = 3\n",
      "Time: 1.18 minutes. Progress: k = 4\n",
      "Time: 1.59 minutes. Progress: k = 5\n",
      "Time: 2.05 minutes. Progress: k = 6\n",
      "Time: 2.46 minutes. Progress: k = 7\n",
      "Time: 2.92 minutes. Progress: k = 8\n",
      "Time: 3.38 minutes. Progress: k = 9\n",
      "Time: 3.90 minutes. Progress: k = 10\n",
      "Time: 4.52 minutes. Progress: k = 11\n",
      "Time: 5.20 minutes. Progress: k = 12\n",
      "Time: 5.75 minutes. Progress: k = 13\n",
      "Time: 6.28 minutes. Progress: k = 14\n",
      "Time: 6.97 minutes. Progress: k = 15\n",
      "Time: 7.61 minutes. Progress: k = 16\n",
      "Time: 8.27 minutes. Progress: k = 17\n",
      "Time: 8.99 minutes. Progress: k = 18\n",
      "Time: 9.66 minutes. Progress: k = 19\n",
      "Time: 10.23 minutes. Progress: k = 20\n"
     ]
    }
   ],
   "source": [
    "stat_real = []\n",
    "stat_test1 = []\n",
    "stat_test2 = []\n",
    "pred_real = []\n",
    "means_real = []\n",
    "pred_test1 = []\n",
    "means_test1 = []\n",
    "pred_test2 = []\n",
    "means_test2 = []\n",
    "\n",
    "start_time = time.time()\n",
    "print(\"Applying kmeans clustering for k up to 20...\")\n",
    "for i in range(1,21):\n",
    "    kmeans=KMeans(n_clusters=i)\n",
    "    pred_real.append(kmeans.fit_predict(real_data))\n",
    "    means_real.append(kmeans.cluster_centers_)\n",
    "    stat_real.append(cluster_statistic(real_data,means_real[i-1],pred_real[i-1]))\n",
    "    \n",
    "    pred_test1.append(kmeans.fit_predict(test_data1))\n",
    "    means_test1.append(kmeans.cluster_centers_)\n",
    "    stat_test1.append(cluster_statistic(test_data1,means_test1[i-1],pred_test1[i-1]))\n",
    "    \n",
    "    pred_test2.append(kmeans.fit_predict(test_data2))\n",
    "    means_test2.append(kmeans.cluster_centers_)\n",
    "    stat_test2.append(cluster_statistic(test_data2,means_test2[i-1],pred_test2[i-1]))\n",
    "    \n",
    "    processing_time = (time.time() - start_time)/60\n",
    "    print(\"Time: %.2f minutes. Progress: k = %d\" % (processing_time,i) )"
   ]
  },
  {
   "cell_type": "code",
   "execution_count": 262,
   "metadata": {
    "collapsed": false
   },
   "outputs": [
    {
     "data": {
      "text/plain": [
       "[<matplotlib.lines.Line2D at 0xf3ea860>,\n",
       " <matplotlib.lines.Line2D at 0xeaccd68>,\n",
       " <matplotlib.lines.Line2D at 0xeacc550>]"
      ]
     },
     "execution_count": 262,
     "metadata": {},
     "output_type": "execute_result"
    },
    {
     "data": {
      "image/png": "[encoded data removed]",
      "text/plain": [
       "<matplotlib.figure.Figure at 0xea6f518>"
      ]
     },
     "metadata": {},
     "output_type": "display_data"
    }
   ],
   "source": [
    "%matplotlib inline\n",
    "plt.plot(range(1,21),stat_real,'',range(1,21),stat_test1,'',range(1,21),stat_test2,'')"
   ]
  },
  {
   "cell_type": "code",
   "execution_count": 252,
   "metadata": {
    "collapsed": false,
    "scrolled": true
   },
   "outputs": [
    {
     "data": {
      "text/plain": [
       "<Container object of 3 artists>"
      ]
     },
     "execution_count": 252,
     "metadata": {},
     "output_type": "execute_result"
    },
    {
     "data": {
      "image/png": "[encoded data removed]",
      "text/plain": [
       "<matplotlib.figure.Figure at 0xf67b6d8>"
      ]
     },
     "metadata": {},
     "output_type": "display_data"
    }
   ],
   "source": [
    "stat_diff = [(t1+t2)/2-r for (r,t1,t2) in zip(stat_real,stat_test1,stat_test2)]\n",
    "stat_error = [abs(t1-t2)/2 for (r,t1,t2) in zip(stat_real,stat_test1,stat_test2)]\n",
    "plt.errorbar(range(1,21),stat_diff,yerr = stat_error)"
   ]
  },
  {
   "cell_type": "markdown",
   "metadata": {},
   "source": [
    "This result does not seem particularly helpful"
   ]
  },
  {
   "cell_type": "markdown",
   "metadata": {},
   "source": [
    "### Trying other statistics"
   ]
  },
  {
   "cell_type": "code",
   "execution_count": 254,
   "metadata": {
    "collapsed": true
   },
   "outputs": [],
   "source": [
    "#Try a few variations on the clustering statistic\n",
    "#This one divides by the number of clusters\n",
    "def cluster_statistic2(bag_of_words,cluster_means,kmeans_pred):\n",
    "    running_sum = [0]*len(cluster_means)\n",
    "    \n",
    "    for i in range(len(kmeans_pred)):\n",
    "        #for each data point, add the square distance to the cluster center to the running sum\n",
    "        running_sum[kmeans_pred[i]] += sqeuclidean(cluster_means[kmeans_pred[i]],bag_of_words[i,:].toarray())\n",
    "    #normalize each cluster to the size of the cluster\n",
    "    for k in range(len(running_sum)):\n",
    "        cluster_size = len([i for i in range(len(kmeans_pred)) if kmeans_pred[i] == k])\n",
    "        running_sum[k] /= cluster_size\n",
    "    return numpy.mean(running_sum)\n",
    "\n",
    "from scipy.spatial.distance import euclidean\n",
    "\n",
    "#this one finds the average difference in distance between the two closest cluster means\n",
    "#note that this won't work for a single cluster\n",
    "def cluster_statistic3(bag_of_words,cluster_means,kmeans_pred):\n",
    "    running_sum = 0\n",
    "    \n",
    "    for i in range(len(kmeans_pred)):\n",
    "        #for each data point, find the distances to all clusters\n",
    "        distances = []\n",
    "        for j in range(len(cluster_means)):\n",
    "            distances.append( euclidean(cluster_means[j],bag_of_words[i,:].toarray()) )\n",
    "        distances.sort()\n",
    "        running_sum += distances[1] - distances[0]\n",
    "    running_sum /= len(kmeans_pred)\n",
    "    \n",
    "    return running_sum\n"
   ]
  },
  {
   "cell_type": "code",
   "execution_count": 255,
   "metadata": {
    "collapsed": true
   },
   "outputs": [],
   "source": [
    "stat2_real = []\n",
    "stat2_test1 = []\n",
    "stat2_test2 = []\n",
    "for i in range(1,21):\n",
    "    stat2_real.append(cluster_statistic2(real_data,means_real[i-1],pred_real[i-1]))\n",
    "    stat2_test1.append(cluster_statistic2(test_data1,means_test1[i-1],pred_test1[i-1]))\n",
    "    stat2_test2.append(cluster_statistic2(test_data2,means_test2[i-1],pred_test2[i-1]))"
   ]
  },
  {
   "cell_type": "markdown",
   "metadata": {},
   "source": [
    "takes about a minute"
   ]
  },
  {
   "cell_type": "code",
   "execution_count": 256,
   "metadata": {
    "collapsed": true
   },
   "outputs": [],
   "source": [
    "stat3_real = []\n",
    "stat3_test1 = []\n",
    "stat3_test2 = []\n",
    "for i in range(2,21):\n",
    "    stat3_real.append(cluster_statistic3(real_data,means_real[i-1],pred_real[i-1]))\n",
    "    stat3_test1.append(cluster_statistic3(test_data1,means_test1[i-1],pred_test1[i-1]))\n",
    "    stat3_test2.append(cluster_statistic3(test_data2,means_test2[i-1],pred_test2[i-1]))"
   ]
  },
  {
   "cell_type": "markdown",
   "metadata": {},
   "source": [
    "took about 15 minutes"
   ]
  },
  {
   "cell_type": "code",
   "execution_count": 263,
   "metadata": {
    "collapsed": false
   },
   "outputs": [
    {
     "data": {
      "text/plain": [
       "[<matplotlib.lines.Line2D at 0xad982b0>,\n",
       " <matplotlib.lines.Line2D at 0xad98470>,\n",
       " <matplotlib.lines.Line2D at 0xad98dd8>]"
      ]
     },
     "execution_count": 263,
     "metadata": {},
     "output_type": "execute_result"
    },
    {
     "data": {
      "image/png": "[encoded data removed]",
      "text/plain": [
       "<matplotlib.figure.Figure at 0xf860080>"
      ]
     },
     "metadata": {},
     "output_type": "display_data"
    }
   ],
   "source": [
    "plt.plot(range(1,21),stat2_real,'',range(1,21),stat2_test1,'',range(1,21),stat2_test2,'')"
   ]
  },
  {
   "cell_type": "code",
   "execution_count": 264,
   "metadata": {
    "collapsed": false
   },
   "outputs": [
    {
     "data": {
      "text/plain": [
       "[<matplotlib.lines.Line2D at 0x15a2af98>,\n",
       " <matplotlib.lines.Line2D at 0x15a31198>,\n",
       " <matplotlib.lines.Line2D at 0x15a31b00>]"
      ]
     },
     "execution_count": 264,
     "metadata": {},
     "output_type": "execute_result"
    },
    {
     "data": {
      "image/png": "[encoded data removed]",
      "text/plain": [
       "<matplotlib.figure.Figure at 0xf4d6780>"
      ]
     },
     "metadata": {},
     "output_type": "display_data"
    }
   ],
   "source": [
    "plt.plot(range(2,21),stat3_real,'',range(2,21),stat3_test1,'',range(2,21),stat3_test2,'')"
   ]
  },
  {
   "cell_type": "code",
   "execution_count": 260,
   "metadata": {
    "collapsed": false
   },
   "outputs": [
    {
     "data": {
      "text/plain": [
       "<Container object of 3 artists>"
      ]
     },
     "execution_count": 260,
     "metadata": {},
     "output_type": "execute_result"
    },
    {
     "data": {
      "image/png": "[encoded data removed]",
      "text/plain": [
       "<matplotlib.figure.Figure at 0xf85c320>"
      ]
     },
     "metadata": {},
     "output_type": "display_data"
    }
   ],
   "source": [
    "stat2_diff = [(t1+t2)/2-r for (r,t1,t2) in zip(stat2_real,stat2_test1,stat2_test2)]\n",
    "stat2_error = [abs(t1-t2)/2 for (r,t1,t2) in zip(stat2_real,stat2_test1,stat2_test2)]\n",
    "plt.errorbar(range(1,21),stat2_diff,yerr = stat2_error)"
   ]
  },
  {
   "cell_type": "code",
   "execution_count": 265,
   "metadata": {
    "collapsed": false
   },
   "outputs": [
    {
     "data": {
      "text/plain": [
       "<Container object of 3 artists>"
      ]
     },
     "execution_count": 265,
     "metadata": {},
     "output_type": "execute_result"
    },
    {
     "data": {
      "image/png": "[encoded data removed]",
      "text/plain": [
       "<matplotlib.figure.Figure at 0x15a08518>"
      ]
     },
     "metadata": {},
     "output_type": "display_data"
    }
   ],
   "source": [
    "stat3_diff = [r-(t1+t2)/2 for (r,t1,t2) in zip(stat3_real,stat3_test1,stat3_test2)]\n",
    "stat3_error = [abs(t1-t2)/2 for (r,t1,t2) in zip(stat3_real,stat3_test1,stat3_test2)]\n",
    "plt.errorbar(range(2,21),stat3_diff,yerr = stat3_error)"
   ]
  },
  {
   "cell_type": "markdown",
   "metadata": {},
   "source": [
    "Going by rms distance to cluster centers, 6 seems to be best.  To minimize clusters near boundaries, 7 seems to be best.\n",
    "\n",
    "Okay, but how do I apply this to hierarchical agglomerative clustering?  Could be difficult..."
   ]
  },
  {
   "cell_type": "code",
   "execution_count": null,
   "metadata": {
    "collapsed": true
   },
   "outputs": [],
   "source": []
  }
 ],
 "metadata": {
  "anaconda-cloud": {},
  "kernelspec": {
   "display_name": "Python [Root]",
   "language": "python",
   "name": "Python [Root]"
  },
  "language_info": {
   "codemirror_mode": {
    "name": "ipython",
    "version": 3
   },
   "file_extension": ".py",
   "mimetype": "text/x-python",
   "name": "python",
   "nbconvert_exporter": "python",
   "pygments_lexer": "ipython3",
   "version": "3.5.1"
  }
 },
 "nbformat": 4,
 "nbformat_minor": 0
}
