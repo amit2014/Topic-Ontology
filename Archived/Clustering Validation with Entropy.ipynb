{
 "cells": [
  {
   "cell_type": "markdown",
   "metadata": {},
   "source": [
    "# Clustering Validation with Entropy\n",
    "\n",
    "Author: Simon Segert\n",
    "\n",
    "Here I propose a simple way to measure the validity of a cluster. \n",
    "\n",
    "The key point is that good clusters tend to have several words that co-occur often. This indicates that the algorithm is picking up the context of the words. Conversely, bad clusters commonly have one word that dominates the frequency distribution, which leads to weird groupings  (the same word can be used in different ways in different contexts). So looking at the spread of the top few frequencies gives a reasonable measure of cluster quality. \n",
    "\n"
   ]
  },
  {
   "cell_type": "code",
   "execution_count": 35,
   "metadata": {
    "collapsed": false
   },
   "outputs": [],
   "source": [
    "import pickle\n",
    "with open('processed_10k_articles.pkl', 'rb') as pickle_file:\n",
    "    data = pickle.load(pickle_file)\n",
    "\n",
    "\n",
    "import pandas as pd\n",
    "import numpy\n",
    "import scipy\n",
    "\n",
    "from sklearn.feature_extraction.text import TfidfVectorizer\n",
    "from nltk.corpus import stopwords\n",
    "\n",
    "tfidf=TfidfVectorizer(min_df=.03, stop_words='english')\n",
    "tfidf_matrix=tfidf.fit_transform(data['process'])"
   ]
  },
  {
   "cell_type": "code",
   "execution_count": 62,
   "metadata": {
    "collapsed": true
   },
   "outputs": [],
   "source": [
    "from IPython.core.display import HTML\n"
   ]
  },
  {
   "cell_type": "code",
   "execution_count": 36,
   "metadata": {
    "collapsed": false
   },
   "outputs": [
    {
     "data": {
      "text/plain": [
       "393"
      ]
     },
     "execution_count": 36,
     "metadata": {},
     "output_type": "execute_result"
    }
   ],
   "source": [
    "len(tfidf.get_feature_names())"
   ]
  },
  {
   "cell_type": "code",
   "execution_count": 37,
   "metadata": {
    "collapsed": true
   },
   "outputs": [],
   "source": [
    "from sklearn.cluster import KMeans\n",
    "kmeans=KMeans(n_clusters=150).fit_predict(tfidf_matrix)\n"
   ]
  },
  {
   "cell_type": "markdown",
   "metadata": {},
   "source": [
    "Some functions: "
   ]
  },
  {
   "cell_type": "code",
   "execution_count": 8,
   "metadata": {
    "collapsed": true
   },
   "outputs": [],
   "source": [
    "\n",
    "def index_of_title(article_name, df):\n",
    "    return df[df['title']==article_name].index.values[0]\n",
    "\n",
    "#returns an array of clusters, with each cluster represented as an array of titles \n",
    "def get_cluster_titles(index_vector, titles): \n",
    "    cluster_titles=[]\n",
    "    for i in range(max(index_vector)+1):\n",
    "        cluster_titles.append([])\n",
    "    \n",
    "    for i in range(len(titles)):\n",
    "        cluster_titles[index_vector[i]].append(titles[i])\n",
    "    return cluster_titles\n",
    "\n",
    "def get_lengths(index_vector): #return length of each cluster\n",
    "    lengths=[]\n",
    "    for i in range(max(index_vector)+1):\n",
    "        lengths.append(0)\n",
    "    for x in index_vector:\n",
    "        lengths[x]+=1\n",
    "    return lengths\n",
    "\n",
    "\n",
    "def get_cm(cluster, feature_matrix, df): #return center of mass of cluster\n",
    "    cm=[0]*len(feature_matrix[0, :].toarray())\n",
    "    for title in cluster:\n",
    "        cm=numpy.add(cm, feature_matrix[index_of_title(title, df), :].toarray()[0])\n",
    "    return numpy.divide(cm, len(cluster))\n",
    "\n",
    "\n",
    "\n",
    "def cluster_info(cluster, feature_matrix, feature_labels, df):#feature_labels normally=tfidf.get_feature_names()\n",
    "    #print out the top terms at the cluster center\n",
    "    \n",
    "    cluster_mean = pd.DataFrame(index=range(feature_matrix.shape[1]),columns=['term','frequency'])\n",
    "    cluster_mean['term']=feature_labels\n",
    "    cluster_mean['frequency']=get_cm(cluster, feature_matrix, df)\n",
    "    cluster_mean.sort_values('frequency',ascending=False,inplace=True)\n",
    "    print(cluster_mean[0:10])\n",
    "\n",
    "    #print out some titles\n",
    "    print(cluster[0:21])\n",
    "    \n",
    "def get_max_freq(list_of_clusters, feature_matrix, df): #return top value of cluster_mean['frequency']\n",
    "    return [max(get_cm(cluster, feature_matrix, df)) for cluster in list_of_clusters]\n",
    "\n",
    "def get_entropy(cluster, feature_matrix, df): #return Shannon entropy of cluster\n",
    "    cm=get_cm(cluster, feature_matrix, df)\n",
    "    cm=-numpy.sort(-cm,)\n",
    "    ent=scipy.stats.entropy(cm[0:4])\n",
    "    if ent<-100:\n",
    "        ent=0\n",
    "    return ent"
   ]
  },
  {
   "cell_type": "code",
   "execution_count": 38,
   "metadata": {
    "collapsed": true
   },
   "outputs": [],
   "source": [
    "clusters=get_cluster_titles(kmeans, data['title'])"
   ]
  },
  {
   "cell_type": "markdown",
   "metadata": {},
   "source": [
    "First let's take a look at a good cluster:"
   ]
  },
  {
   "cell_type": "code",
   "execution_count": 43,
   "metadata": {
    "collapsed": false
   },
   "outputs": [
    {
     "data": {
      "text/plain": [
       "['Monflanquin',\n",
       " 'Ancy-le-Franc',\n",
       " 'Annoux',\n",
       " 'Archignat',\n",
       " 'Autry-Issards',\n",
       " 'Avermes',\n",
       " 'Avrilly, Allier',\n",
       " 'Viplaix',\n",
       " 'Bellerive-sur-Allier',\n",
       " 'Bézenet',\n",
       " 'Billy, Allier',\n",
       " 'Braize',\n",
       " 'Le Brethon',\n",
       " 'La Celle, Allier',\n",
       " 'Chapeau, Allier',\n",
       " 'Château-sur-Allier',\n",
       " 'Deneuille-les-Mines',\n",
       " 'Deux-Chaises',\n",
       " 'Brion, Yonne',\n",
       " 'Coutarnoux',\n",
       " 'Garnat-sur-Engièvre',\n",
       " 'Épineau-les-Voves',\n",
       " 'Pont-sur-Yonne',\n",
       " 'Gland, Yonne',\n",
       " \"Gy-l'Évêque\",\n",
       " 'Précy-sur-Vrin',\n",
       " 'Mélisey, Yonne',\n",
       " 'Roffey, Yonne',\n",
       " 'Montacher-Villegardin',\n",
       " 'Les Ormes, Yonne',\n",
       " 'Parly',\n",
       " 'Paroy-sur-Tholon',\n",
       " 'Sainte-Colombe-sur-Loing',\n",
       " 'Saint-Léger-Vauban',\n",
       " 'Sarry, Yonne',\n",
       " 'Villeneuve-la-Dondagre',\n",
       " 'Sens',\n",
       " 'Talcy, Yonne',\n",
       " 'Toucy',\n",
       " 'Vaudeurs',\n",
       " 'Vézelay',\n",
       " 'Vézinnes',\n",
       " 'Villecien',\n",
       " 'Villebougis',\n",
       " 'Montvicq',\n",
       " 'Le Vilhain',\n",
       " 'Louchy-Montfand',\n",
       " 'Louroux-Hodement',\n",
       " 'Mercy, Allier',\n",
       " 'Maillet, Allier',\n",
       " 'Magnet, Allier',\n",
       " 'Périgny, Allier',\n",
       " 'Rongères',\n",
       " 'Saint-Marcel-en-Murat',\n",
       " 'Saint-Pierre-Laval',\n",
       " \"Saint-Priest-d'Andelot\",\n",
       " 'Saligny-sur-Roudon',\n",
       " 'Souvigny',\n",
       " 'Theneuille',\n",
       " 'Varennes-sur-Allier',\n",
       " 'Veauce']"
      ]
     },
     "execution_count": 43,
     "metadata": {},
     "output_type": "execute_result"
    }
   ],
   "source": [
    "clusters[79]"
   ]
  },
  {
   "cell_type": "markdown",
   "metadata": {},
   "source": [
    "This seems to be mostly places in France (is it just me, or are there disproportionately many articles about obscure French villages?). The cluster_info bears this out:"
   ]
  },
  {
   "cell_type": "code",
   "execution_count": 44,
   "metadata": {
    "collapsed": false
   },
   "outputs": [
    {
     "name": "stdout",
     "output_type": "stream",
     "text": [
      "       term  frequency\n",
      "92   depart   0.515089\n",
      "74   commun   0.461086\n",
      "128   franc   0.450318\n",
      "56   center   0.439799\n",
      "280   refer   0.197425\n",
      "130  french   0.099689\n",
      "301   saint   0.040567\n",
      "178      la   0.015188\n",
      "205     lot   0.008573\n",
      "30     base   0.003639\n",
      "['Monflanquin', 'Ancy-le-Franc', 'Annoux', 'Archignat', 'Autry-Issards', 'Avermes', 'Avrilly, Allier', 'Viplaix', 'Bellerive-sur-Allier', 'Bézenet', 'Billy, Allier', 'Braize', 'Le Brethon', 'La Celle, Allier', 'Chapeau, Allier', 'Château-sur-Allier', 'Deneuille-les-Mines', 'Deux-Chaises', 'Brion, Yonne', 'Coutarnoux', 'Garnat-sur-Engièvre']\n"
     ]
    }
   ],
   "source": [
    "cluster_info(clusters[79], tfidf_matrix, tfidf.get_feature_names(), data)"
   ]
  },
  {
   "cell_type": "markdown",
   "metadata": {},
   "source": [
    "We see that the terms 'commune', 'department', 'france' and 'center' all occur frequently (frequency>.4).  "
   ]
  },
  {
   "cell_type": "markdown",
   "metadata": {},
   "source": [
    "Now let's look at a more questionable cluster:"
   ]
  },
  {
   "cell_type": "code",
   "execution_count": 76,
   "metadata": {
    "collapsed": false
   },
   "outputs": [
    {
     "data": {
      "text/plain": [
       "['Names of God in Islam',\n",
       " 'Abdul Aziz Al Ghurair',\n",
       " 'Motor neurone disease',\n",
       " 'Resting potential',\n",
       " 'Sura',\n",
       " 'Ruby',\n",
       " 'States of Sudan',\n",
       " \"Ja'far\",\n",
       " 'Twelvers',\n",
       " 'Musalla',\n",
       " 'Imam Ali Mosque',\n",
       " 'UAE Football League',\n",
       " 'Ali Hassan al-Majid',\n",
       " 'Ahmed Al Safi',\n",
       " \"It's All About the Pentiums\",\n",
       " 'Absh Khatun',\n",
       " 'Abd al-Rahman al-Sufi',\n",
       " 'Neurolinguistic programming',\n",
       " 'Samukh Rayon',\n",
       " 'List of cities in Iraq',\n",
       " 'List of cities in Qatar',\n",
       " 'Eternal Silence',\n",
       " 'Manuel De Sica',\n",
       " 'Abu Anas al-Libi',\n",
       " 'Mecca crane collapse',\n",
       " 'Abu Ali al-Anbari',\n",
       " 'Reem Al Numery',\n",
       " 'Samia al-Amoudi']"
      ]
     },
     "execution_count": 76,
     "metadata": {},
     "output_type": "execute_result"
    }
   ],
   "source": [
    "clusters[87]"
   ]
  },
  {
   "cell_type": "markdown",
   "metadata": {},
   "source": [
    "This one looks at first like Arabic people and places, but there are a couple of articles like 'Motor neurone disease' that clearly don't belong. "
   ]
  },
  {
   "cell_type": "code",
   "execution_count": 46,
   "metadata": {
    "collapsed": false
   },
   "outputs": [
    {
     "name": "stdout",
     "output_type": "stream",
     "text": [
      "        term  frequency\n",
      "8         al   0.681178\n",
      "280    refer   0.049443\n",
      "363     unit   0.034290\n",
      "22    associ   0.030768\n",
      "96       die   0.029956\n",
      "196     list   0.029915\n",
      "90     death   0.029729\n",
      "309  septemb   0.026907\n",
      "117   famili   0.025432\n",
      "222   mostli   0.025177\n",
      "['Names of God in Islam', 'Abdul Aziz Al Ghurair', 'Motor neurone disease', 'Resting potential', 'Sura', 'Ruby', 'States of Sudan', \"Ja'far\", 'Twelvers', 'Musalla', 'Imam Ali Mosque', 'UAE Football League', 'Ali Hassan al-Majid', 'Ahmed Al Safi', \"It's All About the Pentiums\", 'Absh Khatun', 'Abd al-Rahman al-Sufi', 'Neurolinguistic programming', 'Samukh Rayon', 'List of cities in Iraq', 'List of cities in Qatar']\n"
     ]
    }
   ],
   "source": [
    "cluster_info(clusters[87], tfidf_matrix, tfidf.get_feature_names(), data)"
   ]
  },
  {
   "cell_type": "markdown",
   "metadata": {},
   "source": [
    "It seems that algorithm grouped all of these articles together based on the occurrence of 'al'. It makes sense that this would group together articles that contain a lot of Arabic names, but because of the stemming, it spuriously includes articles that have a lot of words that begin with 'al'. For example, 'Motor neuron disease' is also called 'ALS', which presumably after the stemming and lower-casing was rendered as 'al'. Similarly, rubies are aluminum oxide, so the 'Ruby' article has multiple words that start with 'al'. \n"
   ]
  },
  {
   "cell_type": "markdown",
   "metadata": {},
   "source": [
    "A lot of bad clusters tend to have lopsided frequency tables, like above. This is an indication that the algorithm is grouping together articles mainly on the basis of a single stem; the trouble with this is that a single word might be used differently in different articles, or even that different words (like aluminum and als) give the same stem. \n",
    "\n",
    "This problem didn't seem to be present in the first example, which I think is because the frequency distribution was \"spread out\" evenly over multiple words. Although two completely different articles can easily have a similar tfidf score for a single stem, it's very unlikely that two such articles will have similar scores for four different words. \n"
   ]
  },
  {
   "cell_type": "markdown",
   "metadata": {},
   "source": [
    "So one could measure the quality of a cluster by the \n",
    "<a href=\"https://simple.wikipedia.org/wiki/Information_entropy\">Entropy</a> of the first few words in the frequency table. (I chose the first four). The lower the entropy, the more lopsided the distribution. \n"
   ]
  },
  {
   "cell_type": "markdown",
   "metadata": {},
   "source": [
    "Let's compute the entropy of each cluster:'"
   ]
  },
  {
   "cell_type": "code",
   "execution_count": 68,
   "metadata": {
    "collapsed": false
   },
   "outputs": [],
   "source": [
    "entropy=[get_entropy(cluster, tfidf_matrix, data) for cluster in clusters]"
   ]
  },
  {
   "cell_type": "markdown",
   "metadata": {},
   "source": [
    "The entropy of the French villages cluster and the \"Al\" cluster are:"
   ]
  },
  {
   "cell_type": "code",
   "execution_count": 69,
   "metadata": {
    "collapsed": false
   },
   "outputs": [
    {
     "name": "stdout",
     "output_type": "stream",
     "text": [
      "1.38439673113 0.566946837558\n"
     ]
    }
   ],
   "source": [
    "print(entropy[79], entropy[87])"
   ]
  },
  {
   "cell_type": "markdown",
   "metadata": {},
   "source": [
    "The French cluster has higher entropy, indicating a more even distribution among the top words. \n"
   ]
  },
  {
   "cell_type": "markdown",
   "metadata": {},
   "source": [
    "Now consider the following cluster:"
   ]
  },
  {
   "cell_type": "code",
   "execution_count": 60,
   "metadata": {
    "collapsed": false
   },
   "outputs": [
    {
     "name": "stdout",
     "output_type": "stream",
     "text": [
      "        term  frequency\n",
      "383     work   0.048932\n",
      "351     time   0.043526\n",
      "390     year   0.042342\n",
      "192     life   0.034575\n",
      "280    refer   0.033134\n",
      "89       day   0.031381\n",
      "339    studi   0.028048\n",
      "110  english   0.027793\n",
      "245    organ   0.026497\n",
      "211     mani   0.025431\n",
      "['Earth science', 'Time horizon', 'Thomm', 'Week', 'West', 'Thunder', 'Second International', 'John Belushi', 'Hunter S. Thompson', \"Uncle John's Bathroom Reader\", 'Richard Stallman', 'Organic chemistry', 'Aerospace engineering', 'Bauxite', 'Symptom', 'Saint Anna', 'Half-Life (video game)', 'Niagara Falls', 'Philipps University of Marburg', 'Anastacia', 'Little House on the Prairie']\n"
     ]
    }
   ],
   "source": [
    "cluster_info(clusters[62], tfidf_matrix, tfidf.get_feature_names(), data)"
   ]
  },
  {
   "cell_type": "markdown",
   "metadata": {},
   "source": [
    "This cluster has a very low maximum frequency of about .05, indicating that it's not really about anything in particular. However, when we compute the entropy, we get an artificially high value, because the function rescales the frequences to sum to 1. \n",
    "\n",
    "But this seems to be a fairly uncommon problem. For illustration, let's plot the histogram of the maximum frequency. \n",
    "\n",
    "\n",
    "\n"
   ]
  },
  {
   "cell_type": "code",
   "execution_count": 63,
   "metadata": {
    "collapsed": true
   },
   "outputs": [],
   "source": [
    "max_freq=get_max_freq(clusters, tfidf_matrix, data)"
   ]
  },
  {
   "cell_type": "code",
   "execution_count": 66,
   "metadata": {
    "collapsed": true
   },
   "outputs": [],
   "source": [
    "import matplotlib.pyplot as plt\n",
    "%matplotlib inline"
   ]
  },
  {
   "cell_type": "code",
   "execution_count": 67,
   "metadata": {
    "collapsed": false
   },
   "outputs": [
    {
     "data": {
      "text/plain": [
       "(array([  2.,   0.,   3.,   8.,  28.,  39.,  33.,  18.,  15.,   4.]),\n",
       " array([ 0.04893169,  0.12289798,  0.19686427,  0.27083056,  0.34479686,\n",
       "         0.41876315,  0.49272944,  0.56669574,  0.64066203,  0.71462832,\n",
       "         0.78859461]),\n",
       " <a list of 10 Patch objects>)"
      ]
     },
     "execution_count": 67,
     "metadata": {},
     "output_type": "execute_result"
    },
    {
     "data": {
      "image/png": "[encoded data removed]",
      "text/plain": [
       "<matplotlib.figure.Figure at 0x11ebb5ba8>"
      ]
     },
     "metadata": {},
     "output_type": "display_data"
    }
   ],
   "source": [
    "plt.hist(max_freq)"
   ]
  },
  {
   "cell_type": "markdown",
   "metadata": {},
   "source": [
    "The vast majority of clusters have a maximum frequency between .3 and .6."
   ]
  },
  {
   "cell_type": "markdown",
   "metadata": {},
   "source": [
    "For comparison, here's the entropy histogram:"
   ]
  },
  {
   "cell_type": "code",
   "execution_count": 70,
   "metadata": {
    "collapsed": false
   },
   "outputs": [
    {
     "data": {
      "text/plain": [
       "(array([  1.,   6.,   6.,  12.,  20.,  21.,  24.,  16.,  23.,  21.]),\n",
       " array([ 0.56694684,  0.64869183,  0.73043682,  0.81218181,  0.89392679,\n",
       "         0.97567178,  1.05741677,  1.13916176,  1.22090675,  1.30265174,\n",
       "         1.38439673]),\n",
       " <a list of 10 Patch objects>)"
      ]
     },
     "execution_count": 70,
     "metadata": {},
     "output_type": "execute_result"
    },
    {
     "data": {
      "image/png": "[encoded data removed]",
      "text/plain": [
       "<matplotlib.figure.Figure at 0x11e8ae860>"
      ]
     },
     "metadata": {},
     "output_type": "display_data"
    }
   ],
   "source": [
    "plt.hist(entropy)"
   ]
  },
  {
   "cell_type": "markdown",
   "metadata": {},
   "source": [
    "A lot of clusters have problematically low entropy. Even for a value around 1, the distributions are pretty lopsided:"
   ]
  },
  {
   "cell_type": "code",
   "execution_count": 74,
   "metadata": {
    "collapsed": false
   },
   "outputs": [
    {
     "name": "stdout",
     "output_type": "stream",
     "text": [
      "        term  frequency\n",
      "289  retriev   0.489239\n",
      "71       com   0.083759\n",
      "280    refer   0.073492\n",
      "167  japanes   0.070645\n",
      "196     list   0.068768\n",
      "166    japan   0.067046\n",
      "170     juli   0.048489\n",
      "228   nation   0.047967\n",
      "171     june   0.046311\n",
      "373   websit   0.045107\n",
      "['Giant salamander', 'Chinese calendar', 'Social status', 'UNetbootin', 'Mount Erebus', 'Vietnamese Wikipedia', 'Hysterotomy abortion', 'Shmuel Yosef Agnon', 'Pope Innocent VIII', 'Monsoon trough', 'Hiroshi Jofuku', 'All Sports Network', 'Nova Scotia Duck Tolling Retriever', 'Stroopwafel', 'St Kilda', 'Kosuke Fukudome', 'Oreo', 'Paraguay at the Olympics', 'Saint Vincent and the Grenadines at the Olympics', 'Alien hand syndrome', 'Stratovolcano']\n"
     ]
    }
   ],
   "source": [
    "cluster_info(clusters[90], tfidf_matrix, tfidf.get_feature_names(), data)"
   ]
  },
  {
   "cell_type": "code",
   "execution_count": 75,
   "metadata": {
    "collapsed": false
   },
   "outputs": [
    {
     "data": {
      "text/plain": [
       "0.97345384677039437"
      ]
     },
     "execution_count": 75,
     "metadata": {},
     "output_type": "execute_result"
    }
   ],
   "source": [
    "entropy[90]"
   ]
  },
  {
   "cell_type": "markdown",
   "metadata": {},
   "source": [
    "Finally, based on empirical observation, it seems like the best clusters have 3-4 words that dominate the frequency distribution. So a rule of thumb for k vs. number of words (i.e., number of features in the tfidf matrix) might be \n",
    "\n",
    "(number of clusters)*(3 to 4)=number of words used \n",
    "\n",
    "\n",
    "\n",
    "\n",
    "\n",
    "\n",
    "\n",
    "\n"
   ]
  },
  {
   "cell_type": "code",
   "execution_count": null,
   "metadata": {
    "collapsed": true
   },
   "outputs": [],
   "source": []
  }
 ],
 "metadata": {
  "anaconda-cloud": {},
  "celltoolbar": "Raw Cell Format",
  "kernelspec": {
   "display_name": "Python [Root]",
   "language": "python",
   "name": "Python [Root]"
  },
  "language_info": {
   "codemirror_mode": {
    "name": "ipython",
    "version": 3
   },
   "file_extension": ".py",
   "mimetype": "text/x-python",
   "name": "python",
   "nbconvert_exporter": "python",
   "pygments_lexer": "ipython3",
   "version": "3.5.1"
  }
 },
 "nbformat": 4,
 "nbformat_minor": 0
}
