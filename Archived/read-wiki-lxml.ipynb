{
 "cells": [
  {
   "cell_type": "markdown",
   "metadata": {},
   "source": [
    "## Preparing Wiki Data \n",
    "- Reading the wiki dump (from simple English Wiki, found at: [Simple English, 1/7/16](https://dumps.wikimedia.org/simplewiki/20160701/simplewiki-20160701-pages-articles-multistream.xml.bz2)\n",
    "- Parses the xml tree, picking actual articles.\n",
    "- From the total articles, we select 10K.\n",
    "- Makes a Pandas data frame with the text of these articles.\n"
   ]
  },
  {
   "cell_type": "code",
   "execution_count": 1,
   "metadata": {
    "collapsed": true
   },
   "outputs": [],
   "source": [
    "NumberOfArticles = 10000\n",
    "ArticleMinLength = 1000"
   ]
  },
  {
   "cell_type": "code",
   "execution_count": 2,
   "metadata": {
    "collapsed": true
   },
   "outputs": [],
   "source": [
    "import pandas as pd\n",
    "import numpy as np\n",
    "import xml.etree.ElementTree as ET\n",
    "#from lxml import objectify"
   ]
  },
  {
   "cell_type": "code",
   "execution_count": 3,
   "metadata": {
    "collapsed": false
   },
   "outputs": [],
   "source": [
    "# takes a while\n",
    "tree = ET.parse('simplewiki-20160701-pages-articles-multistream.xml') "
   ]
  },
  {
   "cell_type": "code",
   "execution_count": 4,
   "metadata": {
    "collapsed": false
   },
   "outputs": [
    {
     "name": "stdout",
     "output_type": "stream",
     "text": [
      "version = '0.10'\n",
      "{http://www.w3.org/2001/XMLSchema-instance}schemaLocation = 'http://www.mediawiki.org/xml/export-0.10/ http://www.mediawiki.org/xml/export-0.10.xsd'\n",
      "{http://www.w3.org/XML/1998/namespace}lang = 'en'\n"
     ]
    }
   ],
   "source": [
    "root = tree.getroot()\n",
    "#print(root)\n",
    "#print(root.attrib)\n",
    "#print(root.tag)\n",
    "for name, value in root.items():\n",
    "    print('%s = %r' % (name, value))"
   ]
  },
  {
   "cell_type": "code",
   "execution_count": 5,
   "metadata": {
    "collapsed": false
   },
   "outputs": [
    {
     "name": "stdout",
     "output_type": "stream",
     "text": [
      "total number of articles, uncleaned: 220584.\n"
     ]
    }
   ],
   "source": [
    "children = root.getchildren()\n",
    "print ('total number of articles, uncleaned: %i.' % (len(children)) )"
   ]
  },
  {
   "cell_type": "code",
   "execution_count": 6,
   "metadata": {
    "collapsed": false,
    "scrolled": true
   },
   "outputs": [
    {
     "name": "stdout",
     "output_type": "stream",
     "text": [
      "143140 titles dropped \n",
      "77443 remaining titles\n"
     ]
    }
   ],
   "source": [
    "# all the titles with their locations\n",
    "# alltitles = [(i,root[i][0].text) for i in range(1,len(root)) if \":\" not in root[i][0].text ]\n",
    "alltitles = [(i,root[i][0].text) for i in range(1,len(root))]\n",
    "titles = pd.DataFrame(data = alltitles,columns = ['ind','title' ])\n",
    "\n",
    "remove = []\n",
    "for i in range(len(titles)):\n",
    "# check the NS tag\n",
    "    node = root[titles.ind[i]]\n",
    "    if (node[1].text != '0'):  \n",
    "        # Remove redirect articles\n",
    "        remove.append(i)\n",
    "    else:\n",
    "        if node.find('{http://www.mediawiki.org/xml/export-0.10/}redirect') is not None:\n",
    "            remove.append(i)\n",
    "        else:\n",
    "            for textnode in node[3].iter(tag ='{http://www.mediawiki.org/xml/export-0.10/}text'):\n",
    "                if len(textnode.text)<ArticleMinLength:\n",
    "                    remove.append(i)\n",
    "\n",
    "titles = titles.drop(remove)\n",
    "# redundant, because loc and iloc differentiate between actual and numerical indices\n",
    "titles.index = range(len(titles))\n",
    "print(\"%d titles dropped \\n%d remaining titles\" % (len(remove), len(titles) ) )\n",
    "\n",
    "#column_names = []\n",
    "#for i in range(0,len(root.getchildren()[1000].getchildren())):\n",
    "#    column_names.append(root.getchildren()[1000].getchildren()[i].tag)\n",
    "#colnames = [x[43:] for x in column_names]\n",
    "#print('colnames ', colnames)\n",
    "#frame = pd.DataFrame(columns=colnames)"
   ]
  },
  {
   "cell_type": "code",
   "execution_count": 7,
   "metadata": {
    "collapsed": false
   },
   "outputs": [
    {
     "data": {
      "text/html": [
       "<div>\n",
       "<table border=\"1\" class=\"dataframe\">\n",
       "  <thead>\n",
       "    <tr style=\"text-align: right;\">\n",
       "      <th></th>\n",
       "      <th>ind</th>\n",
       "      <th>title</th>\n",
       "    </tr>\n",
       "  </thead>\n",
       "  <tbody>\n",
       "    <tr>\n",
       "      <th>0</th>\n",
       "      <td>40857</td>\n",
       "      <td>253 Mathilde</td>\n",
       "    </tr>\n",
       "    <tr>\n",
       "      <th>1</th>\n",
       "      <td>81561</td>\n",
       "      <td>Adamsville, Tennessee</td>\n",
       "    </tr>\n",
       "    <tr>\n",
       "      <th>2</th>\n",
       "      <td>46235</td>\n",
       "      <td>List of rivers of Kansas</td>\n",
       "    </tr>\n",
       "  </tbody>\n",
       "</table>\n",
       "</div>"
      ],
      "text/plain": [
       "     ind                     title\n",
       "0  40857              253 Mathilde\n",
       "1  81561     Adamsville, Tennessee\n",
       "2  46235  List of rivers of Kansas"
      ]
     },
     "execution_count": 7,
     "metadata": {},
     "output_type": "execute_result"
    }
   ],
   "source": [
    "# selecting NumberOfArticles articles randomly\n",
    "np.random.seed(123)\n",
    "randomindices = np.random.randint(low=0,high=len(titles),size = NumberOfArticles)\n",
    "data = titles.iloc[randomindices].copy()\n",
    "data.index=range(NumberOfArticles)\n",
    "data.head(3)"
   ]
  },
  {
   "cell_type": "code",
   "execution_count": 8,
   "metadata": {
    "collapsed": false
   },
   "outputs": [
    {
     "data": {
      "text/html": [
       "<div>\n",
       "<table border=\"1\" class=\"dataframe\">\n",
       "  <thead>\n",
       "    <tr style=\"text-align: right;\">\n",
       "      <th></th>\n",
       "      <th>ind</th>\n",
       "      <th>title</th>\n",
       "      <th>text</th>\n",
       "    </tr>\n",
       "  </thead>\n",
       "  <tbody>\n",
       "    <tr>\n",
       "      <th>0</th>\n",
       "      <td>40857</td>\n",
       "      <td>253 Mathilde</td>\n",
       "      <td>&lt;!-- Additional parameters for this template  ...</td>\n",
       "    </tr>\n",
       "    <tr>\n",
       "      <th>1</th>\n",
       "      <td>81561</td>\n",
       "      <td>Adamsville, Tennessee</td>\n",
       "      <td>{{Infobox settlement\\n|official_name          ...</td>\n",
       "    </tr>\n",
       "    <tr>\n",
       "      <th>2</th>\n",
       "      <td>46235</td>\n",
       "      <td>List of rivers of Kansas</td>\n",
       "      <td>{{redlinks|date=March 2012}}\\nThis is a '''lis...</td>\n",
       "    </tr>\n",
       "  </tbody>\n",
       "</table>\n",
       "</div>"
      ],
      "text/plain": [
       "     ind                     title  \\\n",
       "0  40857              253 Mathilde   \n",
       "1  81561     Adamsville, Tennessee   \n",
       "2  46235  List of rivers of Kansas   \n",
       "\n",
       "                                                text  \n",
       "0  <!-- Additional parameters for this template  ...  \n",
       "1  {{Infobox settlement\\n|official_name          ...  \n",
       "2  {{redlinks|date=March 2012}}\\nThis is a '''lis...  "
      ]
     },
     "execution_count": 8,
     "metadata": {},
     "output_type": "execute_result"
    }
   ],
   "source": [
    "# adding text to the data frame\n",
    "text = [''] * len(data)\n",
    "for i in data.index:\n",
    "    for child in root[data.ind[i]]:\n",
    "        for textnode in child.iter(tag ='{http://www.mediawiki.org/xml/export-0.10/}text'):\n",
    "            text[i]= textnode.text\n",
    "            \n",
    "data.loc[:,'text'] = text\n",
    "data.head(3) # how does it look?"
   ]
  },
  {
   "cell_type": "code",
   "execution_count": 9,
   "metadata": {
    "collapsed": false,
    "scrolled": true
   },
   "outputs": [],
   "source": [
    "data.to_pickle('uncleaned-10k-articles.pkl') # for pickle\n",
    "# data.to_csv('uncleaned-10k-articles.csv') # for csv"
   ]
  },
  {
   "cell_type": "code",
   "execution_count": null,
   "metadata": {
    "collapsed": true
   },
   "outputs": [],
   "source": []
  }
 ],
 "metadata": {
  "kernelspec": {
   "display_name": "Python 3",
   "language": "python",
   "name": "python3"
  },
  "language_info": {
   "codemirror_mode": {
    "name": "ipython",
    "version": 3
   },
   "file_extension": ".py",
   "mimetype": "text/x-python",
   "name": "python",
   "nbconvert_exporter": "python",
   "pygments_lexer": "ipython3",
   "version": "3.5.2"
  }
 },
 "nbformat": 4,
 "nbformat_minor": 0
}
