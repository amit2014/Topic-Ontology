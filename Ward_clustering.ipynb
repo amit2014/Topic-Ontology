{
 "cells": [
  {
   "cell_type": "markdown",
   "metadata": {},
   "source": [
    "# Exploring Agglomerative Clustering\n",
    "Author: Tristan Miller\n",
    "\n",
    "I originally intended to make a validation measure for agglomerative clustering, but a lot of this is just exploring so far."
   ]
  },
  {
   "cell_type": "markdown",
   "metadata": {},
   "source": [
    "### Initialization\n",
    "Here I'm just copying code from a bunch of other notebooks"
   ]
  },
  {
   "cell_type": "code",
   "execution_count": 113,
   "metadata": {
    "collapsed": false
   },
   "outputs": [],
   "source": [
    "import pandas as pd\n",
    "import numpy as np\n",
    "import matplotlib.pyplot as plt\n",
    "from sklearn.feature_extraction.text import *\n",
    "import scipy\n",
    "from sklearn.decomposition import PCA\n",
    "#import lda #use pip install lda \n",
    "import time\n",
    "from sklearn.cluster import AgglomerativeClustering\n",
    "import sys\n",
    "import re\n",
    "import wikipedia #use pip install wikipedia\n",
    "from scipy.spatial.distance import euclidean"
   ]
  },
  {
   "cell_type": "code",
   "execution_count": 2,
   "metadata": {
    "collapsed": true
   },
   "outputs": [],
   "source": [
    "#Load data, document-term matrix\n",
    "data = pd.read_pickle(\"processed_10k_articles.pkl\")\n",
    "unweighted_words = np.reshape(np.load(\"document_term_matrix.npy\"),(1))[0]\n",
    "term_list = pd.read_pickle(\"term_list.pkl\")[0].tolist()"
   ]
  },
  {
   "cell_type": "code",
   "execution_count": 3,
   "metadata": {
    "collapsed": false
   },
   "outputs": [],
   "source": [
    "#Cap the word frequency at 10.\n",
    "#This is necessary at least for now with all those list articles\n",
    "tens = np.zeros(unweighted_words.shape)+10\n",
    "unweighted_words = scipy.sparse.csr_matrix(np.minimum(unweighted_words.toarray(),tens))"
   ]
  },
  {
   "cell_type": "code",
   "execution_count": 4,
   "metadata": {
    "collapsed": true
   },
   "outputs": [],
   "source": [
    "#Apply TF-IDF weighting\n",
    "Tfidf = TfidfTransformer()\n",
    "Tfidf.fit(unweighted_words)\n",
    "weighted_words = Tfidf.transform(unweighted_words)"
   ]
  },
  {
   "cell_type": "code",
   "execution_count": 5,
   "metadata": {
    "collapsed": false
   },
   "outputs": [
    {
     "name": "stdout",
     "output_type": "stream",
     "text": [
      "Time to execute: 0.01 minutes\n"
     ]
    }
   ],
   "source": [
    "#Apply PCA with 30 components\n",
    "start_time = time.time()\n",
    "model = PCA(n_components=30)\n",
    "doc_topic = model.fit_transform(weighted_words.toarray())\n",
    "topic_word = model.components_\n",
    "processing_time = (time.time() - start_time)/60\n",
    "print(\"Time to execute: %.2f minutes\" % processing_time )"
   ]
  },
  {
   "cell_type": "code",
   "execution_count": 6,
   "metadata": {
    "collapsed": false
   },
   "outputs": [
    {
     "data": {
      "text/plain": [
       "<matplotlib.collections.PathCollection at 0xf5e3710>"
      ]
     },
     "execution_count": 6,
     "metadata": {},
     "output_type": "execute_result"
    },
    {
     "data": {
      "image/png": "[encoded data removed]",
      "text/plain": [
       "<matplotlib.figure.Figure at 0xb203390>"
      ]
     },
     "metadata": {},
     "output_type": "display_data"
    }
   ],
   "source": [
    "%matplotlib inline\n",
    "plt.scatter(doc_topic[:,0], doc_topic[:,1])"
   ]
  },
  {
   "cell_type": "code",
   "execution_count": 7,
   "metadata": {
    "collapsed": false
   },
   "outputs": [
    {
     "name": "stdout",
     "output_type": "stream",
     "text": [
      "Time to execute: 3.05 minutes\n"
     ]
    }
   ],
   "source": [
    "#Ward Agglomerative clustering\n",
    "start_time = time.time()\n",
    "clustering = AgglomerativeClustering(linkage=\"ward\", n_clusters=20)\n",
    "c_labels = clustering.fit_predict(doc_topic)\n",
    "processing_time = (time.time() - start_time)/60\n",
    "print(\"Time to execute: %.2f minutes\" % processing_time )"
   ]
  },
  {
   "cell_type": "code",
   "execution_count": 8,
   "metadata": {
    "collapsed": false
   },
   "outputs": [],
   "source": [
    "#Vectorize the links too\n",
    "#links need to be put into the proper format\n",
    "links = data[\"links\"].copy()\n",
    "for i in range(len(links)):\n",
    "    for j in range(len(links[i])):\n",
    "        links[i][j] = re.sub(' ','_',links[i][j])\n",
    "for i in range(len(links)):\n",
    "    links[i] = \" \".join( links[i] )"
   ]
  },
  {
   "cell_type": "code",
   "execution_count": 70,
   "metadata": {
    "collapsed": false,
    "scrolled": true
   },
   "outputs": [
    {
     "data": {
      "text/plain": [
       "(10000, 386)"
      ]
     },
     "execution_count": 70,
     "metadata": {},
     "output_type": "execute_result"
    }
   ],
   "source": [
    "vectorizer = CountVectorizer(analyzer = \"word\",min_df=.005)\n",
    "link_vector = vectorizer.fit_transform(links)\n",
    "link_names = vectorizer.get_feature_names()\n",
    "link_vector.shape"
   ]
  },
  {
   "cell_type": "code",
   "execution_count": 71,
   "metadata": {
    "collapsed": true
   },
   "outputs": [],
   "source": [
    "#Take underscores out from link_names\n",
    "for i in range(len(link_names)):\n",
    "    link_names[i] = re.sub('_',' ',link_names[i])"
   ]
  },
  {
   "cell_type": "markdown",
   "metadata": {},
   "source": [
    "## Understanding the clustering"
   ]
  },
  {
   "cell_type": "code",
   "execution_count": 23,
   "metadata": {
    "collapsed": false
   },
   "outputs": [
    {
     "data": {
      "text/plain": [
       "<matplotlib.collections.PathCollection at 0x1414c3c8>"
      ]
     },
     "execution_count": 23,
     "metadata": {},
     "output_type": "execute_result"
    },
    {
     "data": {
      "image/png": "[encoded data removed]",
      "text/plain": [
       "<matplotlib.figure.Figure at 0x14a44518>"
      ]
     },
     "metadata": {},
     "output_type": "display_data"
    }
   ],
   "source": [
    "plt.scatter(doc_topic[:, 0], doc_topic[:, 1], c=c_labels,\n",
    "                        cmap=plt.cm.spectral)"
   ]
  },
  {
   "cell_type": "code",
   "execution_count": 24,
   "metadata": {
    "collapsed": false
   },
   "outputs": [
    {
     "name": "stdout",
     "output_type": "stream",
     "text": [
      "Labels of first 20 articles: [2 2 2 0 2 2 2 2 0 0 0 2 0 0 2 2 2 2 2 0]\n",
      "First 20 nodes: [[ 1778  1779]\n",
      " [ 1811  1812]\n",
      " [ 1823 10001]\n",
      " [ 1833 10002]\n",
      " [ 1882 10003]\n",
      " [ 1879  1935]\n",
      " [ 1883 10004]\n",
      " [ 1887 10006]\n",
      " [ 1885  1996]\n",
      " [ 1888 10007]\n",
      " [ 1889 10009]\n",
      " [ 1890 10010]\n",
      " [ 1891 10011]\n",
      " [ 1893 10012]\n",
      " [ 1895 10013]\n",
      " [ 1908 10014]\n",
      " [ 1909 10015]\n",
      " [ 1913 10016]\n",
      " [ 1925 10017]\n",
      " [ 1934 10018]]\n"
     ]
    }
   ],
   "source": [
    "children = clustering.children_\n",
    "print(\"Labels of first 20 articles:\",c_labels[0:20])\n",
    "print(\"First 20 nodes:\",children[0:20])"
   ]
  },
  {
   "cell_type": "markdown",
   "metadata": {},
   "source": [
    "What's this all mean?\n",
    "\n",
    "Apparently, children[x] is the xth node in the tree.  There are 9999 nodes, which is 1 less than the number of documents in the tree.  Documents are not themselves nodes, but rather the leaves of the tree.\n",
    "\n",
    "children[children[x][0]-10000] is the left child of the xth node, and children[children[x][1]-10000] is the right child.  If children[x][y] is less than 10000 (the number of documents), then the child referred to is not another node, but document number children[x][y]\n",
    "\n",
    "After making a tree, the algorithm somehow selects N clusters from it.  Cluster number 0 is obviously the biggest cluster"
   ]
  },
  {
   "cell_type": "markdown",
   "metadata": {},
   "source": [
    "### Translating the tree\n",
    "The above format is a really counterintuitive way to think about trees, so I'm translating it to a better format."
   ]
  },
  {
   "cell_type": "code",
   "execution_count": 136,
   "metadata": {
    "collapsed": false
   },
   "outputs": [],
   "source": [
    "if 'cluster_tree' in sys.modules:\n",
    "    del sys.modules['cluster_tree'] #this just makes sure the import updates every time\n",
    "from cluster_tree import *"
   ]
  },
  {
   "cell_type": "code",
   "execution_count": 26,
   "metadata": {
    "collapsed": false
   },
   "outputs": [],
   "source": [
    "#I wrote a TreeNode class, and translated the output of the clustering to it\n",
    "root = tree_to_nodes(children,10000)"
   ]
  },
  {
   "cell_type": "code",
   "execution_count": 27,
   "metadata": {
    "collapsed": false,
    "scrolled": true
   },
   "outputs": [],
   "source": [
    "#Now I can classify each leaf\n",
    "classified_tree = classify_tree(root,c_labels)\n",
    "#And produce a reduced tree that only shows the clusters relative to each other\n",
    "label_tree = get_label_tree(classified_tree)"
   ]
  },
  {
   "cell_type": "code",
   "execution_count": 28,
   "metadata": {
    "collapsed": false,
    "scrolled": true
   },
   "outputs": [
    {
     "data": {
      "text/plain": [
       "'((4,1),(11,(((12,(6,8)),(9,(16,(18,5)))),(((15,2),(10,((19,3),(14,(17,0))))),(13,7)))));'"
      ]
     },
     "execution_count": 28,
     "metadata": {},
     "output_type": "execute_result"
    }
   ],
   "source": [
    "str(label_tree)"
   ]
  },
  {
   "cell_type": "code",
   "execution_count": 29,
   "metadata": {
    "collapsed": true
   },
   "outputs": [],
   "source": [
    "#pip install ete3\n",
    "#this is from here: http://etetoolkit.org/docs/latest/tutorial/tutorial_drawing.html\n",
    "from ete3 import Tree, TreeStyle\n",
    "t = Tree(str(label_tree))\n",
    "ts = TreeStyle()\n",
    "ts.show_leaf_name = True\n",
    "ts.scale =  12\n",
    "t.show(tree_style=ts)\n",
    "#output is in a different window."
   ]
  },
  {
   "cell_type": "markdown",
   "metadata": {},
   "source": [
    "# Allowing more than 2 children per node\n",
    "The problem with the agglomerative clustering algorithms is that they produce *binary* trees, where each node has two children.  Intuitively, a topic may sometimes have more than two subtopics.\n",
    "\n",
    "We need two things:\n",
    "1. A way to collapse a non-leaf node with a non-leaf child.  That is, go from (A,(B,C)) to (A,B,C).\n",
    "2. An algorithm that finds all times when this is appropriate.\n",
    "\n",
    "Intuitively, (A,(B,C)) should be converted to (A,B,C) when A,B, and C are about equidistant from each other.  Although it's possible that A,B, and C are collinear.  So the condition would be dist(B,C) ~> dist(A,B) OR dist(B,C) ~> dist(A,C).\n",
    "\n",
    "More generally, we might have a branch that looks like (A,B,(C,D,E)).  grandchild_separation is the smallest distance between any pairs of C,D,E.  child_separation is the smallest distance between any pair, where one of the pair is taken from (A,B), and the other of the pair is taken from (C,D,E).  The branch is collapsed to (A,B,C,D,E) if grandchild_separation ~> child_separation.\n",
    "\n",
    "Now all we need to do is define the \"dist\" and \"~\" operations.  As a first attempt, I will define \"dist\" as the distance between means of the clusters.  \"~\" will be defined as having a given tolerance"
   ]
  },
  {
   "cell_type": "code",
   "execution_count": 72,
   "metadata": {
    "collapsed": false
   },
   "outputs": [],
   "source": [
    "#Get all cluster means.\n",
    "(cm,docs_in_cluster) = get_means(c_labels,doc_topic)\n",
    "(link_means,docs_in_cluster) = get_means(c_labels,link_vector)"
   ]
  },
  {
   "cell_type": "code",
   "execution_count": 31,
   "metadata": {
    "collapsed": false
   },
   "outputs": [
    {
     "data": {
      "text/plain": [
       "'(1,4,(9,18,5,16,12,8,6,13,7,(2,15,17,0,14,19,3,10)),11);'"
      ]
     },
     "execution_count": 31,
     "metadata": {},
     "output_type": "execute_result"
    }
   ],
   "source": [
    "#now let's apply the algorithm described above, with zero tolerance\n",
    "collapsed_tree = collapse_label_tree(label_tree,cm,docs_in_cluster,0)\n",
    "str(collapsed_tree)"
   ]
  },
  {
   "cell_type": "code",
   "execution_count": 32,
   "metadata": {
    "collapsed": true
   },
   "outputs": [],
   "source": [
    "t = Tree(str(collapsed_tree))\n",
    "t.show(tree_style=ts)"
   ]
  },
  {
   "cell_type": "markdown",
   "metadata": {},
   "source": [
    "This seems to collapse the tree too much.  We can always give it a negative tolerance to collapse it less"
   ]
  },
  {
   "cell_type": "code",
   "execution_count": 33,
   "metadata": {
    "collapsed": false,
    "scrolled": true
   },
   "outputs": [
    {
     "data": {
      "text/plain": [
       "'(1,4,((16,5,18),9,(12,(6,8)),13,7,(2,15,((19,3),(14,(17,0))),10)),11);'"
      ]
     },
     "execution_count": 33,
     "metadata": {},
     "output_type": "execute_result"
    }
   ],
   "source": [
    "collapsed_tree = collapse_label_tree(label_tree,cm,docs_in_cluster,-.21)\n",
    "str(collapsed_tree)"
   ]
  },
  {
   "cell_type": "code",
   "execution_count": 34,
   "metadata": {
    "collapsed": true
   },
   "outputs": [],
   "source": [
    "t = Tree(str(collapsed_tree))\n",
    "t.show(tree_style=ts)"
   ]
  },
  {
   "cell_type": "markdown",
   "metadata": {},
   "source": [
    "## Summary so far\n",
    "Ward Agglomerative Clustering places all documents in a giant binary tree.  It then creates N clusters by picking various branches of the tree.  This not only classifies each document into one of N clusters, it also creates a topic tree, with the N clusters as its leaves.\n",
    "\n",
    "The problem with this topic tree is that it is a binary tree.  However, it is relatively to collapse this tree so that it is no longer restricted to being binary.  The end result is a topic tree, with both \"internal node\" topics, and \"leaf\" topics.  Each document is classified within one of the leaves.\n",
    "\n",
    "Of course, we still need to select the number of leaves, and it's possible that the algorithm for collapsing can be improved.  For these, we need a validation measure."
   ]
  },
  {
   "cell_type": "markdown",
   "metadata": {},
   "source": [
    "## Describing a cluster\n",
    "After we've created the clusters, we'd like to describe them.  This could involve: A) Making a word cloud, and B) finding a representative article"
   ]
  },
  {
   "cell_type": "code",
   "execution_count": 35,
   "metadata": {
    "collapsed": false
   },
   "outputs": [
    {
     "ename": "ImportError",
     "evalue": "No module named 'wordcloud'",
     "output_type": "error",
     "traceback": [
      "\u001b[1;31m\u001b[0m",
      "\u001b[1;31mImportError\u001b[0mTraceback (most recent call last)",
      "\u001b[1;32m<ipython-input-35-5dde62ec7c58>\u001b[0m in \u001b[0;36m<module>\u001b[1;34m()\u001b[0m\n\u001b[0;32m      2\u001b[0m \u001b[1;31m#see example here: https://github.com/amueller/word_cloud/blob/master/examples/simple.py\u001b[0m\u001b[1;33m\u001b[0m\u001b[1;33m\u001b[0m\u001b[0m\n\u001b[0;32m      3\u001b[0m \u001b[1;31m#Windows machines have trouble doing this installation, so I'm saving this step for later\u001b[0m\u001b[1;33m\u001b[0m\u001b[1;33m\u001b[0m\u001b[0m\n\u001b[1;32m----> 4\u001b[1;33m \u001b[1;32mfrom\u001b[0m \u001b[0mwordcloud\u001b[0m \u001b[1;32mimport\u001b[0m \u001b[0mWordCloud\u001b[0m\u001b[1;33m\u001b[0m\u001b[0m\n\u001b[0m\u001b[0;32m      5\u001b[0m \u001b[0mtestcloud\u001b[0m \u001b[1;33m=\u001b[0m \u001b[0mWordCloud\u001b[0m\u001b[1;33m(\u001b[0m\u001b[1;33m)\u001b[0m\u001b[1;33m.\u001b[0m\u001b[0mgenerate\u001b[0m\u001b[1;33m(\u001b[0m\u001b[1;34m'hello world'\u001b[0m\u001b[1;33m)\u001b[0m\u001b[1;33m\u001b[0m\u001b[0m\n",
      "\u001b[1;31mImportError\u001b[0m: No module named 'wordcloud'"
     ]
    }
   ],
   "source": [
    "#pip install wordcloud\n",
    "#see example here: https://github.com/amueller/word_cloud/blob/master/examples/simple.py\n",
    "#Windows machines have trouble doing this installation, so maybe someone else should do this one.\n",
    "from wordcloud import WordCloud\n",
    "testcloud = WordCloud().generate('hello world')"
   ]
  },
  {
   "cell_type": "markdown",
   "metadata": {},
   "source": [
    "There are multiple ways to generate the top words/articles for a cluster:\n",
    "1. Use doc_topic and topic_word matrices together\n",
    "2. Just use the weighted_words matrix\n",
    "3. Look at the links"
   ]
  },
  {
   "cell_type": "code",
   "execution_count": 38,
   "metadata": {
    "collapsed": false
   },
   "outputs": [],
   "source": [
    "#this function takes a cluster mean, and generates a list of the top words\n",
    "def words_from_branch(c_mean,term_list,topics=None):\n",
    "    #If topic_word is given, then it's assumed that c_mean is in topic space\n",
    "    #and topic_word is used to translate topic space to word space.\n",
    "    if(topics is not None):\n",
    "        bag = np.dot(c_mean,topics)\n",
    "    else:\n",
    "        bag = c_mean\n",
    "    df = pd.DataFrame(index=range(len(bag)),columns=['Term','Weight'])\n",
    "    df['Term'] = term_list\n",
    "    df['Weight'] = bag\n",
    "    df.sort_values('Weight',ascending=False,inplace=True)\n",
    "    return df\n"
   ]
  },
  {
   "cell_type": "code",
   "execution_count": 39,
   "metadata": {
    "collapsed": false
   },
   "outputs": [
    {
     "data": {
      "text/html": [
       "<div>\n",
       "<table border=\"1\" class=\"dataframe\">\n",
       "  <thead>\n",
       "    <tr style=\"text-align: right;\">\n",
       "      <th></th>\n",
       "      <th>Term</th>\n",
       "      <th>Weight</th>\n",
       "    </tr>\n",
       "  </thead>\n",
       "  <tbody>\n",
       "    <tr>\n",
       "      <th>7</th>\n",
       "      <td>album</td>\n",
       "      <td>0.310510</td>\n",
       "    </tr>\n",
       "    <tr>\n",
       "      <th>323</th>\n",
       "      <td>song</td>\n",
       "      <td>0.196169</td>\n",
       "    </tr>\n",
       "    <tr>\n",
       "      <th>282</th>\n",
       "      <td>releas</td>\n",
       "      <td>0.163774</td>\n",
       "    </tr>\n",
       "    <tr>\n",
       "      <th>32</th>\n",
       "      <td>band</td>\n",
       "      <td>0.153699</td>\n",
       "    </tr>\n",
       "    <tr>\n",
       "      <th>317</th>\n",
       "      <td>singl</td>\n",
       "      <td>0.096806</td>\n",
       "    </tr>\n",
       "  </tbody>\n",
       "</table>\n",
       "</div>"
      ],
      "text/plain": [
       "       Term    Weight\n",
       "7     album  0.310510\n",
       "323    song  0.196169\n",
       "282  releas  0.163774\n",
       "32     band  0.153699\n",
       "317   singl  0.096806"
      ]
     },
     "execution_count": 39,
     "metadata": {},
     "output_type": "execute_result"
    }
   ],
   "source": [
    "c_mean,documents = get_branch_mean(collapsed_tree[2][3],cm,docs_in_cluster)\n",
    "words_from_branch(c_mean,term_list,topics=topic_word).head()"
   ]
  },
  {
   "cell_type": "code",
   "execution_count": 73,
   "metadata": {
    "collapsed": false
   },
   "outputs": [
    {
     "data": {
      "text/html": [
       "<div>\n",
       "<table border=\"1\" class=\"dataframe\">\n",
       "  <thead>\n",
       "    <tr style=\"text-align: right;\">\n",
       "      <th></th>\n",
       "      <th>Term</th>\n",
       "      <th>Weight</th>\n",
       "    </tr>\n",
       "  </thead>\n",
       "  <tbody>\n",
       "    <tr>\n",
       "      <th>117</th>\n",
       "      <td>album</td>\n",
       "      <td>0.700272</td>\n",
       "    </tr>\n",
       "    <tr>\n",
       "      <th>338</th>\n",
       "      <td>song</td>\n",
       "      <td>0.444142</td>\n",
       "    </tr>\n",
       "    <tr>\n",
       "      <th>137</th>\n",
       "      <td>band</td>\n",
       "      <td>0.403270</td>\n",
       "    </tr>\n",
       "    <tr>\n",
       "      <th>250</th>\n",
       "      <td>magazine</td>\n",
       "      <td>0.283379</td>\n",
       "    </tr>\n",
       "    <tr>\n",
       "      <th>370</th>\n",
       "      <td>united states</td>\n",
       "      <td>0.256131</td>\n",
       "    </tr>\n",
       "  </tbody>\n",
       "</table>\n",
       "</div>"
      ],
      "text/plain": [
       "              Term    Weight\n",
       "117          album  0.700272\n",
       "338           song  0.444142\n",
       "137           band  0.403270\n",
       "250       magazine  0.283379\n",
       "370  united states  0.256131"
      ]
     },
     "execution_count": 73,
     "metadata": {},
     "output_type": "execute_result"
    }
   ],
   "source": [
    "#I can also find the most common links in a cluster\n",
    "l_mean,documents = get_branch_mean(collapsed_tree[2][3],link_means,docs_in_cluster)\n",
    "words_from_branch(l_mean,link_names).head()"
   ]
  },
  {
   "cell_type": "code",
   "execution_count": 133,
   "metadata": {
    "collapsed": false
   },
   "outputs": [
    {
     "data": {
      "text/plain": [
       "1"
      ]
     },
     "execution_count": 133,
     "metadata": {},
     "output_type": "execute_result"
    }
   ],
   "source": [
    "a = np.array([1,5,3])\n",
    "a.argmax()"
   ]
  },
  {
   "cell_type": "code",
   "execution_count": 137,
   "metadata": {
    "collapsed": false
   },
   "outputs": [],
   "source": [
    "#now generate a tree from top links\n",
    "#I wrote the algorithm so that it favors links *not* used by neighboring branches\n",
    "#It also assigns names to each internal node, although I don't know how to show that using the ete3 package\n",
    "link_tree = get_name_tree(collapsed_tree,link_means,docs_in_cluster,link_names)"
   ]
  },
  {
   "cell_type": "code",
   "execution_count": 138,
   "metadata": {
    "collapsed": false
   },
   "outputs": [
    {
     "name": "stdout",
     "output_type": "stream",
     "text": [
      "(ice hockey,association football,((city,river,village), florida,(district,(sweden,belgium)),album,movie,(chemistry,animal,((united states,footballer),(movie,(university, new york))),video game)),saint);\n"
     ]
    }
   ],
   "source": [
    "print(link_tree)"
   ]
  },
  {
   "cell_type": "markdown",
   "metadata": {},
   "source": [
    "Eh, maybe it will look better when we use regular wikipedia and limit to just the intros.\n",
    "Later, we may also want to name each branch, making sure to give them names that distinguish them from adjacent branches"
   ]
  },
  {
   "cell_type": "markdown",
   "metadata": {
    "collapsed": true
   },
   "source": [
    "## Classifying a new article\n",
    "Once the classification is done, we also want to be able to classify a new article.\n",
    "\n",
    "A string of words can be generated from the wikipedia package.  For instance:"
   ]
  },
  {
   "cell_type": "code",
   "execution_count": 87,
   "metadata": {
    "collapsed": false
   },
   "outputs": [
    {
     "data": {
      "text/plain": [
       "'One Direction (commonly abbreviated as 1D) are an English-Irish pop boy band based in London, composed of Niall Horan, Liam Payne, Harry Styles, Louis Tomlinson, and previously, Zayn Malik until his departure from the band on 25 March 2015. The group signed with Simon Cowell\\'s record label Syco Records after forming and finishing third in the seventh series of the British televised singing competition The X Factor in 2010. Propelled to international success by social media, One Direction\\'s four albums, Up All Night (2011), Take Me Home (2012), Midnight Memories (2013) and Four (2014) topped charts in most major markets, and generated hit singles including \"What Makes You Beautiful\", \"Live While We\\'re Young\", and \"Story of My Life\". Their fifth studio album, Made in the A.M., was released in November 2015.\\nTheir awards include six Brit Awards, four MTV Video Music Awards, eleven MTV Europe Music Awards, seven American Music Awards (including Artist of the Year in 2014 and 2015), and 27 Teen Choice Awards, among many others. According to Nick Gatfield, the chairman and chief executive of Sony Music Entertainment UK, One Direction represented a $50 million business empire by June 2012. They were proclaimed 2012\\'s \"Top New Artist\" by Billboard. According to the Sunday Times Rich List, by April 2013, they had an estimated personal combined wealth of £25 million ($41.2m) making them the second-wealthiest musicians in the UK under 30 years of age. In 2014, Forbes listed them the second-highest earning celebrities under 30, with the group earning an estimated $75 million from June 2013 to June 2014. In June 2015, Forbes listed their earnings at $130 million for the previous twelve months, and ranked them the fourth highest earning celebrities in the world.\\nAfter the release of Four, One Direction became the first band in the U.S. Billboard 200 history to have their first four albums debut at number one. Their third album, Midnight Memories, was the biggest-selling album worldwide of 2013 despite being released in late November. The band\\'s Where We Are Tour in support of Midnight Memories and Four, was the highest-grossing concert tour in 2014, and the highest-grossing tour ever by a vocal group, generating $282 million. In 2014, Billboard named One Direction Artist of the Year. The band is temporarily on a hiatus that began in January 2016, which is expected to last around 18 months.'"
      ]
     },
     "execution_count": 87,
     "metadata": {},
     "output_type": "execute_result"
    }
   ],
   "source": [
    "wikipedia.summary('One Direction')"
   ]
  },
  {
   "cell_type": "markdown",
   "metadata": {},
   "source": [
    "There are some complications with using this package, but I think other members of the team are working on that.  For now, I'll assume that a string like the above is given."
   ]
  },
  {
   "cell_type": "code",
   "execution_count": 126,
   "metadata": {
    "collapsed": true
   },
   "outputs": [],
   "source": [
    "#To classify an article, we need 5 things.\n",
    "#The article text\n",
    "#A list of the terms for vectorization\n",
    "#The TF-IDF transformation\n",
    "#The topic_word matrix from PCA analysis\n",
    "#The means of the clusters in topic space\n",
    "def classify_article(article_text,term_list,Tfidf,topic_word,c_means):\n",
    "    vectorizer = CountVectorizer(analyzer = \"word\",vocabulary=term_list)\n",
    "    article_vector = vectorizer.fit_transform([article_text])\n",
    "    article_weighted = Tfidf.transform(article_vector).toarray()\n",
    "    article_topic = np.dot(article_weighted,np.transpose(topic_word))\n",
    "    #now calculate the closest cluster mean\n",
    "    min_distance = np.inf\n",
    "    for i in range(c_means.shape[0]):\n",
    "        current_distance = euclidean(article_topic,c_means[i,:])\n",
    "        if current_distance < min_distance:\n",
    "            min_distance = current_distance\n",
    "            closest_cluster = i\n",
    "    \n",
    "    return closest_cluster"
   ]
  },
  {
   "cell_type": "code",
   "execution_count": 127,
   "metadata": {
    "collapsed": false
   },
   "outputs": [
    {
     "data": {
      "text/html": [
       "<div>\n",
       "<table border=\"1\" class=\"dataframe\">\n",
       "  <thead>\n",
       "    <tr style=\"text-align: right;\">\n",
       "      <th></th>\n",
       "      <th>Term</th>\n",
       "      <th>Weight</th>\n",
       "    </tr>\n",
       "  </thead>\n",
       "  <tbody>\n",
       "    <tr>\n",
       "      <th>7</th>\n",
       "      <td>album</td>\n",
       "      <td>0.310510</td>\n",
       "    </tr>\n",
       "    <tr>\n",
       "      <th>323</th>\n",
       "      <td>song</td>\n",
       "      <td>0.196169</td>\n",
       "    </tr>\n",
       "    <tr>\n",
       "      <th>282</th>\n",
       "      <td>releas</td>\n",
       "      <td>0.163774</td>\n",
       "    </tr>\n",
       "    <tr>\n",
       "      <th>32</th>\n",
       "      <td>band</td>\n",
       "      <td>0.153699</td>\n",
       "    </tr>\n",
       "    <tr>\n",
       "      <th>317</th>\n",
       "      <td>singl</td>\n",
       "      <td>0.096806</td>\n",
       "    </tr>\n",
       "  </tbody>\n",
       "</table>\n",
       "</div>"
      ],
      "text/plain": [
       "       Term    Weight\n",
       "7     album  0.310510\n",
       "323    song  0.196169\n",
       "282  releas  0.163774\n",
       "32     band  0.153699\n",
       "317   singl  0.096806"
      ]
     },
     "execution_count": 127,
     "metadata": {},
     "output_type": "execute_result"
    }
   ],
   "source": [
    "cluster_id = classify_article(wikipedia.summary('One Direction'),term_list,Tfidf,topic_word,cm)\n",
    "words_from_branch(cm[cluster_id,:],term_list,topics=topic_word).head()"
   ]
  }
 ],
 "metadata": {
  "anaconda-cloud": {},
  "kernelspec": {
   "display_name": "Python [Root]",
   "language": "python",
   "name": "Python [Root]"
  },
  "language_info": {
   "codemirror_mode": {
    "name": "ipython",
    "version": 3
   },
   "file_extension": ".py",
   "mimetype": "text/x-python",
   "name": "python",
   "nbconvert_exporter": "python",
   "pygments_lexer": "ipython3",
   "version": "3.5.1"
  }
 },
 "nbformat": 4,
 "nbformat_minor": 0
}
