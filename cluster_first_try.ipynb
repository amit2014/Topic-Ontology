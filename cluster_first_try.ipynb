{
 "cells": [
  {
   "cell_type": "code",
   "execution_count": 1,
   "metadata": {
    "collapsed": true
   },
   "outputs": [],
   "source": []
  },
  {
   "cell_type": "code",
   "execution_count": 2,
   "metadata": {
    "collapsed": true
   },
   "outputs": [],
   "source": [
    "import xml.etree.ElementTree as ET\n",
    "import matplotlib.pyplot as plt\n",
    "import numpy\n",
    "import random\n",
    "import pandas as pd\n",
    "\n",
    "def run_this():\n",
    "    global root\n",
    "    global indices\n",
    "    global titles\n",
    "    global text\n",
    "    \"\"\"This section contains the code to be executed\"\"\"\n",
    "    root = parse_file()\n",
    "    indices = get_articles(root)\n",
    "    random.seed(8685)\n",
    "    indices = random.sample(indices,10000)\n",
    "    indices.sort()\n",
    "    titles = get_titles(root,indices)\n",
    "    text = get_text(root,indices)\n",
    "    \"\"\"end section\"\"\"\n",
    "    data=get_dataframe(titles, text)\n",
    "    return data\n",
    "\n",
    "\n",
    "def parse_file():\n",
    "    tree = ET.parse('simplewiki-20160701-pages-articles-multistream.xml')\n",
    "    return tree.getroot()\n",
    "\n",
    "def get_titles(root,indices):\n",
    "    return [root[i][0].text for i in indices ]\n",
    "\n",
    "def get_articles(root):\n",
    "    indices = []\n",
    "    for i in range(1,len(root.getchildren())):\n",
    "        # Remove non-articles (ie help pages, categories, etc.)\n",
    "        if root[i][1].text == \"0\":\n",
    "            # Remove redirect articles\n",
    "            redirect = root[i].find('{http://www.mediawiki.org/xml/export-0.10/}redirect')\n",
    "            if redirect is None:\n",
    "                # Remove articles with fewer than 300 characters\n",
    "                # Yes, this does slow it down a lot.\n",
    "                if( len(root[i].find('{http://www.mediawiki.org/xml/export-0.10/}revision').find('{http://www.mediawiki.org/xml/export-0.10/}text').text) >= 300 ):\n",
    "                    indices.append(i)\n",
    "    return indices\n",
    "\n",
    "def get_text(root,article_indices):\n",
    "    text = []\n",
    "    for child in [root[i] for i in article_indices]:\n",
    "        for textnode in child.iter(tag ='{http://www.mediawiki.org/xml/export-0.10/}text'):\n",
    "            text.append(textnode.text)\n",
    "    return text\n",
    "\n",
    "def get_dataframe(title_list, text_list):\n",
    "    data=pd.DataFrame(index=range(10000), columns=['title', 'text'])\n",
    "    data['title']=title_list\n",
    "    data['text']=text_list\n",
    "    return data\n",
    "\n",
    "data=run_this()"
   ]
  },
  {
   "cell_type": "code",
   "execution_count": 3,
   "metadata": {
    "collapsed": true
   },
   "outputs": [],
   "source": [
    "run text-preprocessing.py"
   ]
  },
  {
   "cell_type": "code",
   "execution_count": 4,
   "metadata": {
    "collapsed": true
   },
   "outputs": [],
   "source": [
    "import nltk"
   ]
  },
  {
   "cell_type": "code",
   "execution_count": 5,
   "metadata": {
    "collapsed": true
   },
   "outputs": [],
   "source": [
    "from nltk.corpus import stopwords"
   ]
  },
  {
   "cell_type": "code",
   "execution_count": 7,
   "metadata": {
    "collapsed": false
   },
   "outputs": [
    {
     "data": {
      "text/plain": [
       "'[[File:Chemin montant dans les hautes herbes - Pierre Auguste Renoir.jpg|thumb|300px|A painting by [[Renoir]] which is a work of art.]]\\n\\n\\'\\'\\'Art\\'\\'\\' is an activity or creation by people that has importance because of an attraction to the human [[senses]]. Art is made when a human expresses himself or herself. Some art is useful in a practical sense, such as a sculptured clay [[bowl]] that one can put things in. Many people disagree on how to define art. Many people say people are driven to make art due to their inner [[creativity]]. Art includes [[drawing]], [[painting]], [[sculpting]], [[photography]], [[Performing arts|performance art]], [[dance]], [[music]], [[poetry]], [[prose]] and [[theatre]].\\n\\n== Types of art ==\\nArt is divided into the [[plastic arts]], where something is made, and the [[performing arts]], where something is done by humans in action. The other division is between pure arts, done for themselves, and practical arts, done for a practical purpose, but with artistic content.\\n*Plastic arts\\n**Fine art is expression by making something [[Beauty|beautiful]] or appealing to the [[emotion]]s by visual means: [[drawing]], [[painting]], [[printmaking]] [[sculpture]]\\n**Literature: [[poetry]], creative [[writing]]\\n*Performing arts\\n**Performing art including [[drama]] are (expression using the body: [[dance]], [[acting]], [[singing]])\\n**Auditory art (expression by making [[sound]]s): [[music]], [[singing]]\\n*Practical arts\\n** Culinary art (expression by making [[flavor]]s and [[taste]]s): [[cooking]] \\n** The practical arts (expression by making things and structures: [[architecture]], [[Movie|filming]], [[fashion]], [[photography]], [[video games]])\\n\\n== What \"art\" means ==\\nSome people say that art is a product or item that is made with the intention of stimulating the human senses as well as the [[mind|human mind]], [[spirit]] and [[soul]].\\n\\nAn artwork is normally judged by how much impact it has on people, the amount of people who can relate to it, and how much people appreciate it.\\n\\nThe first and broadest sense of \"art\" means \"arrangement\" or \"to arrange.\" In this sense, art is created when someone arranges things found in the world into a new or different design or form; or when someone arranges colors next to each other in a painting to make an image or just to make a pretty or interesting design.\\n\\nArt can also be a form of expression of [[emotion]]. The artist may feel a certain emotion and feels there is no other way to express it than to create something that means something to them. Most of the art created in this case is made for the artist rather than an audience. Though if an audience is able to connect with the emotion as well, then the art work will become publicly successful.\\n\\n== History of art ==\\n\\nThere are sculptures, [[cave painting]] and [[rock art]] dating from the Upper [[Paleolithic]] era.\\n\\nAll of the great ancient civilizations, such as Ancient [[Egypt]], [[India]], [[China]], [[Greece]], [[Rome]] or [[Arabia]] had works and styles of art. In the [[Middle Ages]], most of the art in [[Europe]] showed people from the [[Bible]] in [[painting]]s, [[stained glass]] windows, and [[mosaic]] tile floors and walls.\\n\\n[[Islamic]] art includes [[geometric]] patterns, Islamic [[calligraphy]], and [[architecture]]. In [[India]] and [[Tibet]], painted sculptures, dance, and religious painting were done. In China, arts included [[jade]] carving, bronzework, [[pottery]], [[poetry]], calligraphy, music, painting, drama, and fiction. There are many Chinese artistic styles, which are usually named after the ruling dynasty.\\n\\nIn Europe, after the [[Middle Ages]], there was a \"[[Renaissance]]\" which means \"rebirth\". People rediscovered [[science]] and artists were allowed to paint subjects other than religious subjects. People like [[Michelangelo]] and [[Leonardo da Vinci]] still painted religious pictures, but they also now could paint mythological pictures too. These artists also invented [[perspective (graphical)|perspective]] where things in the distance look smaller than things close up in the picture. This was new because in the Middle Ages people would paint all the figures close up and just overlapping each other.\\n\\nIn the late 1800s, artists in Europe, responding to [[Industrialization|Modernity]] created many new painting styles such as [[Classicism]], [[Romanticism]], [[Realism]], and [[Impressionism]]. The history of twentieth century art includes [[Expressionism]], [[Fauvism]], [[Cubism]], [[Dada]]ism, [[Surrealism]], and [[Minimalism]].\\n\\n== Roles of art ==\\n\\nIn some [[society|societies]], people think that art belongs to the person who made it, such as Indigenous Aboriginal Australian Art. They think that the artist put his or her \"[[talent]]\" into the art. In this view, the art is the [[property]] of the artist.\\n\\nIn other societies, people think that art belongs to no one. They think that society has put its [[social capital]] into the artist and the artist\\'s work. In this view, society is a [[collective]] that has made the art, through the artist.\\n\\n=== Functions of art ===\\n\\nThe [[wikt:simple:function|functions]] of art include:<ref>{{cite book |last=Bagdasaryan |first=Nadejda |title=Culturology |year=2000 |language=Russian |ISBN=5-06-003475-5 |pages=511 |chapter=7. Art as a phenomenon of culture}}</ref>\\n\\n1) Cognitive function\\n\\n:Works of art let us know about what the author knew, and about what the surrounding of the author were like.\\n\\n2) Aesthetic function\\n\\n:Works of art are more or less harmonic and bring pleasure, a sensation of beauty.\\n\\n3) Prognostic function\\n\\n:Some artists draw what they see the future like, and some of them are right, but most are not...\\n\\n4) Recreation function\\n\\n:Art makes us think about it, not about reality; we have a rest.\\n\\n5) Value function\\n\\n:What did the artist value? What aims did he like/dislike in human activity? This usually is clearly seen in artists\\' works.\\n\\n6) Didactic function\\n\\n:What message, criticism or political change did the artist wish to achieve?\\n\\n== Related pages ==\\n*[[Modern art]]\\n*[[Abstract art]]\\n*[[Painting]]\\n*[[Roerich Pact]]\\n*[[Street art]]\\n\\n== References ==\\n<references/>\\n\\n{{commonscat}}\\n\\n[[Category:Art| ]]\\n[[Category:Non-verbal communication]]\\n[[Category:Basic English 850 words]]'"
      ]
     },
     "execution_count": 7,
     "metadata": {},
     "output_type": "execute_result"
    }
   ],
   "source": [
    "data['text'][0]\n"
   ]
  },
  {
   "cell_type": "code",
   "execution_count": 8,
   "metadata": {
    "collapsed": true
   },
   "outputs": [],
   "source": [
    "text=text_clean(data['text'][0])"
   ]
  },
  {
   "cell_type": "code",
   "execution_count": 9,
   "metadata": {
    "collapsed": false
   },
   "outputs": [
    {
     "name": "stdout",
     "output_type": "stream",
     "text": [
      "['file', 'chemin', 'montant', 'dan', 'le', 'haut', 'herb', 'pierr', 'august', 'renoir', 'jpg', 'thumb', '300px', 'paint', 'renoir', 'work', 'art', 'art', 'activ', 'creation', 'peopl', 'import', 'attract', 'human', 'sens', 'art', 'made', 'human', 'express', 'art', 'use', 'practic', 'sens', 'sculptur', 'clay', 'bowl', 'one', 'put', 'thing', 'mani', 'peopl', 'disagre', 'defin', 'art', 'mani', 'peopl', 'say', 'peopl', 'driven', 'make', 'art', 'due', 'inner', 'creativ', 'art', 'includ', 'draw', 'paint', 'sculpt', 'photographi', 'perform', 'art', 'perform', 'art', 'danc', 'music', 'poetri', 'prose', 'theatr', 'type', 'art', 'art', 'divid', 'plastic', 'art', 'someth', 'made', 'perform', 'art', 'someth', 'done', 'human', 'action', 'divis', 'pure', 'art', 'done', 'practic', 'art', 'done', 'practic', 'purpos', 'artist', 'content', 'plastic', 'art', 'fine', 'art', 'express', 'make', 'someth', 'beauti', 'beauti', 'appeal', 'emot', 'visual', 'mean', 'draw', 'paint', 'printmak', 'sculptur', 'literatur', 'poetri', 'creativ', 'write', 'perform', 'art', 'perform', 'art', 'includ', 'drama', 'express', 'use', 'bodi', 'danc', 'act', 'sing', 'auditori', 'art', 'express', 'make', 'sound', 'music', 'sing', 'practic', 'art', 'culinari', 'art', 'express', 'make', 'flavor', 'tast', 'cook', 'practic', 'art', 'express', 'make', 'thing', 'structur', 'architectur', 'movi', 'film', 'fashion', 'photographi', 'video', 'game', 'art', 'mean', 'peopl', 'say', 'art', 'product', 'item', 'made', 'intent', 'stimul', 'human', 'sens', 'well', 'mind', 'human', 'mind', 'spirit', 'soul', 'artwork', 'normal', 'judg', 'much', 'impact', 'peopl', 'amount', 'peopl', 'relat', 'much', 'peopl', 'appreci', 'first', 'broadest', 'sens', 'art', 'mean', 'arrang', 'arrang', 'sens', 'art', 'creat', 'someon', 'arrang', 'thing', 'found', 'world', 'new', 'differ', 'design', 'form', 'someon', 'arrang', 'color', 'next', 'paint', 'make', 'imag', 'make', 'pretti', 'interest', 'design', 'art', 'also', 'form', 'express', 'emot', 'artist', 'may', 'feel', 'certain', 'emot', 'feel', 'way', 'express', 'creat', 'someth', 'mean', 'someth', 'art', 'creat', 'case', 'made', 'artist', 'rather', 'audienc', 'though', 'audienc', 'abl', 'connect', 'emot', 'well', 'art', 'work', 'becom', 'publicli', 'success', 'histori', 'art', 'sculptur', 'cave', 'paint', 'rock', 'art', 'date', 'upper', 'paleolith', 'era', 'great', 'ancient', 'civil', 'ancient', 'egypt', 'india', 'china', 'greec', 'rome', 'arabia', 'work', 'style', 'art', 'middl', 'age', 'art', 'europ', 'show', 'peopl', 'bibl', 'paint', 'stain', 'glass', 'window', 'mosaic', 'tile', 'floor', 'wall', 'islam', 'art', 'includ', 'geometr', 'pattern', 'islam', 'calligraphi', 'architectur', 'india', 'tibet', 'paint', 'sculptur', 'danc', 'religi', 'paint', 'done', 'china', 'art', 'includ', 'jade', 'carv', 'bronzework', 'potteri', 'poetri', 'calligraphi', 'music', 'paint', 'drama', 'fiction', 'mani', 'chines', 'artist', 'style', 'usual', 'name', 'rule', 'dynasti', 'europ', 'middl', 'age', 'renaiss', 'mean', 'rebirth', 'peopl', 'rediscov', 'scienc', 'artist', 'allow', 'paint', 'subject', 'religi', 'subject', 'peopl', 'like', 'michelangelo', 'leonardo', 'da', 'vinci', 'still', 'paint', 'religi', 'pictur', 'also', 'could', 'paint', 'mytholog', 'pictur', 'artist', 'also', 'invent', 'perspect', 'graphic', 'perspect', 'thing', 'distanc', 'look', 'smaller', 'thing', 'close', 'pictur', 'new', 'middl', 'age', 'peopl', 'would', 'paint', 'figur', 'close', 'overlap', 'late', '1800', 'artist', 'europ', 'respond', 'industri', 'modern', 'creat', 'mani', 'new', 'paint', 'style', 'classic', 'romantic', 'realism', 'impression', 'histori', 'twentieth', 'centuri', 'art', 'includ', 'expression', 'fauvism', 'cubism', 'dada', 'ism', 'surreal', 'minim', 'role', 'art', 'societi', 'societi', 'peopl', 'think', 'art', 'belong', 'person', 'made', 'indigen', 'aborigin', 'australian', 'art', 'think', 'artist', 'put', 'talent', 'art', 'view', 'art', 'properti', 'artist', 'societi', 'peopl', 'think', 'art', 'belong', 'one', 'think', 'societi', 'put', 'social', 'capit', 'artist', 'artist', 'work', 'view', 'societi', 'collect', 'made', 'art', 'artist', 'function', 'art', 'wikt', 'simpl', 'function', 'function', 'art', 'includ', 'ref', 'cite', 'book', 'last', 'bagdasaryan', 'first', 'nadejda', 'titl', 'culturolog', 'year', '2000', 'languag', 'russian', 'isbn', '5', '06', '003475', '5', 'page', '511', 'chapter', '7', 'art', 'phenomenon', 'cultur', 'ref', '1', 'cognit', 'function', 'work', 'art', 'let', 'us', 'know', 'author', 'knew', 'surround', 'author', 'like', '2', 'aesthet', 'function', 'work', 'art', 'less', 'harmon', 'bring', 'pleasur', 'sensat', 'beauti', '3', 'prognost', 'function', 'artist', 'draw', 'see', 'futur', 'like', 'right', '4', 'recreat', 'function', 'art', 'make', 'us', 'think', 'realiti', 'rest', '5', 'valu', 'function', 'artist', 'valu', 'aim', 'like', 'dislik', 'human', 'activ', 'usual', 'clearli', 'seen', 'artist', 'work', '6', 'didact', 'function', 'messag', 'critic', 'polit', 'chang', 'artist', 'wish', 'achiev', 'relat', 'page', 'modern', 'art', 'abstract', 'art', 'paint', 'roerich', 'pact', 'street', 'art', 'refer', 'refer', 'commonscat', 'categori', 'art', 'categori', 'non', 'verbal', 'commun', 'categori', 'basic', 'english', '850', 'word']\n"
     ]
    }
   ],
   "source": [
    "print(text)"
   ]
  },
  {
   "cell_type": "code",
   "execution_count": 10,
   "metadata": {
    "collapsed": true
   },
   "outputs": [],
   "source": [
    "article_text=[text_clean(text) for text in data['text']]"
   ]
  },
  {
   "cell_type": "code",
   "execution_count": 11,
   "metadata": {
    "collapsed": true
   },
   "outputs": [],
   "source": [
    "data['text']=article_text"
   ]
  },
  {
   "cell_type": "code",
   "execution_count": 12,
   "metadata": {
    "collapsed": true
   },
   "outputs": [],
   "source": [
    "def list_to_string(list):\n",
    "    str=''\n",
    "    for word in list:\n",
    "        str+=word+\" \"\n",
    "    return str"
   ]
  },
  {
   "cell_type": "code",
   "execution_count": 13,
   "metadata": {
    "collapsed": false
   },
   "outputs": [
    {
     "data": {
      "text/plain": [
       "'file chemin montant dan le haut herb pierr august renoir jpg thumb 300px paint renoir work art art activ creation peopl import attract human sens art made human express art use practic sens sculptur clay bowl one put thing mani peopl disagre defin art mani peopl say peopl driven make art due inner creativ art includ draw paint sculpt photographi perform art perform art danc music poetri prose theatr type art art divid plastic art someth made perform art someth done human action divis pure art done practic art done practic purpos artist content plastic art fine art express make someth beauti beauti appeal emot visual mean draw paint printmak sculptur literatur poetri creativ write perform art perform art includ drama express use bodi danc act sing auditori art express make sound music sing practic art culinari art express make flavor tast cook practic art express make thing structur architectur movi film fashion photographi video game art mean peopl say art product item made intent stimul human sens well mind human mind spirit soul artwork normal judg much impact peopl amount peopl relat much peopl appreci first broadest sens art mean arrang arrang sens art creat someon arrang thing found world new differ design form someon arrang color next paint make imag make pretti interest design art also form express emot artist may feel certain emot feel way express creat someth mean someth art creat case made artist rather audienc though audienc abl connect emot well art work becom publicli success histori art sculptur cave paint rock art date upper paleolith era great ancient civil ancient egypt india china greec rome arabia work style art middl age art europ show peopl bibl paint stain glass window mosaic tile floor wall islam art includ geometr pattern islam calligraphi architectur india tibet paint sculptur danc religi paint done china art includ jade carv bronzework potteri poetri calligraphi music paint drama fiction mani chines artist style usual name rule dynasti europ middl age renaiss mean rebirth peopl rediscov scienc artist allow paint subject religi subject peopl like michelangelo leonardo da vinci still paint religi pictur also could paint mytholog pictur artist also invent perspect graphic perspect thing distanc look smaller thing close pictur new middl age peopl would paint figur close overlap late 1800 artist europ respond industri modern creat mani new paint style classic romantic realism impression histori twentieth centuri art includ expression fauvism cubism dada ism surreal minim role art societi societi peopl think art belong person made indigen aborigin australian art think artist put talent art view art properti artist societi peopl think art belong one think societi put social capit artist artist work view societi collect made art artist function art wikt simpl function function art includ ref cite book last bagdasaryan first nadejda titl culturolog year 2000 languag russian isbn 5 06 003475 5 page 511 chapter 7 art phenomenon cultur ref 1 cognit function work art let us know author knew surround author like 2 aesthet function work art less harmon bring pleasur sensat beauti 3 prognost function artist draw see futur like right 4 recreat function art make us think realiti rest 5 valu function artist valu aim like dislik human activ usual clearli seen artist work 6 didact function messag critic polit chang artist wish achiev relat page modern art abstract art paint roerich pact street art refer refer commonscat categori art categori non verbal commun categori basic english 850 word '"
      ]
     },
     "execution_count": 13,
     "metadata": {},
     "output_type": "execute_result"
    }
   ],
   "source": [
    "list_to_string(article_text[0])"
   ]
  },
  {
   "cell_type": "code",
   "execution_count": 14,
   "metadata": {
    "collapsed": true
   },
   "outputs": [],
   "source": [
    "article_text=[list_to_string(text) for text in data['text']]"
   ]
  },
  {
   "cell_type": "code",
   "execution_count": 15,
   "metadata": {
    "collapsed": true
   },
   "outputs": [],
   "source": [
    "data['text']=article_text\n"
   ]
  },
  {
   "cell_type": "code",
   "execution_count": 16,
   "metadata": {
    "collapsed": false
   },
   "outputs": [
    {
     "data": {
      "text/plain": [
       "'monththisyear 2 februari second month year come januari march 28 day year leap year februari 29 day sweden 1732 month 30 day make calendar match rest world 1930 1931 februari 30 day soviet union govern chang month 30 day long name come either roman god februu els februa festiv purif celebr rome everi fifteenth month month file valentin day chocol 2005 jpg thumb 200px right chocol valentin day februari 14 februari one last two month ad calendar begin year januari origin roman calendar two month winter much would happen agricultur name februari second month year come januari march also shortest month 28 day common year 29 day leap year februari begin day week march novemb common year day august leap year everi year februari end day week octob common year februari also end day week januari leap year februari month begin end day week circa 700 bc numa pompiliu second king rome ad calendar februari 23 day 24 day everi second year 46 bc juliu caesar assign 29 day everi fourth year 28 day otherwis leap year day februari 29 ad everi year divid equal four 2012 2016 appli year end 00 turn centuri divid equal 400 mean 2000 leap year gregorian calendar 1900 julian calendar calcul date differ alway repeat februari 29 everi four year februari winter month northern hemispher summer month southern hemispher hemispher season al equival august weather lore groundhog day unit state set decid weather like rest winter februari flower violet plant violet birthston amethyst mean amethyst sincer zodiac sign februari aquariu astrolog aquariu januari 21 februari 19 pisc astrolog pisc februari 20 march 20 event februari fix event file groundhogday2005 jpg thumb 180px right groundhog day celebr februari 2 file antiqu valentin 1909 01 jpg thumb 180px right valentin day card februari 14 earli 1900 file calendar leapyeard jpg thumb 200px right februari 29 shown swedish pocket calendar februari 1 freedom day unit state februari 1 februari 2 2 imbolc pagan februari 2 groundhog day unit state februari 2 candlema western christian februari 2 inventor day thailand februari 2 world wetland day februari 2 constitut day philippin februari 3 hero day mozambiqu februari 3 veteran day thailand februari 4 independ day sri lanka februari 4 day arm struggl angola februari 4 world cancer day februari 5 constitut day mexico februari 5 runeberg birthday finland februari 5 uniti day burundi februari 6 waitangi day new zealand februari 6 sami peopl sami nation day norway sweden finland part russia februari 6 ronald reagan day california februari 7 independ day grenada februari 10 feast st paul shipwreck malta februari 10 fenkil day eritrea februari 11 nation foundat day japan februari 12 charl darwin darwin day februari 12 abraham lincoln birthday unit state februari 12 union day burma februari 12 youth day venezuela februari 14 valentin day februari 14 statehood day arizona oregon februari 15 day flag canada februari 16 independ day lithuania februari 17 celebr independ day kosovo februari 18 independ day gambia februari 18 intern asperg syndrom asperg day februari 21 intern mother languag day februari 21 languag movement day bangladesh februari 21 biikebrennen celebr northern schleswig holstein germani southern denmark februari 22 georg washington birthday unit state februari 22 independ day saint lucia februari 23 republ day guyana februari 23 nation day brunei februari 23 defend fatherland day russia februari 24 independ day estonia februari 24 flag day mexico februari 25 nation day kuwait februari 25 peopl power day philippin februari 25 soviet occup day georgia countri georgia februari 26 liber day kuwait februari 27 nation day dominican republ februari 28 kalevala day finland februari 28 nation scienc day india februari 28 peac memori day taiwan februari 29 leap day moveabl month long event file red lantern jpg thumb 180px right lantern mark chines new year chines new year fall new moon januari 21 februari 21 lent relat observ western christian shrove monday fall februari 2 march 8 shrove tuesday pancak day fall februari 3 march 9 ash wednesday start lent fall februari 4 march 10 carniv famou one take place rio de janeiro venic black histori month canada unit state lgbt histori month unit kingdom presid day unit state third monday februari celebr birthday abraham lincoln georg washington super bowl american footbal usual first sunday februari six nation rugbi union tournament run earli februari mid march england franc ireland itali scotland wale winter olymp often held februari last 2010 next 2014 select histor event file watersnoodramp 1953 jpg thumb 200px right flood netherland februari 1 1953 file cook death jpg thumb 200px right jame cook kill hawaii februari 14 1779 file chelyabinsk meteor trace 15 02 2013 jpg thumb 200px right trail left meteorit chelyabinsk februari 15 2013 file casa pelluhu tra terremoto 2010 jpg thumb 200px right damag chile 2010 cauquen earthquak februari 27 2010 februari 1 1884 first edit oxford english dictionari publish februari 1 1953 night januari 31 part netherland belgium unit kingdom sever flood ed februari 1 2003 space shuttl columbia break entri earth atmospher kill seven astronaut board februari 2 1913 grand central termin new york citi open first time februari 3 1931 magnitud 7 8 earthquak hit citi napier hast new zealand hast new zealand februari 3 1959 buddi holli ritchi valen big bopper die plane crash iowa day music die februari 4 1948 ceylon present day sri lanka becom independ februari 4 2004 facebook found februari 5 1818 jean baptist bernadott becom king sweden februari 5 1909 leo baekeland announc creation bakelit februari 6 1788 massachusett becom us state februari 6 1840 treati waitangi sign new zealand offici make british coloni februari 6 1952 elizabeth ii unit kingdom becom queen februari 7 1979 grenada becom independ februari 8 1542 mari queen scot execut februari 10 1763 treati pari 1763 treati pari franc give quebec great britain februari 10 1863 fire extinguish patent ed februari 11 1990 south africa nelson mandela releas prison februari 11 2011 hosni mubarak resign presid egypt widespread protest februari 11 2013 pope benedict xvi announc resign effect end month februari 12 1809 charl darwin abraham lincoln born day februari 12 1818 bernardo higgin sign independ chile near concepcion februari 13 1668 spain recogn portug independ countri februari 13 1931 new delhi becom capit citi india februari 14 1779 jame cook kill local peopl hawaii island februari 15 1965 mapl leaf flag becom flag canada februari 15 2013 meteorit explod chelyabinsk western siberia russia injur 1 000 peopl februari 16 1918 lithuania declar independ februari 16 1959 fidel castro becom leader cuba februari 17 2008 kosovo declar independ serbia recogn independ state februari 18 1930 clyde tombaugh discov dwarf planet pluto februari 18 1965 gambia becom independ februari 19 1861 serfdom end russia februari 20 1472 orkney shetland becom part scotland februari 20 1929 american samoa becom us territori februari 21 1613 mikhail russia becom tasr start romanov dynasti februari 21 1848 karl marx friedrich engel publish communist manifesto februari 21 1958 peac symbol design februari 22 1862 jefferson davi offici becom presid confeder state america februari 22 1979 saint lucia becom independ februari 22 2011 strong earthquak strike citi christchurch new zealand kill 181 peopl destroy citi cathedr februari 23 1941 plutonium first produc isol glenn seaborg februari 23 1970 guyana becom republ februari 24 1918 estonia declar independ februari 25 1921 soviet russia occupi tbilisi georgia countri georgia februari 25 1947 prussia longer exist date februari 25 1986 peopl power revolut corazon aquino becom presid philippin februari 26 1815 napoleon bonapart escap exil island elba februari 26 1993 terrorist bomb explod car park world trade center new york citi februari 27 1844 dominican republ becom independ haiti februari 27 2010 2010 cauquen earthquak strike central chile caus major destruct kill around 500 peopl februari 28 1922 egypt declar independ februari 28 1986 prime minist sweden olof palm murder ed februari 29 1960 earthquak strike agadir morocco kill 3 000 peopl februari 29 1984 pierr trudeau announc resign prime minist canada februari 29 2004 jean bertrand aristid resign presid haiti follow popular rebel upris trivia file 1760 salzburg stiftskirch st peter viola jpg thumb 150px right violet februari sun pass zodiac constel capricornu aquariu year februari begin day week march novemb leap year februari begin day week august sign zodiac within month februari aquariu pisc februari shortest month year leap year februari 29 fall day week octob 31 birth flower februari violet amethyst pearl consid birthston month februari two highli rate us presid born februari abraham lincoln georg washington us presid born februari ronald reagan william henri harrison shortest serv presid nicolau copernicu galileo galilei born februari month '"
      ]
     },
     "execution_count": 16,
     "metadata": {},
     "output_type": "execute_result"
    }
   ],
   "source": [
    "data['text'][10]"
   ]
  },
  {
   "cell_type": "code",
   "execution_count": 17,
   "metadata": {
    "collapsed": true
   },
   "outputs": [],
   "source": [
    "from sklearn.feature_extraction.text import CountVectorizer"
   ]
  },
  {
   "cell_type": "code",
   "execution_count": 41,
   "metadata": {
    "collapsed": false
   },
   "outputs": [],
   "source": [
    "from sklearn.feature_extraction.text import TfidfVectorizer"
   ]
  },
  {
   "cell_type": "code",
   "execution_count": 55,
   "metadata": {
    "collapsed": true
   },
   "outputs": [],
   "source": [
    "df=0"
   ]
  },
  {
   "cell_type": "code",
   "execution_count": 56,
   "metadata": {
    "collapsed": false
   },
   "outputs": [
    {
     "name": "stdout",
     "output_type": "stream",
     "text": [
      "0 158838\n",
      "0.05 418\n",
      "0.1 150\n",
      "0.15000000000000002 66\n",
      "0.2 44\n",
      "0.25 28\n",
      "0.3 18\n",
      "0.35 15\n",
      "0.39999999999999997 11\n",
      "0.44999999999999996 6\n",
      "0.49999999999999994 4\n",
      "0.5499999999999999 3\n",
      "0.6 2\n",
      "0.65 1\n",
      "0.7000000000000001 1\n",
      "0.7500000000000001 1\n",
      "0.8000000000000002 1\n",
      "0.8500000000000002 1\n",
      "0.9000000000000002 1\n",
      "0.9500000000000003 1\n"
     ]
    }
   ],
   "source": [
    "while df<1:\n",
    "    tfidf=TfidfVectorizer(min_df=df, stop_words=\"english\")\n",
    "    tfidf.fit_transform(data['text'])\n",
    "    print(df, len(tfidf.get_feature_names()))\n",
    "    df+=.05"
   ]
  },
  {
   "cell_type": "code",
   "execution_count": 57,
   "metadata": {
    "collapsed": true
   },
   "outputs": [],
   "source": [
    "tfidf=TfidfVectorizer(min_df=.05, stop_words=\"english\")\n",
    "Tfidf_matrix=tfidf.fit_transform(data['text'])\n",
    "\n"
   ]
  },
  {
   "cell_type": "code",
   "execution_count": 58,
   "metadata": {
    "collapsed": false
   },
   "outputs": [
    {
     "data": {
      "text/plain": [
       "['000',\n",
       " '01',\n",
       " '02',\n",
       " '03',\n",
       " '04',\n",
       " '05',\n",
       " '06',\n",
       " '07',\n",
       " '08',\n",
       " '09',\n",
       " '10',\n",
       " '100',\n",
       " '11',\n",
       " '12',\n",
       " '13',\n",
       " '14',\n",
       " '15',\n",
       " '16',\n",
       " '17',\n",
       " '18',\n",
       " '19',\n",
       " '1970',\n",
       " '1980',\n",
       " '1986',\n",
       " '1987',\n",
       " '1988',\n",
       " '1989',\n",
       " '1990',\n",
       " '1991',\n",
       " '1992',\n",
       " '1993',\n",
       " '1994',\n",
       " '1995',\n",
       " '1996',\n",
       " '1997',\n",
       " '1998',\n",
       " '1999',\n",
       " '20',\n",
       " '2000',\n",
       " '2001',\n",
       " '2002',\n",
       " '2003',\n",
       " '2004',\n",
       " '2005',\n",
       " '2006',\n",
       " '2007',\n",
       " '2008',\n",
       " '2009',\n",
       " '200px',\n",
       " '2010',\n",
       " '2011',\n",
       " '2012',\n",
       " '2013',\n",
       " '2014',\n",
       " '2015',\n",
       " '21',\n",
       " '22',\n",
       " '23',\n",
       " '24',\n",
       " '25',\n",
       " '250px',\n",
       " '26',\n",
       " '27',\n",
       " '28',\n",
       " '29',\n",
       " '30',\n",
       " '31',\n",
       " '32',\n",
       " '40',\n",
       " '50',\n",
       " 'accessd',\n",
       " 'act',\n",
       " 'activ',\n",
       " 'actor',\n",
       " 'age',\n",
       " 'air',\n",
       " 'al',\n",
       " 'album',\n",
       " 'america',\n",
       " 'american',\n",
       " 'anim',\n",
       " 'anoth',\n",
       " 'appear',\n",
       " 'april',\n",
       " 'archiv',\n",
       " 'area',\n",
       " 'art',\n",
       " 'articl',\n",
       " 'artist',\n",
       " 'asp',\n",
       " 'associ',\n",
       " 'august',\n",
       " 'author',\n",
       " 'award',\n",
       " 'background',\n",
       " 'base',\n",
       " 'becam',\n",
       " 'becom',\n",
       " 'began',\n",
       " 'begin',\n",
       " 'best',\n",
       " 'bio',\n",
       " 'biographi',\n",
       " 'biolog',\n",
       " 'birth',\n",
       " 'black',\n",
       " 'bodi',\n",
       " 'book',\n",
       " 'border',\n",
       " 'born',\n",
       " 'br',\n",
       " 'british',\n",
       " 'build',\n",
       " 'california',\n",
       " 'capit',\n",
       " 'caption',\n",
       " 'career',\n",
       " 'categori',\n",
       " 'caus',\n",
       " 'center',\n",
       " 'central',\n",
       " 'centuri',\n",
       " 'chang',\n",
       " 'children',\n",
       " 'cite',\n",
       " 'citi',\n",
       " 'class',\n",
       " 'club',\n",
       " 'code',\n",
       " 'com',\n",
       " 'come',\n",
       " 'common',\n",
       " 'commonscat',\n",
       " 'commun',\n",
       " 'compani',\n",
       " 'coordin',\n",
       " 'counti',\n",
       " 'countri',\n",
       " 'cover',\n",
       " 'creat',\n",
       " 'current',\n",
       " 'date',\n",
       " 'david',\n",
       " 'day',\n",
       " 'death',\n",
       " 'decemb',\n",
       " 'defaultsort',\n",
       " 'densiti',\n",
       " 'depart',\n",
       " 'design',\n",
       " 'develop',\n",
       " 'df',\n",
       " 'die',\n",
       " 'differ',\n",
       " 'director',\n",
       " 'display',\n",
       " 'district',\n",
       " 'divis',\n",
       " 'earli',\n",
       " 'east',\n",
       " 'ed',\n",
       " 'edit',\n",
       " 'edu',\n",
       " 'elev',\n",
       " 'en',\n",
       " 'end',\n",
       " 'england',\n",
       " 'english',\n",
       " 'establish',\n",
       " 'europ',\n",
       " 'european',\n",
       " 'event',\n",
       " 'exampl',\n",
       " 'famili',\n",
       " 'famou',\n",
       " 'featur',\n",
       " 'februari',\n",
       " 'field',\n",
       " 'file',\n",
       " 'film',\n",
       " 'flag',\n",
       " 'follow',\n",
       " 'footbal',\n",
       " 'footnot',\n",
       " 'forc',\n",
       " 'form',\n",
       " 'format',\n",
       " 'franc',\n",
       " 'french',\n",
       " 'fullnam',\n",
       " 'game',\n",
       " 'gener',\n",
       " 'genr',\n",
       " 'geo',\n",
       " 'georg',\n",
       " 'german',\n",
       " 'germani',\n",
       " 'given',\n",
       " 'good',\n",
       " 'gov',\n",
       " 'govern',\n",
       " 'great',\n",
       " 'group',\n",
       " 'head',\n",
       " 'height',\n",
       " 'help',\n",
       " 'high',\n",
       " 'histori',\n",
       " 'home',\n",
       " 'hous',\n",
       " 'howev',\n",
       " 'htm',\n",
       " 'html',\n",
       " 'human',\n",
       " 'id',\n",
       " 'ii',\n",
       " 'imag',\n",
       " 'images',\n",
       " 'imdb',\n",
       " 'import',\n",
       " 'includ',\n",
       " 'index',\n",
       " 'infobox',\n",
       " 'inform',\n",
       " 'inlin',\n",
       " 'intern',\n",
       " 'isbn',\n",
       " 'island',\n",
       " 'issu',\n",
       " 'jame',\n",
       " 'januari',\n",
       " 'japan',\n",
       " 'john',\n",
       " 'jpg',\n",
       " 'juli',\n",
       " 'june',\n",
       " 'kill',\n",
       " 'king',\n",
       " 'kingdom',\n",
       " 'km2',\n",
       " 'known',\n",
       " 'la',\n",
       " 'label',\n",
       " 'land',\n",
       " 'lang',\n",
       " 'languag',\n",
       " 'larg',\n",
       " 'largest',\n",
       " 'lat',\n",
       " 'later',\n",
       " 'leader',\n",
       " 'leagu',\n",
       " 'left',\n",
       " 'life',\n",
       " 'like',\n",
       " 'line',\n",
       " 'list',\n",
       " 'live',\n",
       " 'locat',\n",
       " 'london',\n",
       " 'long',\n",
       " 'look',\n",
       " 'main',\n",
       " 'major',\n",
       " 'make',\n",
       " 'man',\n",
       " 'manag',\n",
       " 'mani',\n",
       " 'map',\n",
       " 'march',\n",
       " 'marri',\n",
       " 'mayor',\n",
       " 'mean',\n",
       " 'member',\n",
       " 'million',\n",
       " 'modern',\n",
       " 'movi',\n",
       " 'municip',\n",
       " 'music',\n",
       " 'nation',\n",
       " 'nativ',\n",
       " 'natur',\n",
       " 'nbsp',\n",
       " 'ndash',\n",
       " 'near',\n",
       " 'net',\n",
       " 'new',\n",
       " 'news',\n",
       " 'north',\n",
       " 'note',\n",
       " 'novemb',\n",
       " 'number',\n",
       " 'occup',\n",
       " 'octob',\n",
       " 'offic',\n",
       " 'offici',\n",
       " 'old',\n",
       " 'open',\n",
       " 'order',\n",
       " 'org',\n",
       " 'organ',\n",
       " 'origin',\n",
       " 'page',\n",
       " 'parti',\n",
       " 'pdf',\n",
       " 'peopl',\n",
       " 'perform',\n",
       " 'person',\n",
       " 'php',\n",
       " 'place',\n",
       " 'play',\n",
       " 'player',\n",
       " 'png',\n",
       " 'polit',\n",
       " 'popul',\n",
       " 'popular',\n",
       " 'posit',\n",
       " 'postal',\n",
       " 'power',\n",
       " 'present',\n",
       " 'presid',\n",
       " 'press',\n",
       " 'produc',\n",
       " 'provinc',\n",
       " 'public',\n",
       " 'publish',\n",
       " 'record',\n",
       " 'red',\n",
       " 'ref',\n",
       " 'refer',\n",
       " 'reflist',\n",
       " 'region',\n",
       " 'relat',\n",
       " 'releas',\n",
       " 'religion',\n",
       " 'result',\n",
       " 'retir',\n",
       " 'right',\n",
       " 'river',\n",
       " 'robert',\n",
       " 'rock',\n",
       " 'rowspan',\n",
       " 'run',\n",
       " 'said',\n",
       " 'say',\n",
       " 'school',\n",
       " 'scienc',\n",
       " 'season',\n",
       " 'second',\n",
       " 'septemb',\n",
       " 'seri',\n",
       " 'servic',\n",
       " 'set',\n",
       " 'settlement',\n",
       " 'sever',\n",
       " 'short',\n",
       " 'sinc',\n",
       " 'singer',\n",
       " 'singl',\n",
       " 'site',\n",
       " 'size',\n",
       " 'small',\n",
       " 'sometim',\n",
       " 'song',\n",
       " 'sourc',\n",
       " 'south',\n",
       " 'special',\n",
       " 'sport',\n",
       " 'spous',\n",
       " 'st',\n",
       " 'star',\n",
       " 'start',\n",
       " 'state',\n",
       " 'statist',\n",
       " 'stori',\n",
       " 'stub',\n",
       " 'studi',\n",
       " 'style',\n",
       " 'subdivis',\n",
       " 'svg',\n",
       " 'team',\n",
       " 'televis',\n",
       " 'term',\n",
       " 'text',\n",
       " 'thing',\n",
       " 'thumb',\n",
       " 'time',\n",
       " 'titl',\n",
       " 'total',\n",
       " 'town',\n",
       " 'tv',\n",
       " 'type',\n",
       " 'uk',\n",
       " 'unit',\n",
       " 'univers',\n",
       " 'url',\n",
       " 'use',\n",
       " 'usual',\n",
       " 'view',\n",
       " 'war',\n",
       " 'water',\n",
       " 'way',\n",
       " 'web',\n",
       " 'websit',\n",
       " 'west',\n",
       " 'white',\n",
       " 'width',\n",
       " 'wikit',\n",
       " 'wikt',\n",
       " 'william',\n",
       " 'word',\n",
       " 'work',\n",
       " 'world',\n",
       " 'writer',\n",
       " 'www',\n",
       " 'ye',\n",
       " 'year',\n",
       " 'york']"
      ]
     },
     "execution_count": 58,
     "metadata": {},
     "output_type": "execute_result"
    }
   ],
   "source": [
    "tfidf.get_feature_names()"
   ]
  },
  {
   "cell_type": "code",
   "execution_count": 59,
   "metadata": {
    "collapsed": false
   },
   "outputs": [
    {
     "data": {
      "text/plain": [
       "(10000, 418)"
      ]
     },
     "execution_count": 59,
     "metadata": {},
     "output_type": "execute_result"
    }
   ],
   "source": [
    "Tfidf_matrix.shape"
   ]
  },
  {
   "cell_type": "code",
   "execution_count": 60,
   "metadata": {
    "collapsed": true
   },
   "outputs": [],
   "source": [
    "from sklearn.decomposition import PCA"
   ]
  },
  {
   "cell_type": "code",
   "execution_count": 61,
   "metadata": {
    "collapsed": true
   },
   "outputs": [],
   "source": [
    "pca=PCA(n_components=2)"
   ]
  },
  {
   "cell_type": "code",
   "execution_count": 63,
   "metadata": {
    "collapsed": false
   },
   "outputs": [],
   "source": [
    "TFidf_matrix_PCA=pca.fit_transform(Tfidf_matrix.toarray())"
   ]
  },
  {
   "cell_type": "code",
   "execution_count": 64,
   "metadata": {
    "collapsed": false
   },
   "outputs": [
    {
     "data": {
      "text/plain": [
       "(10000, 2)"
      ]
     },
     "execution_count": 64,
     "metadata": {},
     "output_type": "execute_result"
    }
   ],
   "source": [
    "TFidf_matrix_PCA.shape"
   ]
  },
  {
   "cell_type": "code",
   "execution_count": 67,
   "metadata": {
    "collapsed": false
   },
   "outputs": [
    {
     "data": {
      "text/plain": [
       "<matplotlib.collections.PathCollection at 0x13b5fd6d8>"
      ]
     },
     "execution_count": 67,
     "metadata": {},
     "output_type": "execute_result"
    }
   ],
   "source": [
    "plt.scatter(TFidf_matrix_PCA[:,0], TFidf_matrix_PCA[:,1])"
   ]
  },
  {
   "cell_type": "code",
   "execution_count": 68,
   "metadata": {
    "collapsed": true
   },
   "outputs": [],
   "source": [
    "%matplotlib inline"
   ]
  },
  {
   "cell_type": "code",
   "execution_count": 69,
   "metadata": {
    "collapsed": false
   },
   "outputs": [
    {
     "data": {
      "text/plain": [
       "<matplotlib.collections.PathCollection at 0x14ad24ba8>"
      ]
     },
     "execution_count": 69,
     "metadata": {},
     "output_type": "execute_result"
    },
    {
     "data": {
      "image/png": "[encoded data removed]",
      "text/plain": [
       "<matplotlib.figure.Figure at 0x1418fe630>"
      ]
     },
     "metadata": {},
     "output_type": "display_data"
    }
   ],
   "source": [
    "plt.scatter(TFidf_matrix_PCA[:,0], TFidf_matrix_PCA[:,1])"
   ]
  },
  {
   "cell_type": "code",
   "execution_count": 70,
   "metadata": {
    "collapsed": true
   },
   "outputs": [],
   "source": [
    "from sklearn.cluster import KMeans"
   ]
  },
  {
   "cell_type": "code",
   "execution_count": 71,
   "metadata": {
    "collapsed": true
   },
   "outputs": [],
   "source": [
    "kmeans=KMeans(n_clusters=15)"
   ]
  },
  {
   "cell_type": "code",
   "execution_count": 73,
   "metadata": {
    "collapsed": false
   },
   "outputs": [],
   "source": [
    "kmeans_pred=kmeans.fit_predict(Tfidf_matrix)"
   ]
  },
  {
   "cell_type": "code",
   "execution_count": 74,
   "metadata": {
    "collapsed": false
   },
   "outputs": [
    {
     "data": {
      "text/plain": [
       "7"
      ]
     },
     "execution_count": 74,
     "metadata": {},
     "output_type": "execute_result"
    }
   ],
   "source": [
    "kmeans_pred[0]"
   ]
  },
  {
   "cell_type": "code",
   "execution_count": 75,
   "metadata": {
    "collapsed": false
   },
   "outputs": [
    {
     "data": {
      "text/plain": [
       "<matplotlib.collections.PathCollection at 0x14ae96390>"
      ]
     },
     "execution_count": 75,
     "metadata": {},
     "output_type": "execute_result"
    },
    {
     "data": {
      "image/png": "[encoded data removed]",
      "text/plain": [
       "<matplotlib.figure.Figure at 0x14ad89978>"
      ]
     },
     "metadata": {},
     "output_type": "display_data"
    }
   ],
   "source": [
    "plt.scatter(TFidf_matrix_PCA[:,0], TFidf_matrix_PCA[:,1], c=kmeans_pred)"
   ]
  },
  {
   "cell_type": "code",
   "execution_count": 76,
   "metadata": {
    "collapsed": true
   },
   "outputs": [],
   "source": [
    "cluster0=[]\n",
    "for i in range(10000):\n",
    "    if kmeans_pred[i]==0:\n",
    "        cluster0.append(data['title'][i])"
   ]
  },
  {
   "cell_type": "code",
   "execution_count": 77,
   "metadata": {
    "collapsed": false
   },
   "outputs": [
    {
     "data": {
      "text/plain": [
       "225"
      ]
     },
     "execution_count": 77,
     "metadata": {},
     "output_type": "execute_result"
    }
   ],
   "source": [
    "len(cluster0)"
   ]
  },
  {
   "cell_type": "code",
   "execution_count": 78,
   "metadata": {
    "collapsed": false
   },
   "outputs": [
    {
     "name": "stdout",
     "output_type": "stream",
     "text": [
      "['Heilongjiang', 'Muri bei Bern', 'Utrecht (province)', 'Samaná Province', 'Sierre', 'Saint-Maurice, Switzerland', 'Obwalden', 'Kreuzlingen', 'Diessenhofen', 'Amlikon-Bissegg', 'Mendrisio (district)', 'Glarus (city)', 'Morbio Inferiore', 'Vacallo', 'Homburg, Switzerland', 'Salenstein', 'Baden, Switzerland', 'Benzenschwil', 'Adelboden', 'Zeiningen', 'Buchs, Aargau', 'Kerns', 'Wiliberg', 'Wegenstetten', 'Tegerfelden', 'Staffelbach', 'Sisseln', 'Fischbach-Göslikon', 'Gränichen', 'Hallwil', 'Herznach', 'Holziken', 'Ittenthal', 'Killwangen', 'Pleujouse', 'Kölliken', 'Saint-Ursanne', 'Sarmenstorf', 'Biasca', 'Bioggio', 'Seleute', 'Boécourt', 'Mollis', 'Niederurnen', 'Campo (Blenio)', 'Cevio', 'Hirschaid', 'Giubiasco', 'Gnosca', 'Lavizzara', 'Lugaggia', 'Magadino', 'Manno', 'Novazzano', 'Onsernone', 'Porza', 'Saulcy', 'Torricella-Taverne', 'Valcolla', 'Vergeletto', 'Allmendingen bei Bern', 'Steinhausen, Switzerland', 'Bargen, Schaffhausen', 'Guntmadingen', 'Hemmental', 'Oberhallau', 'Ramsen', 'Däniken, Solothurn', 'Hägendorf', 'Lajoux', 'Neuendorf-Sachsenbande', 'Oensingen', 'Recherswil', 'Valverde Province', 'Rosenheim Rural District', 'Sánchez Ramírez Province', 'Brunnthal', 'Putzbrunn', 'Neuried, Bavaria', 'Aigle', 'Kuru, Finland', 'Lengnau, Berne', 'Wildhaus', 'Alveringem', 'Amel', 'Ans', 'Arlon', 'Beauraing', 'Beernem', 'Beersel', 'Blegny', 'Brakel', 'Bredene', 'Cerfontaine', 'Crisnée', 'Dendermonde', 'Diepenbeek', 'Dilsen-Stokkem', 'Étalle', 'Eupen', 'Galmaarden', 'Geraardsbergen', 'Hamois', 'Heist-op-den-Berg', 'Herstal', 'Heusden-Zolder', 'Hoegaarden', 'Honnelles', 'Ittre', 'Kapelle-op-den-Bos', 'Kluisbergen', 'Kruibeke', 'Laarne', 'Lanaken', 'Lasne', 'Lebbeke', 'Lier', 'Maasmechelen', 'Machelen', 'Malmedy', 'Middelkerke', 'Nivelles', 'Opwijk', 'Oudenaarde', 'Quaregnon', 'Ramillies', 'Ravels', 'Rendeux', 'Rumst', 'Saint-Ghislain', 'Scherpenheuvel-Zichem', 'Schoten', 'Somme-Leuze', 'Spa, Belgium', 'Ternat', 'Tessenderlo', 'Villers-le-Bouillet', 'Waasmunster', 'Wasseiges', 'Zele', 'Zelzate', 'Zingem', 'Zoutleeuw', 'Zwalm', 'Gimli', 'Seeheim-Jugenheim', 'Loma de Cabrera', 'Regnitzlosau', 'La Altagracia Province', 'María Trinidad Sánchez Province', 'Peravia Province', 'Waterloo, Belgium', 'Villablino', 'Neiba', 'Salvaleón de Higüey', 'Santiago', 'Davenport Municipal Airport', 'Kitakyushu Municipal Museum of Art', 'Telephone numbers in Albania', 'Saint-Gilles, Belgium', 'Palawan', 'Chur', 'Tidaholm Municipality', 'Skara Municipality', 'Karlskoga Municipality', 'Mora Municipality', 'Linköping Municipality', 'Piteå Municipality', 'Nastola', 'Hollola', 'Kärkölä', 'Hanko', 'Värnamo Municipality', 'Arboga Municipality', 'Ockelbo Municipality', 'Hofors Municipality', 'Överkalix Municipality', 'Bjurholm Municipality', 'Sorsele Municipality', 'Forshaga Municipality', 'Storfors Municipality', 'Säffle Municipality', 'Sundbyberg Municipality', 'Hällefors Municipality', 'Boxholm Municipality', 'Åtvidaberg Municipality', 'Varberg Municipality', 'Kungsbacka Municipality', 'Kungälv Municipality', 'Högsby Municipality', 'Bjuv Municipality', 'Ängelholm Municipality', 'Burlöv Municipality', 'Skurup Municipality', 'Tranemo Municipality', 'Grästorp Municipality', 'Yaracuy', 'Hirvensalmi', 'Honkajoki', 'Sauvo', 'Rautavaara', 'Lappajärvi', 'Kaustinen', 'Lavia', 'Rural Municipality of Brenda', 'Liestal', 'Belp', 'Bauen', 'Agarn', 'Brügg', 'Champoz', 'Göschenen', 'Deisswil bei Münchenbuchsee', 'Graben, Switzerland', 'Andiast', 'Gsteigwiler', 'Arvigo', 'Hasle bei Burgdorf', 'Doppleschwand', 'Hasle, Lucerne', 'Hindelbank', 'Bonaduz', 'Werthenstein', 'Ins, Switzerland', 'Gurzelen']\n"
     ]
    }
   ],
   "source": [
    "print(cluster0)"
   ]
  },
  {
   "cell_type": "code",
   "execution_count": 79,
   "metadata": {
    "collapsed": true
   },
   "outputs": [],
   "source": [
    "cluster1=[]\n",
    "for i in range(10000):\n",
    "    if kmeans_pred[i]==1:\n",
    "        cluster1.append(data['title'][i])"
   ]
  },
  {
   "cell_type": "code",
   "execution_count": 80,
   "metadata": {
    "collapsed": false
   },
   "outputs": [
    {
     "data": {
      "text/plain": [
       "586"
      ]
     },
     "execution_count": 80,
     "metadata": {},
     "output_type": "execute_result"
    }
   ],
   "source": [
    "len(cluster1)"
   ]
  },
  {
   "cell_type": "code",
   "execution_count": 81,
   "metadata": {
    "collapsed": false
   },
   "outputs": [
    {
     "name": "stdout",
     "output_type": "stream",
     "text": [
      "['Jazz', 'Samba', 'David Bowie', 'Alabama Song', 'Queen (band)', 'The Corrs', 'The Who', 'Round', 'Eminem', 'Adam Clayton', 'Mariah Carey', 'Jimmy Eat World', 'Johnny Nash', 'Ministry (band)', 'Mersey Beat', 'Tom Jones (singer)', 'Trent Reznor', 'Singer', 'Keyboardist', 'Dusty Springfield', 'Muse', 'Kiss (band)', 'Anne Murray', 'Anastacia', 'Jon Bon Jovi', 'Faith No More', 'The Pretenders', 'Reunion', 'Meat Puppets', 'Musical genre', 'Funk', 'My Fair Lady', 'The Jam', 'Yoshiki', 'Conducting', 'Counterpoint', 'Opus number', 'Concerto grosso', 'Basso continuo', 'Acoustic guitar', 'Orchestration', 'Dead Kennedys', 'Miri Ben-Ari', 'Nikolai Rimsky-Korsakov', 'Turbofolk', 'Belinda (entertainer)', 'Studio', 'MTV', 'Chad Kroeger', 'Ketsumeishi', 'Icon (disambiguation)', 'Jean Sibelius', 'Jermaine Jackson', 'Tom Evans', 'Harry Connick, Jr.', 'Talent', 'Symphonic poem', 'Protection', 'Viol', 'Camille Saint-Saëns', 'TVXQ', 'Oi!', 'Kiss (album)', 'Destroyer (album)', 'Animalize', 'Crazy Nights', 'Kiss Unplugged', 'Tomorrow Never Knows', 'Darkthrone', 'Sean Paul', 'The Exploited', '20th-century classical music', 'Nelly Furtado', 'Nelly', 'Soul music', 'Jack White', 'Wyolica', 'Glay', 'Ricky Martin', 'Spitz (band)', 'Again', 'Melinda Doolittle', 'Transcription', 'Philharmonia', 'Twist (dance)', 'Cover version', 'Darin Zanyar', 'Conservatoire de Paris', 'Boy (album)', 'Grime', 'Level 42', 'Achtung Baby', 'Fahrenheit (band)', 'Silverchair', 'Ernst Theodor Amadeus Hoffmann', 'Live at Wembley (album)', 'Alexey Ekimyan', 'Toccata', 'Nickel Creek', 'Louis Durey', 'Francis Poulenc', 'Destiny Fulfilled', 'Max Bruch', 'Minutes to Midnight', 'Spice (album)', 'Art Pepper', 'Ara Gevorgyan', 'Jon Brion', 'Pickup', 'Capitol Records', 'Stamp collector', 'Angus Young', 'Gigue', 'Adele', 'Adrian Willaert', 'Hot Club de Paris', 'Polydor Records', 'Space', 'Tokio Hotel', 'Dave Matthews Band', 'Voluntary (music)', 'Pretty. Odd.', 'The Only Difference Between Martyrdom and Suicide Is Press Coverage', '112 (band)', 'Shock Value (Timbaland album)', 'Stone Temple Pilots', 'Martin Luther McCoy', 'Finntroll', \"When It's All Over We Still Have to Clear Up\", 'Final Straw', 'Perspective', 'Tom DeLonge', 'Hijra', 'Thnks fr th Mmrs', 'Yellow Submarine', 'The Take Over, the Breaks Over', 'Abbey Road', 'Surfer Rosa', 'Innuendo (album)', 'Graduation (album)', 'Pressure (Paramore song)', 'George Winston', 'Skip James', 'Texas blues', 'Pillar (band)', 'Rent (musical)', 'Let Go', 'The Best Damn Tour – Live in Toronto', 'Keyshia Cole', 'Camp Rock', 'Eine kleine Nachtmusik', '1,039/Smoothed Out Slappy Hours', 'Robert Tear', 'Lena Katina', 'R. L. Burnside', 'Killswitch Engage', 'The Feeling', 'Dreamgirls', 'Wake Up Call (Maroon 5 song)', 'Darren Middleton', 'The Fratellis', 'Kerrang!', 'Bullet in a Bible', 'Scar Tissue', 'Cheryl Cole', 'Last.fm', 'Oklahoma! (musical)', \"Kill 'Em All\", 'The Judas Kiss', 'ReLoad', 'A-Sides', 'SST Records', 'Play My Music', 'The Vines', 'Junoon (band)', 'Yulia MacLean', 'Thousand Foot Krutch', 'Kreator', 'Years of Refusal', 'Hot N Cold', 'Morphine (band)', 'Cure for Pain', 'You Want It You Got It', 'On a Day Like Today', 'BBC Radio 1Xtra', 'Zoo Entertainment', 'Niki Fm', 'List of awards and nominations received by Bryan Adams', 'Apoptygma Berzerk', '808s & Heartbreak', 'Leon Jackson', 'I WiSH', 'Charles Wood', 'Marin Marais', 'Live from Le Cabaret', 'A Rush of Blood to the Head', 'Viva la Vida or Death and All His Friends', 'Shiver (Coldplay song)', \"Don't Panic (song)\", 'Yo-Yo Ma', 'Cloud Cult', 'Emanuel Feuermann', 'London Calling', 'Sampler (musical instrument)', 'Breakaway (song)', 'Inhuman Rampage', 'Madrid Symphony Orchestra', 'Scott Raynor', 'Arthur Nikisch', 'Wichita Recordings', 'The Streets', 'Tegan and Sara', 'The Lonely Island', 'Dire Straits', 'The Veronicas', 'Deadache', 'Hixxy', 'Ella Fitzgerald', 'Billie Holiday', 'Foghat', 'The Rite of Spring', \"Girls' Generation\", 'Bread (band)', 'Cop Killer (song)', 'Electric Avenue (song)', 'Brothers & Sisters (song)', 'Ace Frehley', 'Pansori', 'Luigi Cherubini', 'Tech N9ne', 'Josef Mysliveček', 'Alice DeeJay', 'William Boyce', 'Unwanted (Avril Lavigne song)', 'John Blow', 'Pelham Humfrey', 'Jean-Baptiste Lully', 'Roger Waters', 'London Bach Society', 'Bamba', 'Iyaz', 'Pinchas Zukerman', 'The Musical Offering', 'Deadmau5', 'Joey Tempest', 'The Sufferer & The Witness', 'Joe Principe', 'Led Zeppelin II', 'Johnny Clegg', 'E minor', 'F-sharp minor', 'B major', 'A-sharp minor', 'G-sharp major', 'The Zephyr Song', 'Unknown Hinson', 'Kingdom Records (UK)', 'Divididos', 'Adrian Edmondson', 'Ixnay on the Hombre', \"Mommy's Little Monster\", 'Young Concert Artists Trust', 'Sean Combs', 'Alternative country', 'Rob Zombie', 'God (John Lennon song)', \"Octopus's Garden\", 'Lennon/McCartney', 'Sun King (song)', 'Alan Gray', 'Keith Urban', 'The Masterplan (song)', '1979 (song)', 'Sverigetopplistan', 'I Me Mine', 'Keith Urban (1991 album)', 'The Only Easy Day Was Yesterday', 'Guildhall School of Music and Drama', 'Hamish MacCunn', 'Joanna Newsom', 'Hacavitz', 'Crystal Castles', 'Crystal Castles (album)', 'The Final Frontier', 'The Gaslight Anthem', 'Quinn Sullivan', 'Tunak Tunak Tun', 'Hound Dog (song)', 'Fastball', 'Protection (album)', 'Neneh Cherry', 'Heligoland (album)', 'My Bologna', 'I Want a New Duck', 'Money for Nothing/Beverly Hillbillies*', 'Bedrock Anthem', 'Trisha Yearwood', 'Base Ball Bear', 'Hands All Over (song)', 'Lee \"Scratch\" Perry', \"It's All About the Pentiums\", \"You're Pitiful\", 'Bang! Pow! Boom!', 'Powerslave', 'Twiztid', 'Patty Loveless', 'En Vogue', \"Booker T. & the M.G.'s\", 'Unwritten (song)', 'All Saints (group)', 'Bad Romance', 'Fefe Dobson', 'Hollerado', 'Indian music', 'Speed metal', 'Misery (Maroon 5 song)', 'Yothu Yindi', 'Remember When (Alan Jackson song)', \"It's On (Dr. Dre) 187um Killa\", 'One Step Closer', 'One-X', 'Life (Our Lady Peace song)', 'Is Anybody Home?', 'Total Metal', 'Stryper', 'Funk metal', 'Blues Music Award', 'Wicki-Hayden note layout', 'Unknown Pleasures', 'Closer (Joy Division album)', 'Conjure One', 'Rolling in the Deep', 'Preludes (Chopin)', 'Tilt Ya Head Back', \"'N' Dey Say\", 'Party People', 'Sweat (album)', 'Natalia Kills', 'Mother Mother', 'Melodica', 'Tommy Mottola', 'Entre A Mi Mundo', 'Selena y Los Dinos (album)', 'Unforgettable (series)', \"Till Eulenspiegel's Merry Pranks\", 'Kreayshawn', 'Alesana', 'Milan Smrčka', 'Aleš Brichta', 'Annie Lennox', 'Stripped', 'Freestyle music', 'Costumbres', 'Amame', 'Siempre Hace Frío', 'The Marshall Mathers LP', 'S&M Airlines', 'Through the Years/A Traves de los Años', 'You Lost Me', 'Tom Petty and the Heartbreakers', 'Ya Ves', 'La Tracalera', 'Dos Historias', 'Connectivity', 'Massari', 'Gym Class Heroes', 'Ivy Queen', 'Edmundo Ros', 'Already Gone', \"Rockin' Around the Christmas Tree\", 'The Ronettes', 'Winter Wonderland', 'Pretty Vacant', 'Captain & Tennille', 'Behind These Hazel Eyes', 'Tonight (Big Bang EP)', 'Dream pop', 'Big Bang (disambiguation)', 'Big Mama Thornton', 'Carey Bell', 'A cappella', 'Scat singing', 'Execution Tracks', 'Craig Owens', 'Ready to Die', 'Karma Police', 'The Miseducation of Lauryn Hill', 'The Five', 'Skylar Grey', 'Shad (rapper)', 'Kim Wilde', 'Bass (vocal range)', 'Evacuate the Dancefloor', 'Ensemble', 'Whenever, Wherever', 'Overexposed (album)', 'Tokio Hot 100', 'Woke Up This Morning', 'Celia Cruz', 'Bragi', 'Songs in A Minor', 'Telex (band)', 'U Remind Me', 'Confessions Part II', 'The Ballads (Mariah Carey album)', 'Donna Lewis', 'Blackstreet', 'Kitty Wells', 'Michael Bolton', 'Kumar Sanu', 'Raja Hindustani', 'Ani DiFranco', 'Bart Willoughby', 'Marina and the Diamonds', 'Frankie Yankovic', 'Ed Sheeran', 'Maths (song)', 'Strobe (song)', 'Immortal (band)', 'Layne Staley', 'Tracie Spencer', 'Screaming Trees', 'Leaving (EP)', 'Olly Murs', 'I Wanna Have Your Babies', 'Phyllis Hyman', 'Pizzicato Polka', 'Will.i.am', 'Violin Concerto (Beethoven)', 'Violin Concerto (Tchaikovsky)', 'Rock & Roll Jeopardy!', 'Goldberg Variations', 'The Wanted', 'Elis Regina', 'Black Gives Way to Blue', 'The Devil Put Dinosaurs Here', 'Decapitated (band)', 'Fools Garden', 'Underclass Hero', 'Electric violin', 'PBR&B', 'Tom Lehrer', 'Blind Melon', 'X (Kylie Minogue album)', 'Juice Newton', 'Duty Now for the Future', 'Sven-Ingvars', '2NE1', 'The King and I', 'Despina Vandi', 'Ludwig Rellstab', 'Gramophone (magazine)', 'Fingerboard', 'Dansbandskampen', 'Svensktoppen', 'Invaders Must Die (song)', 'Folsom Prison Blues', 'Valse triste', 'Funk Volume', 'Depart From Me', 'Playaz Circle', '5 Seconds of Summer', 'The Marshall Mathers LP 2', 'Janelle Monáe', 'Cristobal Tapia de Veer', 'Smile (Charlie Chaplin song)', 'Heaven Can Wait (Michael Jackson song)', 'Cee-Lo Green... Is the Soul Machine', 'Stan (song)', 'Little Earthquakes', 'No Ordinary Love', 'Acid Black Cherry', 'John Michael Montgomery', 'Earl Sweatshirt', 'Ella Eyre', 'Haim', '19 (album)', 'Yusef Lateef', \"Elisa's\", 'Zekes', 'Michael Jackson: The Immortal World Tour', 'My Story (R. Kelly song)', 'Agent Orange (band)', 'Pete Burns', 'Applause (Lady Gaga song)', 'John Newman', 'Ignition (Remix)', 'Alan Parsons', 'Mantura', 'Simón Díaz', 'American Idiot (song)', 'Sleigh Bells (band)', 'Thalia Zedek', 'Deeper and Deeper', 'Cocteau Twins', 'Mark Kozelek', 'Die Form', 'Arjen Anthony Lucassen', 'Renee Sands', 'Pat Green', 'Little Talks', 'Santeria (song)', 'Keep Yourself Alive', 'Stupid Girl', 'Gayageum', 'Liz Phair', 'Transvision Vamp', 'Presence (album)', 'Stop Crying Your Heart Out', 'John Michael Montgomery (album)', 'Maximum Overload', 'Idde Schultz', 'Jigs', 'Grönwalls', 'CC & Lee', 'Black Jack (band)', 'Sia Furler', 'Marianne Flynner', 'Janne Persson', 'Azerbaijani rock', 'Meghan Trainor', 'Anderson Bruford Wakeman Howe (album)', 'The Block', 'Liverpool 8', 'Allen Lanier', 'Pearl Records', 'Recess (album)', \"Trio me' Bumba\", 'Jimmy Ruffin', 'Some Hearts', 'Calling All Stations', 'Hughie Thomasson', 'Westside Connection', 'Claes Lövgrens', 'Darryl Jones', 'Mick Fleetwood', 'Jean-Jacques Perrey', 'These Boots Are Made For Walking', 'Summer Wine', 'Stefan Borsch', 'MTV Unplugged', 'Little Red Corvette', 'Mia Marianne och Per Filip', 'The Buffalo Club', 'Ice Ice Baby', 'Pedal steel guitar', 'Johnny \"Guitar\" Watson', 'Rolling Papers', 'Clockwork Angels', 'G.U.Y.', 'Rocka Rolla', 'List of musical instruments', 'Nada Se Compara Contigo', \"Real Muthaphuckkin G's\", 'No Diggity', \"Lil' Chris\", 'Range', 'Ms. Jackson', 'Stand by Me (song)', 'Enter the Wu-Tang (36 Chambers)', 'Meek Mill', 'Sammy Cahn', \"Number 1's (video)\", 'Hotter Than July', 'Dance Remixes', 'Dream Street (Janet Jackson album)', 'Ultimate Aaliyah', 'In My Mind', 'Christmas, with Love', 'Bright Lights (Matchbox Twenty song)', 'The Soul Sessions Vol. 2', 'Johnny Van Zant', 'Home (soundtrack)', 'The Return (Bathory album)', \"Sorry I'm Late (album)\", 'Aske (EP)', 'With a Song in My Heart (Stevie Wonder album)', 'Talking Book', 'Innervisions', \"Stevie Wonder's Journey through the Secret Life of Plants\", 'Conversation Peace', 'CBGB', 'Julia Holter', 'Thank You (Meghan Trainor album)', 'Jazz dance', 'Freddie Wadling']\n"
     ]
    }
   ],
   "source": [
    "print(cluster1)"
   ]
  },
  {
   "cell_type": "code",
   "execution_count": 82,
   "metadata": {
    "collapsed": true
   },
   "outputs": [],
   "source": [
    "cluster2=[]\n",
    "for i in range(10000):\n",
    "    if kmeans_pred[i]==2:\n",
    "        cluster2.append(data['title'][i])"
   ]
  },
  {
   "cell_type": "code",
   "execution_count": 83,
   "metadata": {
    "collapsed": false
   },
   "outputs": [
    {
     "name": "stdout",
     "output_type": "stream",
     "text": [
      "['Chess', 'Boss', 'Mario', 'Wario Land 4', 'Minesweeper (video game)', 'Solitaire', 'Half-Life (video game)', 'Gizmondo', 'Half-Life 2', 'Doom', 'Game show', 'Wii', 'Massively multiplayer online role-playing game', 'The Crystal Maze', 'Blockbusters', 'Asian Games', 'Yu-Gi-Oh!', 'Rock, paper, scissors', \"Des O'Connor\", 'N-Gage', 'Gear (disambiguation)', 'Sega Game Gear', 'Dirge of Cerberus: Final Fantasy VII', 'The Legend of Zelda (video game)', 'Genesis Nomad', 'SkyOS', 'Queen (chess)', 'Guys and Dolls', '1968 Summer Olympics', '1972 Summer Olympics', '1964 Winter Olympics', '1944 Summer Olympics', 'Airsoft', 'Jeu de paume', 'Pallone', 'Palla', 'Gunpei Yokoi', 'Guitar Hero (video game)', 'Omega', 'Pack-in game', 'Chuck Barris', 'Guitar Hero: On Tour', 'Ratchet & Clank (video game)', 'Ratchet & Clank: Going Commando', 'Tekken', 'Castle (disambiguation)', 'Space Invaders', 'Obsidian (disambiguation)', \"Smuggler's Run\", 'Fox Interactive', 'Super Mario Bros. Deluxe', 'Soulcalibur', 'Interactive fiction', 'Kirby: Canvas Curse', 'Wii Sports', 'Super Mario World', 'The Legend of Zelda: Four Swords Adventures', 'Eiji Aonuma', 'Mankind', 'Wii Balance Board', 'Super Punch-Out!! (Super NES)', \"Kirby's Adventure\", 'Pikmin (series)', 'Mega Man X2', 'National Hockey League rules', 'Maxis', 'High School Musical 3: Senior Year DANCE!', 'Trauma Center: New Blood', 'Music video game', 'Atari Jaguar', 'Game (food)', 'The Fool (Tarot card)', 'FM Towns Marty', 'Duke Nukem 3D', 'Fable II', 'List of video games featuring Mario', 'Crash Bandicoot 2: Cortex Strikes Back', 'Tournament', 'Destroy All Humans! Path of the Furon', 'The Simpsons Hit & Run', 'Star Wars: Dark Forces', 'Video game content rating system', 'Xevious', 'NBA Live 10', 'ColecoVision', '2012 Winter Youth Olympics', 'No More Heroes (video game)', \"The Sims Bustin' Out\", 'Kill.switch', 'Fallout (video game)', 'Avatar: The Last Airbender - Into the Inferno', 'The Last Airbender (video game)', '2010 Commonwealth Games', 'Civilization III', 'Crash Bash', 'Tim Leveque', 'NHL 12', 'Namibia at the Olympics', 'Seychelles at the Olympics', 'Uganda at the Olympics', 'Ecuador at the Olympics', \"White Men Can't Jump (video game)\", 'Online game', 'Guyana at the Olympics', 'Paraguay at the Olympics', 'Saint Kitts and Nevis at the Olympics', 'Philippines at the Olympics', 'Saudi Arabia at the Olympics', 'Stuntman (video game)', 'Gran Turismo (PlayStation Portable)', 'Bang!', 'The Lurking Horror', 'Israel at the Olympics', 'Slovenia at the Olympics', 'Virgin Interactive', 'Fallout: New Vegas', 'Final Doom', '2014 Commonwealth Games', 'Naoto Ōshima', '10NES', 'Naughty Dog', 'Game artist', 'Crash Twinsanity', 'Brian Anderson (sportscaster)', 'Vin Scully', 'Spero Dedes', \"Dave O'Brien\", 'Dan Miller', 'Denmark at the 1996 Summer Paralympics', '2052', 'Mario Kart Arcade GP', \"Kirby's Epic Yarn\", \"Donkey Kong Country 3: Dixie Kong's Double Trouble!\", 'Mega Man 10', \"Mega Man: Dr. Wily's Revenge\", 'Sora (Kingdom Hearts)', 'M.U.G.E.N.', 'Banjo-Tooie', 'Donkey Kong Jungle Beat', 'Star Fox: Assault', \"Kirby's Pinball Land\", 'Star Fox Adventures', 'Tiny Wings', 'Nintendo e-Reader', 'Mario Party DS', 'Mario Party 8', 'Mario Kart 8', 'Jeopardy! College Championship', 'Dota 2', 'Mario Party: Island Tour', 'Diddy Kong Racing', 'WWE SmackDown! Here Comes the Pain', 'NHL 13', 'Driveclub', 'Doctor Eggman', 'Penny Arcade', 'ECW Anarchy Rulz (video game)', 'Silent Hill: Downpour', 'Sly Cooper (series)', 'NHL 07', '2015 Pan American Games', 'Gamebook', 'Power kracker', 'Daniel Castellani', 'Twitch.tv', 'Fallout 4', '2015-16 Golden State Warriors season']\n"
     ]
    }
   ],
   "source": [
    "print(cluster2)"
   ]
  },
  {
   "cell_type": "code",
   "execution_count": null,
   "metadata": {
    "collapsed": true
   },
   "outputs": [],
   "source": []
  }
 ],
 "metadata": {
  "anaconda-cloud": {},
  "kernelspec": {
   "display_name": "Python [Root]",
   "language": "python",
   "name": "Python [Root]"
  },
  "language_info": {
   "codemirror_mode": {
    "name": "ipython",
    "version": 3
   },
   "file_extension": ".py",
   "mimetype": "text/x-python",
   "name": "python",
   "nbconvert_exporter": "python",
   "pygments_lexer": "ipython3",
   "version": "3.5.1"
  }
 },
 "nbformat": 4,
 "nbformat_minor": 0
}
